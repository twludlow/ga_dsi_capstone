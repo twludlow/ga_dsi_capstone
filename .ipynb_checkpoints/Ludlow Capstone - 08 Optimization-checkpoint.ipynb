{
 "cells": [
  {
   "cell_type": "markdown",
   "metadata": {},
   "source": [
    "# Capstone: Text Factorizing with NLP\n",
    "## Thomas Ludlow"
   ]
  },
  {
   "cell_type": "markdown",
   "metadata": {},
   "source": [
    "# 08 - Model Optimization"
   ]
  },
  {
   "cell_type": "markdown",
   "metadata": {},
   "source": [
    "This notebook contains the optimization loops for the Corpus EDA, Gensim LDA topic model, and  Keras FFRNN model.  Parameters and Hyperparameters to optimize include:\n",
    "\n",
    "- **Corpus EDA**\n",
    "  - Number of works\n",
    "  - Class balance\n",
    "\n",
    "- **Gensim LDA**\n",
    "  - Number of topics\n",
    "  - Update frequency\n",
    "  - Chunksize\n",
    "  - Number of passes\n",
    "  - Alpha\n",
    "  - _Metrics_\n",
    "    - Log Perplexity (Minimize)\n",
    "    - Coherence (Maximize)\n",
    "\n",
    "- **Keras FFRNN**\n",
    "  - Network topology\n",
    "    - Number of hidden layers\n",
    "    - Number of nodes per layer\n",
    "  - Dropout percentage\n",
    "  - Early stopping patience\n",
    "  - Number of epochs\n",
    "  - _Metrics_\n",
    "    - Model Loss (Minimize)\n",
    "    - Model Accuracy (Maximize)\n",
    "    - Bumper Sticker Accuracy (Maximize)"
   ]
  },
  {
   "cell_type": "markdown",
   "metadata": {},
   "source": [
    "**Libraries**"
   ]
  },
  {
   "cell_type": "code",
   "execution_count": 3,
   "metadata": {},
   "outputs": [],
   "source": [
    "# Python Data Science\n",
    "import re\n",
    "import time\n",
    "import numpy as np\n",
    "import pandas as pd\n",
    "from tqdm import tqdm\n",
    "\n",
    "# Natural Language Processing\n",
    "import spacy\n",
    "import gensim\n",
    "import pyLDAvis.gensim\n",
    "from gensim.corpora import Dictionary\n",
    "from gensim.models import TfidfModel, ldamodel, ldamulticore, CoherenceModel\n",
    "\n",
    "# Modeling Prep\n",
    "from sklearn.model_selection import train_test_split, cross_val_score\n",
    "from sklearn.preprocessing import StandardScaler\n",
    "from sklearn.externals import joblib\n",
    "\n",
    "# Neural Net\n",
    "import keras\n",
    "import tensorflow as tf\n",
    "from keras.models import Sequential\n",
    "from keras.layers import Dense, Activation, Dropout\n",
    "from keras.callbacks import EarlyStopping\n",
    "\n",
    "# Plotting\n",
    "import matplotlib.pyplot as plt\n",
    "%matplotlib inline\n",
    "\n",
    "# Override deprecation warnings\n",
    "import warnings\n",
    "warnings.filterwarnings(\"ignore\",category=DeprecationWarning)"
   ]
  },
  {
   "cell_type": "markdown",
   "metadata": {},
   "source": [
    "## Gensim LDA Optimizer"
   ]
  },
  {
   "cell_type": "markdown",
   "metadata": {},
   "source": [
    "- Number of topics `num_topics=`\n",
    "  - `[8,12,16,20,40,100,400]`\n",
    "- Update frequency `update_every=`\n",
    "  - `[1,2]`\n",
    "- Chunksize `chunksize=`\n",
    "  - half, quarter, eighth, sixteenth\n",
    "- Number of passes `passes=`\n",
    "  - `[1,2,4]`\n",
    "- Alpha `alpha=`\n",
    "  - `'symmetric'`\n",
    "  - `'asymmetric'`\n",
    "- _Metrics_\n",
    "  - Log Perplexity (Minimize)\n",
    "  - Coherence (Maximize)"
   ]
  },
  {
   "cell_type": "code",
   "execution_count": 4,
   "metadata": {},
   "outputs": [],
   "source": [
    "num_sentences = 16000\n",
    "\n",
    "half = num_sentences/2\n",
    "quarter = num_sentences/4\n",
    "eighth = num_sentences/8\n",
    "sixteenth = num_sentences/16\n",
    "\n",
    "lda_params = {\n",
    "    'num_topics':[8,16,40,100,400],\n",
    "    'update_every':[1,2,4],\n",
    "    'chunksize':[half,quarter,eighth,sixteenth],\n",
    "    'passes':[1,2,4],\n",
    "    'alpha':['symmetric','asymmetric']\n",
    "}"
   ]
  },
  {
   "cell_type": "code",
   "execution_count": null,
   "metadata": {},
   "outputs": [],
   "source": []
  }
 ],
 "metadata": {
  "kernelspec": {
   "display_name": "Environment (conda_tensorflow_p36)",
   "language": "python",
   "name": "conda_tensorflow_p36"
  },
  "language_info": {
   "codemirror_mode": {
    "name": "ipython",
    "version": 3
   },
   "file_extension": ".py",
   "mimetype": "text/x-python",
   "name": "python",
   "nbconvert_exporter": "python",
   "pygments_lexer": "ipython3",
   "version": "3.6.5"
  }
 },
 "nbformat": 4,
 "nbformat_minor": 2
}
