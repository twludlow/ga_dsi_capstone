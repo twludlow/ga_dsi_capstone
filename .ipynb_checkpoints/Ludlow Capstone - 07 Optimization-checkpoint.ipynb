{
 "cells": [
  {
   "cell_type": "markdown",
   "metadata": {},
   "source": [
    "# Capstone: Text Factorizing with NLP\n",
    "## Thomas Ludlow"
   ]
  },
  {
   "cell_type": "markdown",
   "metadata": {},
   "source": [
    "# 07 - Model Optimization"
   ]
  },
  {
   "cell_type": "markdown",
   "metadata": {},
   "source": [
    "This notebook contains the optimization loops for the Corpus EDA, Gensim LDA topic model, and  Keras FFRNN model.  Parameters and Hyperparameters to optimize include:\n",
    "\n",
    "- **Corpus EDA**\n",
    "  - Number of works\n",
    "  - Class balance\n",
    "\n",
    "- **Gensim LDA**\n",
    "  - Number of topics\n",
    "  - Update frequency\n",
    "  - Chunksize\n",
    "  - Number of passes\n",
    "  - Alpha\n",
    "  - _Metrics_\n",
    "    - Log Perplexity (Minimize)\n",
    "    - Coherence (Maximize)\n",
    "\n",
    "- **Keras FFRNN**\n",
    "  - Network topology\n",
    "    - Number of hidden layers\n",
    "    - Number of nodes per layer\n",
    "  - Dropout percentage\n",
    "  - Early stopping patience\n",
    "  - Number of epochs\n",
    "  - _Metrics_\n",
    "    - Model Loss (Minimize)\n",
    "    - Model Accuracy (Maximize)\n",
    "    - Bumper Sticker Accuracy (Maximize)"
   ]
  },
  {
   "cell_type": "code",
   "execution_count": null,
   "metadata": {},
   "outputs": [],
   "source": []
  }
 ],
 "metadata": {
  "kernelspec": {
   "display_name": "python3_ds_nn [conda env:root]",
   "language": "python",
   "name": "conda-root-python3_ds_nn"
  },
  "language_info": {
   "codemirror_mode": {
    "name": "ipython",
    "version": 3
   },
   "file_extension": ".py",
   "mimetype": "text/x-python",
   "name": "python",
   "nbconvert_exporter": "python",
   "pygments_lexer": "ipython3",
   "version": "3.6.8"
  }
 },
 "nbformat": 4,
 "nbformat_minor": 2
}
