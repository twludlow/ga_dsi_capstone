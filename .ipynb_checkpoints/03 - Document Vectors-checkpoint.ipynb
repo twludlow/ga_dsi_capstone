{
 "cells": [
  {
   "cell_type": "markdown",
   "metadata": {},
   "source": [
    "# Capstone: Philosophical Factors for NLP\n",
    "**_Measuring Similarity to Philosophical Concepts in Text Data_**\n",
    "\n",
    "## Thomas W. Ludlow, Jr.\n",
    "**General Assembly Data Science Immersive DSI-NY-6**\n",
    "\n",
    "**February 12, 2019**"
   ]
  },
  {
   "cell_type": "markdown",
   "metadata": {},
   "source": [
    "# Notebook 3 - Document Vectors"
   ]
  },
  {
   "cell_type": "markdown",
   "metadata": {},
   "source": [
    "### Table of Contents"
   ]
  },
  {
   "cell_type": "markdown",
   "metadata": {},
   "source": [
    "[**3.1 Gensim Doc2Vec**](#3.1-Gensim-Doc2Vec)\n",
    "- [3.1.1 Create Tagged Documents](#3.1.1-Create-Tagged-Documents)\n",
    "- [3.1.2 Build Doc2Vec Models](#3.1.2-Build-Doc2Vec-Models)\n",
    "\n",
    "[**3.2 Doc2Vec Features for Corpora**](#3.2-Doc2Vec-Features-for-Corpora)"
   ]
  },
  {
   "cell_type": "markdown",
   "metadata": {},
   "source": [
    "**Libraries**"
   ]
  },
  {
   "cell_type": "code",
   "execution_count": 2,
   "metadata": {},
   "outputs": [],
   "source": [
    "# Python Data Science\n",
    "import re\n",
    "import ast\n",
    "import time\n",
    "import pickle\n",
    "import numpy as np\n",
    "import pandas as pd\n",
    "from tqdm import tqdm_notebook as tqdm\n",
    "\n",
    "# Natural Language Processing\n",
    "import spacy\n",
    "from nltk.stem import PorterStemmer\n",
    "\n",
    "# Gensim\n",
    "import gensim\n",
    "import gensim.downloader as api\n",
    "from gensim.corpora import Dictionary\n",
    "from gensim.models import TfidfModel, ldamulticore, CoherenceModel\n",
    "from gensim.models.word2vec import Word2Vec\n",
    "from gensim.models.doc2vec import Doc2Vec, TaggedDocument\n",
    "import pyLDAvis.gensim\n",
    "\n",
    "# Modeling Prep\n",
    "from sklearn.preprocessing import StandardScaler\n",
    "from sklearn.externals import joblib\n",
    "\n",
    "# Plotting\n",
    "import matplotlib.pyplot as plt\n",
    "%matplotlib inline\n",
    "\n",
    "# Override deprecation warnings\n",
    "import warnings\n",
    "warnings.filterwarnings(\"ignore\",category=DeprecationWarning)"
   ]
  },
  {
   "cell_type": "markdown",
   "metadata": {},
   "source": [
    "## 3.1 Gensim Doc2Vec"
   ]
  },
  {
   "cell_type": "markdown",
   "metadata": {},
   "source": [
    "**Load Preprocessed Text Data**"
   ]
  },
  {
   "cell_type": "code",
   "execution_count": 3,
   "metadata": {},
   "outputs": [],
   "source": [
    "nlp_df = pd.read_csv('../ga_dsi_capstone_ec2only/data_eda/nlp_df.csv')\n",
    "t_nlp_df = pd.read_csv('../ga_dsi_capstone_ec2only/data_eda/t_nlp_df.csv')"
   ]
  },
  {
   "cell_type": "code",
   "execution_count": 4,
   "metadata": {},
   "outputs": [],
   "source": [
    "text8_corpus = api.load('text8')"
   ]
  },
  {
   "cell_type": "code",
   "execution_count": 6,
   "metadata": {},
   "outputs": [],
   "source": [
    "text8_data = [d for d in text8_corpus]"
   ]
  },
  {
   "cell_type": "code",
   "execution_count": 13,
   "metadata": {},
   "outputs": [],
   "source": [
    "wiki_corpus = api.load('wiki-english-20171001')"
   ]
  },
  {
   "cell_type": "code",
   "execution_count": 14,
   "metadata": {},
   "outputs": [],
   "source": [
    "wiki_data = [d for d in tqdm(wiki_corpus)]"
   ]
  },
  {
   "cell_type": "markdown",
   "metadata": {},
   "source": [
    "### 3.1.1 Create Tagged Documents"
   ]
  },
  {
   "cell_type": "code",
   "execution_count": 7,
   "metadata": {},
   "outputs": [],
   "source": [
    "def create_tagged_document(list_of_list_of_words):\n",
    "    for i, list_of_words in enumerate(list_of_list_of_words):\n",
    "        yield gensim.models.doc2vec.TaggedDocument(list_of_words, [i])"
   ]
  },
  {
   "cell_type": "code",
   "execution_count": 15,
   "metadata": {},
   "outputs": [],
   "source": [
    "wiki_tag = list(create_tagged_document(wiki_data))"
   ]
  },
  {
   "cell_type": "code",
   "execution_count": 16,
   "metadata": {
    "scrolled": true
   },
   "outputs": [
    {
     "data": {
      "text/plain": [
       "4924894"
      ]
     },
     "execution_count": 16,
     "metadata": {},
     "output_type": "execute_result"
    }
   ],
   "source": [
    "len(wiki_tag)"
   ]
  },
  {
   "cell_type": "markdown",
   "metadata": {},
   "source": [
    "**Sentence Vectors**"
   ]
  },
  {
   "cell_type": "code",
   "execution_count": 17,
   "metadata": {},
   "outputs": [],
   "source": [
    "d2v_s = gensim.models.doc2vec.Doc2Vec(vector_size=32, min_count=2, epochs=5)"
   ]
  },
  {
   "cell_type": "code",
   "execution_count": 18,
   "metadata": {},
   "outputs": [],
   "source": [
    "d2v_s.build_vocab(wiki_tag)"
   ]
  },
  {
   "cell_type": "markdown",
   "metadata": {},
   "source": [
    "**Paragraph Vectors**"
   ]
  },
  {
   "cell_type": "code",
   "execution_count": 23,
   "metadata": {},
   "outputs": [],
   "source": [
    "d2v_p = gensim.models.doc2vec.Doc2Vec(vector_size=16, min_count=2, epochs=5)"
   ]
  },
  {
   "cell_type": "code",
   "execution_count": 24,
   "metadata": {},
   "outputs": [],
   "source": [
    "d2v_p.build_vocab(wiki_tag)"
   ]
  },
  {
   "cell_type": "markdown",
   "metadata": {},
   "source": [
    "### 3.1.2 Build Doc2Vec Models"
   ]
  },
  {
   "cell_type": "markdown",
   "metadata": {},
   "source": [
    "**Sentence Model**"
   ]
  },
  {
   "cell_type": "code",
   "execution_count": 19,
   "metadata": {},
   "outputs": [],
   "source": [
    "d2v_s.train(wiki_tag, total_examples=d2v_s.corpus_count, epochs=d2v_s.epochs)"
   ]
  },
  {
   "cell_type": "code",
   "execution_count": 20,
   "metadata": {},
   "outputs": [],
   "source": [
    "d2v_s_vecs = []\n",
    "\n",
    "for sent_vec in [ast.literal_eval(sent) for sent in nlp_df.sent_lemma]:\n",
    "    d2v_s_vecs.append(d2v_s.infer_vector(sent_vec))"
   ]
  },
  {
   "cell_type": "code",
   "execution_count": 21,
   "metadata": {},
   "outputs": [
    {
     "data": {
      "text/plain": [
       "70922"
      ]
     },
     "execution_count": 21,
     "metadata": {},
     "output_type": "execute_result"
    }
   ],
   "source": [
    "len(d2v_s_vecs)"
   ]
  },
  {
   "cell_type": "code",
   "execution_count": 22,
   "metadata": {},
   "outputs": [
    {
     "data": {
      "text/plain": [
       "32"
      ]
     },
     "execution_count": 22,
     "metadata": {},
     "output_type": "execute_result"
    }
   ],
   "source": [
    "len(d2v_s_vecs[0])"
   ]
  },
  {
   "cell_type": "code",
   "execution_count": 26,
   "metadata": {},
   "outputs": [
    {
     "data": {
      "text/plain": [
       "array([ 0.00124884,  0.00621537,  0.00584457,  0.00590125, -0.00437186,\n",
       "        0.01183683,  0.01327725, -0.0145961 ,  0.00701683,  0.00531668,\n",
       "       -0.00293273,  0.00560657, -0.01105577, -0.00042761, -0.0018066 ,\n",
       "       -0.00269347,  0.00098871,  0.00815305,  0.01341378,  0.01553244,\n",
       "       -0.00085134,  0.00450879,  0.01245038,  0.01457626,  0.00062826,\n",
       "       -0.00885144,  0.0100125 ,  0.00058006, -0.0074619 ,  0.00418023,\n",
       "        0.01027068,  0.01424398], dtype=float32)"
      ]
     },
     "execution_count": 26,
     "metadata": {},
     "output_type": "execute_result"
    }
   ],
   "source": [
    "d2v_s_vecs[0]"
   ]
  },
  {
   "cell_type": "markdown",
   "metadata": {},
   "source": [
    "Testing Text"
   ]
  },
  {
   "cell_type": "code",
   "execution_count": 42,
   "metadata": {},
   "outputs": [],
   "source": [
    "t_d2v_s_vecs = []\n",
    "\n",
    "for sent_vec in [ast.literal_eval(sent) for sent in t_nlp_df.sent_lemma]:\n",
    "    t_d2v_s_vecs.append(d2v_s.infer_vector(sent_vec))"
   ]
  },
  {
   "cell_type": "code",
   "execution_count": 43,
   "metadata": {},
   "outputs": [
    {
     "data": {
      "text/plain": [
       "8395"
      ]
     },
     "execution_count": 43,
     "metadata": {},
     "output_type": "execute_result"
    }
   ],
   "source": [
    "len(t_d2v_s_vecs)"
   ]
  },
  {
   "cell_type": "code",
   "execution_count": 44,
   "metadata": {},
   "outputs": [
    {
     "data": {
      "text/plain": [
       "32"
      ]
     },
     "execution_count": 44,
     "metadata": {},
     "output_type": "execute_result"
    }
   ],
   "source": [
    "len(t_d2v_s_vecs[0])"
   ]
  },
  {
   "cell_type": "markdown",
   "metadata": {},
   "source": [
    "**Paragraph Model**"
   ]
  },
  {
   "cell_type": "code",
   "execution_count": 25,
   "metadata": {},
   "outputs": [],
   "source": [
    "d2v_p.train(wiki_tag, total_examples=d2v_p.corpus_count, epochs=d2v_p.epochs)"
   ]
  },
  {
   "cell_type": "code",
   "execution_count": 27,
   "metadata": {},
   "outputs": [],
   "source": [
    "d2v_p_vecs = []\n",
    "\n",
    "for par_vec in [ast.literal_eval(par) for par in nlp_df.par_lemma]:\n",
    "    d2v_p_vecs.append(d2v_p.infer_vector(par_vec))"
   ]
  },
  {
   "cell_type": "code",
   "execution_count": 28,
   "metadata": {},
   "outputs": [
    {
     "data": {
      "text/plain": [
       "70922"
      ]
     },
     "execution_count": 28,
     "metadata": {},
     "output_type": "execute_result"
    }
   ],
   "source": [
    "len(d2v_p_vecs)"
   ]
  },
  {
   "cell_type": "code",
   "execution_count": 29,
   "metadata": {},
   "outputs": [
    {
     "data": {
      "text/plain": [
       "16"
      ]
     },
     "execution_count": 29,
     "metadata": {},
     "output_type": "execute_result"
    }
   ],
   "source": [
    "len(d2v_p_vecs[0])"
   ]
  },
  {
   "cell_type": "markdown",
   "metadata": {},
   "source": [
    "Testing Text"
   ]
  },
  {
   "cell_type": "code",
   "execution_count": 39,
   "metadata": {},
   "outputs": [],
   "source": [
    "t_d2v_p_vecs = []\n",
    "\n",
    "for par_vec in [ast.literal_eval(par) for par in t_nlp_df.par_lemma]:\n",
    "    t_d2v_p_vecs.append(d2v_p.infer_vector(par_vec))"
   ]
  },
  {
   "cell_type": "code",
   "execution_count": 40,
   "metadata": {},
   "outputs": [
    {
     "data": {
      "text/plain": [
       "8395"
      ]
     },
     "execution_count": 40,
     "metadata": {},
     "output_type": "execute_result"
    }
   ],
   "source": [
    "len(t_d2v_p_vecs)"
   ]
  },
  {
   "cell_type": "code",
   "execution_count": 41,
   "metadata": {},
   "outputs": [
    {
     "data": {
      "text/plain": [
       "16"
      ]
     },
     "execution_count": 41,
     "metadata": {},
     "output_type": "execute_result"
    }
   ],
   "source": [
    "len(t_d2v_p_vecs[0])"
   ]
  },
  {
   "cell_type": "markdown",
   "metadata": {},
   "source": [
    "## 3.2 Doc2Vec Features for Corpora"
   ]
  },
  {
   "cell_type": "code",
   "execution_count": 30,
   "metadata": {},
   "outputs": [],
   "source": [
    "# Feature names\n",
    "s_vec_cols = ['s_vec_'+str(i) for i in range(len(d2v_s_vecs[0]))]\n",
    "p_vec_cols = ['p_vec_'+str(j) for j in range(len(d2v_p_vecs[0]))]"
   ]
  },
  {
   "cell_type": "code",
   "execution_count": 33,
   "metadata": {},
   "outputs": [
    {
     "data": {
      "text/html": [
       "<div>\n",
       "<style scoped>\n",
       "    .dataframe tbody tr th:only-of-type {\n",
       "        vertical-align: middle;\n",
       "    }\n",
       "\n",
       "    .dataframe tbody tr th {\n",
       "        vertical-align: top;\n",
       "    }\n",
       "\n",
       "    .dataframe thead th {\n",
       "        text-align: right;\n",
       "    }\n",
       "</style>\n",
       "<table border=\"1\" class=\"dataframe\">\n",
       "  <thead>\n",
       "    <tr style=\"text-align: right;\">\n",
       "      <th></th>\n",
       "      <th>s_vec_0</th>\n",
       "      <th>s_vec_1</th>\n",
       "      <th>s_vec_2</th>\n",
       "      <th>s_vec_3</th>\n",
       "      <th>s_vec_4</th>\n",
       "      <th>s_vec_5</th>\n",
       "      <th>s_vec_6</th>\n",
       "      <th>s_vec_7</th>\n",
       "      <th>s_vec_8</th>\n",
       "      <th>s_vec_9</th>\n",
       "      <th>...</th>\n",
       "      <th>s_vec_22</th>\n",
       "      <th>s_vec_23</th>\n",
       "      <th>s_vec_24</th>\n",
       "      <th>s_vec_25</th>\n",
       "      <th>s_vec_26</th>\n",
       "      <th>s_vec_27</th>\n",
       "      <th>s_vec_28</th>\n",
       "      <th>s_vec_29</th>\n",
       "      <th>s_vec_30</th>\n",
       "      <th>s_vec_31</th>\n",
       "    </tr>\n",
       "  </thead>\n",
       "  <tbody>\n",
       "    <tr>\n",
       "      <th>0</th>\n",
       "      <td>0.001249</td>\n",
       "      <td>0.006215</td>\n",
       "      <td>0.005845</td>\n",
       "      <td>0.005901</td>\n",
       "      <td>-0.004372</td>\n",
       "      <td>0.011837</td>\n",
       "      <td>0.013277</td>\n",
       "      <td>-0.014596</td>\n",
       "      <td>0.007017</td>\n",
       "      <td>0.005317</td>\n",
       "      <td>...</td>\n",
       "      <td>0.012450</td>\n",
       "      <td>0.014576</td>\n",
       "      <td>0.000628</td>\n",
       "      <td>-0.008851</td>\n",
       "      <td>0.010013</td>\n",
       "      <td>0.000580</td>\n",
       "      <td>-0.007462</td>\n",
       "      <td>0.004180</td>\n",
       "      <td>0.010271</td>\n",
       "      <td>0.014244</td>\n",
       "    </tr>\n",
       "    <tr>\n",
       "      <th>1</th>\n",
       "      <td>0.003242</td>\n",
       "      <td>-0.000672</td>\n",
       "      <td>0.013260</td>\n",
       "      <td>0.007940</td>\n",
       "      <td>0.002701</td>\n",
       "      <td>-0.003546</td>\n",
       "      <td>-0.000863</td>\n",
       "      <td>-0.013519</td>\n",
       "      <td>0.000382</td>\n",
       "      <td>-0.002663</td>\n",
       "      <td>...</td>\n",
       "      <td>0.000376</td>\n",
       "      <td>-0.013639</td>\n",
       "      <td>0.013421</td>\n",
       "      <td>0.001214</td>\n",
       "      <td>0.000620</td>\n",
       "      <td>0.007250</td>\n",
       "      <td>0.000034</td>\n",
       "      <td>0.005984</td>\n",
       "      <td>0.010108</td>\n",
       "      <td>-0.010874</td>\n",
       "    </tr>\n",
       "    <tr>\n",
       "      <th>2</th>\n",
       "      <td>-0.013009</td>\n",
       "      <td>0.013532</td>\n",
       "      <td>0.004053</td>\n",
       "      <td>0.011666</td>\n",
       "      <td>0.013006</td>\n",
       "      <td>-0.001418</td>\n",
       "      <td>-0.008270</td>\n",
       "      <td>0.013281</td>\n",
       "      <td>-0.015108</td>\n",
       "      <td>0.013458</td>\n",
       "      <td>...</td>\n",
       "      <td>-0.000713</td>\n",
       "      <td>-0.014569</td>\n",
       "      <td>0.011763</td>\n",
       "      <td>0.012487</td>\n",
       "      <td>-0.007188</td>\n",
       "      <td>-0.008616</td>\n",
       "      <td>0.004941</td>\n",
       "      <td>0.011405</td>\n",
       "      <td>-0.001922</td>\n",
       "      <td>0.006328</td>\n",
       "    </tr>\n",
       "    <tr>\n",
       "      <th>3</th>\n",
       "      <td>-0.010679</td>\n",
       "      <td>-0.002560</td>\n",
       "      <td>-0.004422</td>\n",
       "      <td>0.012446</td>\n",
       "      <td>0.008916</td>\n",
       "      <td>0.005347</td>\n",
       "      <td>0.011207</td>\n",
       "      <td>0.010528</td>\n",
       "      <td>0.010795</td>\n",
       "      <td>0.012482</td>\n",
       "      <td>...</td>\n",
       "      <td>0.005158</td>\n",
       "      <td>-0.012275</td>\n",
       "      <td>-0.015438</td>\n",
       "      <td>-0.005364</td>\n",
       "      <td>0.007497</td>\n",
       "      <td>0.015009</td>\n",
       "      <td>0.005901</td>\n",
       "      <td>-0.002879</td>\n",
       "      <td>0.006861</td>\n",
       "      <td>0.008418</td>\n",
       "    </tr>\n",
       "    <tr>\n",
       "      <th>4</th>\n",
       "      <td>0.006584</td>\n",
       "      <td>0.011894</td>\n",
       "      <td>-0.002948</td>\n",
       "      <td>-0.002465</td>\n",
       "      <td>-0.007765</td>\n",
       "      <td>0.002303</td>\n",
       "      <td>0.014071</td>\n",
       "      <td>0.005065</td>\n",
       "      <td>0.006366</td>\n",
       "      <td>-0.013893</td>\n",
       "      <td>...</td>\n",
       "      <td>-0.012635</td>\n",
       "      <td>-0.011083</td>\n",
       "      <td>0.011310</td>\n",
       "      <td>-0.008306</td>\n",
       "      <td>-0.010435</td>\n",
       "      <td>0.001199</td>\n",
       "      <td>0.000483</td>\n",
       "      <td>-0.005632</td>\n",
       "      <td>-0.001226</td>\n",
       "      <td>-0.014103</td>\n",
       "    </tr>\n",
       "  </tbody>\n",
       "</table>\n",
       "<p>5 rows × 32 columns</p>\n",
       "</div>"
      ],
      "text/plain": [
       "    s_vec_0   s_vec_1   s_vec_2   s_vec_3   s_vec_4   s_vec_5   s_vec_6  \\\n",
       "0  0.001249  0.006215  0.005845  0.005901 -0.004372  0.011837  0.013277   \n",
       "1  0.003242 -0.000672  0.013260  0.007940  0.002701 -0.003546 -0.000863   \n",
       "2 -0.013009  0.013532  0.004053  0.011666  0.013006 -0.001418 -0.008270   \n",
       "3 -0.010679 -0.002560 -0.004422  0.012446  0.008916  0.005347  0.011207   \n",
       "4  0.006584  0.011894 -0.002948 -0.002465 -0.007765  0.002303  0.014071   \n",
       "\n",
       "    s_vec_7   s_vec_8   s_vec_9    ...     s_vec_22  s_vec_23  s_vec_24  \\\n",
       "0 -0.014596  0.007017  0.005317    ...     0.012450  0.014576  0.000628   \n",
       "1 -0.013519  0.000382 -0.002663    ...     0.000376 -0.013639  0.013421   \n",
       "2  0.013281 -0.015108  0.013458    ...    -0.000713 -0.014569  0.011763   \n",
       "3  0.010528  0.010795  0.012482    ...     0.005158 -0.012275 -0.015438   \n",
       "4  0.005065  0.006366 -0.013893    ...    -0.012635 -0.011083  0.011310   \n",
       "\n",
       "   s_vec_25  s_vec_26  s_vec_27  s_vec_28  s_vec_29  s_vec_30  s_vec_31  \n",
       "0 -0.008851  0.010013  0.000580 -0.007462  0.004180  0.010271  0.014244  \n",
       "1  0.001214  0.000620  0.007250  0.000034  0.005984  0.010108 -0.010874  \n",
       "2  0.012487 -0.007188 -0.008616  0.004941  0.011405 -0.001922  0.006328  \n",
       "3 -0.005364  0.007497  0.015009  0.005901 -0.002879  0.006861  0.008418  \n",
       "4 -0.008306 -0.010435  0.001199  0.000483 -0.005632 -0.001226 -0.014103  \n",
       "\n",
       "[5 rows x 32 columns]"
      ]
     },
     "execution_count": 33,
     "metadata": {},
     "output_type": "execute_result"
    }
   ],
   "source": [
    "vec_df = pd.DataFrame(d2v_s_vecs, columns=s_vec_cols)\n",
    "vec_df.head()"
   ]
  },
  {
   "cell_type": "code",
   "execution_count": 34,
   "metadata": {},
   "outputs": [
    {
     "data": {
      "text/html": [
       "<div>\n",
       "<style scoped>\n",
       "    .dataframe tbody tr th:only-of-type {\n",
       "        vertical-align: middle;\n",
       "    }\n",
       "\n",
       "    .dataframe tbody tr th {\n",
       "        vertical-align: top;\n",
       "    }\n",
       "\n",
       "    .dataframe thead th {\n",
       "        text-align: right;\n",
       "    }\n",
       "</style>\n",
       "<table border=\"1\" class=\"dataframe\">\n",
       "  <thead>\n",
       "    <tr style=\"text-align: right;\">\n",
       "      <th></th>\n",
       "      <th>p_vec_0</th>\n",
       "      <th>p_vec_1</th>\n",
       "      <th>p_vec_2</th>\n",
       "      <th>p_vec_3</th>\n",
       "      <th>p_vec_4</th>\n",
       "      <th>p_vec_5</th>\n",
       "      <th>p_vec_6</th>\n",
       "      <th>p_vec_7</th>\n",
       "      <th>p_vec_8</th>\n",
       "      <th>p_vec_9</th>\n",
       "      <th>p_vec_10</th>\n",
       "      <th>p_vec_11</th>\n",
       "      <th>p_vec_12</th>\n",
       "      <th>p_vec_13</th>\n",
       "      <th>p_vec_14</th>\n",
       "      <th>p_vec_15</th>\n",
       "    </tr>\n",
       "  </thead>\n",
       "  <tbody>\n",
       "    <tr>\n",
       "      <th>0</th>\n",
       "      <td>-0.009520</td>\n",
       "      <td>0.004242</td>\n",
       "      <td>-0.010557</td>\n",
       "      <td>-0.001216</td>\n",
       "      <td>0.031085</td>\n",
       "      <td>-0.000830</td>\n",
       "      <td>0.007159</td>\n",
       "      <td>-0.020161</td>\n",
       "      <td>-0.016229</td>\n",
       "      <td>0.008747</td>\n",
       "      <td>-0.028436</td>\n",
       "      <td>-0.023167</td>\n",
       "      <td>-0.028918</td>\n",
       "      <td>0.000462</td>\n",
       "      <td>0.014013</td>\n",
       "      <td>0.022496</td>\n",
       "    </tr>\n",
       "    <tr>\n",
       "      <th>1</th>\n",
       "      <td>-0.009520</td>\n",
       "      <td>0.004242</td>\n",
       "      <td>-0.010557</td>\n",
       "      <td>-0.001216</td>\n",
       "      <td>0.031085</td>\n",
       "      <td>-0.000830</td>\n",
       "      <td>0.007159</td>\n",
       "      <td>-0.020161</td>\n",
       "      <td>-0.016229</td>\n",
       "      <td>0.008747</td>\n",
       "      <td>-0.028436</td>\n",
       "      <td>-0.023167</td>\n",
       "      <td>-0.028918</td>\n",
       "      <td>0.000462</td>\n",
       "      <td>0.014013</td>\n",
       "      <td>0.022496</td>\n",
       "    </tr>\n",
       "    <tr>\n",
       "      <th>2</th>\n",
       "      <td>-0.009520</td>\n",
       "      <td>0.004242</td>\n",
       "      <td>-0.010557</td>\n",
       "      <td>-0.001216</td>\n",
       "      <td>0.031085</td>\n",
       "      <td>-0.000830</td>\n",
       "      <td>0.007159</td>\n",
       "      <td>-0.020161</td>\n",
       "      <td>-0.016229</td>\n",
       "      <td>0.008747</td>\n",
       "      <td>-0.028436</td>\n",
       "      <td>-0.023167</td>\n",
       "      <td>-0.028918</td>\n",
       "      <td>0.000462</td>\n",
       "      <td>0.014013</td>\n",
       "      <td>0.022496</td>\n",
       "    </tr>\n",
       "    <tr>\n",
       "      <th>3</th>\n",
       "      <td>0.020753</td>\n",
       "      <td>-0.009114</td>\n",
       "      <td>0.014544</td>\n",
       "      <td>-0.005492</td>\n",
       "      <td>0.009235</td>\n",
       "      <td>-0.004078</td>\n",
       "      <td>-0.029228</td>\n",
       "      <td>0.004044</td>\n",
       "      <td>0.018803</td>\n",
       "      <td>0.002261</td>\n",
       "      <td>-0.010738</td>\n",
       "      <td>0.019206</td>\n",
       "      <td>0.022171</td>\n",
       "      <td>-0.008174</td>\n",
       "      <td>-0.021034</td>\n",
       "      <td>0.014731</td>\n",
       "    </tr>\n",
       "    <tr>\n",
       "      <th>4</th>\n",
       "      <td>0.020753</td>\n",
       "      <td>-0.009114</td>\n",
       "      <td>0.014544</td>\n",
       "      <td>-0.005492</td>\n",
       "      <td>0.009235</td>\n",
       "      <td>-0.004078</td>\n",
       "      <td>-0.029228</td>\n",
       "      <td>0.004044</td>\n",
       "      <td>0.018803</td>\n",
       "      <td>0.002261</td>\n",
       "      <td>-0.010738</td>\n",
       "      <td>0.019206</td>\n",
       "      <td>0.022171</td>\n",
       "      <td>-0.008174</td>\n",
       "      <td>-0.021034</td>\n",
       "      <td>0.014731</td>\n",
       "    </tr>\n",
       "  </tbody>\n",
       "</table>\n",
       "</div>"
      ],
      "text/plain": [
       "    p_vec_0   p_vec_1   p_vec_2   p_vec_3   p_vec_4   p_vec_5   p_vec_6  \\\n",
       "0 -0.009520  0.004242 -0.010557 -0.001216  0.031085 -0.000830  0.007159   \n",
       "1 -0.009520  0.004242 -0.010557 -0.001216  0.031085 -0.000830  0.007159   \n",
       "2 -0.009520  0.004242 -0.010557 -0.001216  0.031085 -0.000830  0.007159   \n",
       "3  0.020753 -0.009114  0.014544 -0.005492  0.009235 -0.004078 -0.029228   \n",
       "4  0.020753 -0.009114  0.014544 -0.005492  0.009235 -0.004078 -0.029228   \n",
       "\n",
       "    p_vec_7   p_vec_8   p_vec_9  p_vec_10  p_vec_11  p_vec_12  p_vec_13  \\\n",
       "0 -0.020161 -0.016229  0.008747 -0.028436 -0.023167 -0.028918  0.000462   \n",
       "1 -0.020161 -0.016229  0.008747 -0.028436 -0.023167 -0.028918  0.000462   \n",
       "2 -0.020161 -0.016229  0.008747 -0.028436 -0.023167 -0.028918  0.000462   \n",
       "3  0.004044  0.018803  0.002261 -0.010738  0.019206  0.022171 -0.008174   \n",
       "4  0.004044  0.018803  0.002261 -0.010738  0.019206  0.022171 -0.008174   \n",
       "\n",
       "   p_vec_14  p_vec_15  \n",
       "0  0.014013  0.022496  \n",
       "1  0.014013  0.022496  \n",
       "2  0.014013  0.022496  \n",
       "3 -0.021034  0.014731  \n",
       "4 -0.021034  0.014731  "
      ]
     },
     "execution_count": 34,
     "metadata": {},
     "output_type": "execute_result"
    }
   ],
   "source": [
    "p_vec_df = pd.DataFrame(d2v_p_vecs, columns=p_vec_cols)\n",
    "p_vec_df.head()"
   ]
  },
  {
   "cell_type": "code",
   "execution_count": 35,
   "metadata": {},
   "outputs": [],
   "source": [
    "for col_name in p_vec_cols:\n",
    "    vec_df[col_name] = p_vec_df[col_name]"
   ]
  },
  {
   "cell_type": "code",
   "execution_count": 36,
   "metadata": {},
   "outputs": [
    {
     "data": {
      "text/plain": [
       "(70922, 48)"
      ]
     },
     "execution_count": 36,
     "metadata": {},
     "output_type": "execute_result"
    }
   ],
   "source": [
    "vec_df.shape"
   ]
  },
  {
   "cell_type": "markdown",
   "metadata": {},
   "source": [
    "Testing Texts"
   ]
  },
  {
   "cell_type": "code",
   "execution_count": 45,
   "metadata": {},
   "outputs": [
    {
     "data": {
      "text/html": [
       "<div>\n",
       "<style scoped>\n",
       "    .dataframe tbody tr th:only-of-type {\n",
       "        vertical-align: middle;\n",
       "    }\n",
       "\n",
       "    .dataframe tbody tr th {\n",
       "        vertical-align: top;\n",
       "    }\n",
       "\n",
       "    .dataframe thead th {\n",
       "        text-align: right;\n",
       "    }\n",
       "</style>\n",
       "<table border=\"1\" class=\"dataframe\">\n",
       "  <thead>\n",
       "    <tr style=\"text-align: right;\">\n",
       "      <th></th>\n",
       "      <th>s_vec_0</th>\n",
       "      <th>s_vec_1</th>\n",
       "      <th>s_vec_2</th>\n",
       "      <th>s_vec_3</th>\n",
       "      <th>s_vec_4</th>\n",
       "      <th>s_vec_5</th>\n",
       "      <th>s_vec_6</th>\n",
       "      <th>s_vec_7</th>\n",
       "      <th>s_vec_8</th>\n",
       "      <th>s_vec_9</th>\n",
       "      <th>...</th>\n",
       "      <th>s_vec_22</th>\n",
       "      <th>s_vec_23</th>\n",
       "      <th>s_vec_24</th>\n",
       "      <th>s_vec_25</th>\n",
       "      <th>s_vec_26</th>\n",
       "      <th>s_vec_27</th>\n",
       "      <th>s_vec_28</th>\n",
       "      <th>s_vec_29</th>\n",
       "      <th>s_vec_30</th>\n",
       "      <th>s_vec_31</th>\n",
       "    </tr>\n",
       "  </thead>\n",
       "  <tbody>\n",
       "    <tr>\n",
       "      <th>0</th>\n",
       "      <td>0.004359</td>\n",
       "      <td>-0.000571</td>\n",
       "      <td>-0.004839</td>\n",
       "      <td>0.007535</td>\n",
       "      <td>-0.003274</td>\n",
       "      <td>0.000763</td>\n",
       "      <td>-0.013759</td>\n",
       "      <td>0.010369</td>\n",
       "      <td>0.013478</td>\n",
       "      <td>-0.014073</td>\n",
       "      <td>...</td>\n",
       "      <td>0.005352</td>\n",
       "      <td>0.013327</td>\n",
       "      <td>0.010591</td>\n",
       "      <td>-0.002382</td>\n",
       "      <td>0.003813</td>\n",
       "      <td>-0.008778</td>\n",
       "      <td>0.006432</td>\n",
       "      <td>0.001156</td>\n",
       "      <td>0.008181</td>\n",
       "      <td>0.001244</td>\n",
       "    </tr>\n",
       "    <tr>\n",
       "      <th>1</th>\n",
       "      <td>-0.009332</td>\n",
       "      <td>-0.002228</td>\n",
       "      <td>-0.011491</td>\n",
       "      <td>0.003014</td>\n",
       "      <td>-0.004760</td>\n",
       "      <td>0.012227</td>\n",
       "      <td>0.008540</td>\n",
       "      <td>0.007374</td>\n",
       "      <td>0.007985</td>\n",
       "      <td>0.010571</td>\n",
       "      <td>...</td>\n",
       "      <td>-0.012453</td>\n",
       "      <td>0.000977</td>\n",
       "      <td>-0.002130</td>\n",
       "      <td>-0.002443</td>\n",
       "      <td>-0.002815</td>\n",
       "      <td>0.011934</td>\n",
       "      <td>0.013620</td>\n",
       "      <td>-0.008817</td>\n",
       "      <td>0.007094</td>\n",
       "      <td>0.006024</td>\n",
       "    </tr>\n",
       "    <tr>\n",
       "      <th>2</th>\n",
       "      <td>0.003458</td>\n",
       "      <td>-0.011696</td>\n",
       "      <td>0.009825</td>\n",
       "      <td>-0.014435</td>\n",
       "      <td>0.004025</td>\n",
       "      <td>0.001820</td>\n",
       "      <td>-0.012778</td>\n",
       "      <td>0.001241</td>\n",
       "      <td>0.000223</td>\n",
       "      <td>-0.013823</td>\n",
       "      <td>...</td>\n",
       "      <td>0.003278</td>\n",
       "      <td>-0.004106</td>\n",
       "      <td>0.009378</td>\n",
       "      <td>-0.000505</td>\n",
       "      <td>-0.008823</td>\n",
       "      <td>-0.014553</td>\n",
       "      <td>-0.001184</td>\n",
       "      <td>0.014174</td>\n",
       "      <td>-0.001671</td>\n",
       "      <td>-0.002993</td>\n",
       "    </tr>\n",
       "    <tr>\n",
       "      <th>3</th>\n",
       "      <td>-0.009786</td>\n",
       "      <td>0.011872</td>\n",
       "      <td>0.010536</td>\n",
       "      <td>-0.005208</td>\n",
       "      <td>-0.014150</td>\n",
       "      <td>-0.008749</td>\n",
       "      <td>-0.011454</td>\n",
       "      <td>0.007486</td>\n",
       "      <td>-0.001776</td>\n",
       "      <td>0.011128</td>\n",
       "      <td>...</td>\n",
       "      <td>0.005409</td>\n",
       "      <td>-0.006618</td>\n",
       "      <td>-0.007612</td>\n",
       "      <td>-0.012557</td>\n",
       "      <td>0.014054</td>\n",
       "      <td>0.009215</td>\n",
       "      <td>-0.005416</td>\n",
       "      <td>0.009297</td>\n",
       "      <td>0.004702</td>\n",
       "      <td>0.005317</td>\n",
       "    </tr>\n",
       "    <tr>\n",
       "      <th>4</th>\n",
       "      <td>-0.015545</td>\n",
       "      <td>-0.013406</td>\n",
       "      <td>0.003756</td>\n",
       "      <td>0.014538</td>\n",
       "      <td>0.002095</td>\n",
       "      <td>-0.006507</td>\n",
       "      <td>-0.000138</td>\n",
       "      <td>-0.005231</td>\n",
       "      <td>0.001181</td>\n",
       "      <td>-0.012158</td>\n",
       "      <td>...</td>\n",
       "      <td>-0.011356</td>\n",
       "      <td>-0.013038</td>\n",
       "      <td>-0.013039</td>\n",
       "      <td>-0.002307</td>\n",
       "      <td>-0.001795</td>\n",
       "      <td>-0.014790</td>\n",
       "      <td>-0.006229</td>\n",
       "      <td>-0.013867</td>\n",
       "      <td>-0.003037</td>\n",
       "      <td>-0.005436</td>\n",
       "    </tr>\n",
       "  </tbody>\n",
       "</table>\n",
       "<p>5 rows × 32 columns</p>\n",
       "</div>"
      ],
      "text/plain": [
       "    s_vec_0   s_vec_1   s_vec_2   s_vec_3   s_vec_4   s_vec_5   s_vec_6  \\\n",
       "0  0.004359 -0.000571 -0.004839  0.007535 -0.003274  0.000763 -0.013759   \n",
       "1 -0.009332 -0.002228 -0.011491  0.003014 -0.004760  0.012227  0.008540   \n",
       "2  0.003458 -0.011696  0.009825 -0.014435  0.004025  0.001820 -0.012778   \n",
       "3 -0.009786  0.011872  0.010536 -0.005208 -0.014150 -0.008749 -0.011454   \n",
       "4 -0.015545 -0.013406  0.003756  0.014538  0.002095 -0.006507 -0.000138   \n",
       "\n",
       "    s_vec_7   s_vec_8   s_vec_9    ...     s_vec_22  s_vec_23  s_vec_24  \\\n",
       "0  0.010369  0.013478 -0.014073    ...     0.005352  0.013327  0.010591   \n",
       "1  0.007374  0.007985  0.010571    ...    -0.012453  0.000977 -0.002130   \n",
       "2  0.001241  0.000223 -0.013823    ...     0.003278 -0.004106  0.009378   \n",
       "3  0.007486 -0.001776  0.011128    ...     0.005409 -0.006618 -0.007612   \n",
       "4 -0.005231  0.001181 -0.012158    ...    -0.011356 -0.013038 -0.013039   \n",
       "\n",
       "   s_vec_25  s_vec_26  s_vec_27  s_vec_28  s_vec_29  s_vec_30  s_vec_31  \n",
       "0 -0.002382  0.003813 -0.008778  0.006432  0.001156  0.008181  0.001244  \n",
       "1 -0.002443 -0.002815  0.011934  0.013620 -0.008817  0.007094  0.006024  \n",
       "2 -0.000505 -0.008823 -0.014553 -0.001184  0.014174 -0.001671 -0.002993  \n",
       "3 -0.012557  0.014054  0.009215 -0.005416  0.009297  0.004702  0.005317  \n",
       "4 -0.002307 -0.001795 -0.014790 -0.006229 -0.013867 -0.003037 -0.005436  \n",
       "\n",
       "[5 rows x 32 columns]"
      ]
     },
     "execution_count": 45,
     "metadata": {},
     "output_type": "execute_result"
    }
   ],
   "source": [
    "t_vec_df = pd.DataFrame(t_d2v_s_vecs, columns=s_vec_cols)\n",
    "t_vec_df.head()"
   ]
  },
  {
   "cell_type": "code",
   "execution_count": 46,
   "metadata": {},
   "outputs": [
    {
     "data": {
      "text/html": [
       "<div>\n",
       "<style scoped>\n",
       "    .dataframe tbody tr th:only-of-type {\n",
       "        vertical-align: middle;\n",
       "    }\n",
       "\n",
       "    .dataframe tbody tr th {\n",
       "        vertical-align: top;\n",
       "    }\n",
       "\n",
       "    .dataframe thead th {\n",
       "        text-align: right;\n",
       "    }\n",
       "</style>\n",
       "<table border=\"1\" class=\"dataframe\">\n",
       "  <thead>\n",
       "    <tr style=\"text-align: right;\">\n",
       "      <th></th>\n",
       "      <th>p_vec_0</th>\n",
       "      <th>p_vec_1</th>\n",
       "      <th>p_vec_2</th>\n",
       "      <th>p_vec_3</th>\n",
       "      <th>p_vec_4</th>\n",
       "      <th>p_vec_5</th>\n",
       "      <th>p_vec_6</th>\n",
       "      <th>p_vec_7</th>\n",
       "      <th>p_vec_8</th>\n",
       "      <th>p_vec_9</th>\n",
       "      <th>p_vec_10</th>\n",
       "      <th>p_vec_11</th>\n",
       "      <th>p_vec_12</th>\n",
       "      <th>p_vec_13</th>\n",
       "      <th>p_vec_14</th>\n",
       "      <th>p_vec_15</th>\n",
       "    </tr>\n",
       "  </thead>\n",
       "  <tbody>\n",
       "    <tr>\n",
       "      <th>0</th>\n",
       "      <td>0.008718</td>\n",
       "      <td>-0.001142</td>\n",
       "      <td>-0.009677</td>\n",
       "      <td>0.015070</td>\n",
       "      <td>-0.006549</td>\n",
       "      <td>0.001527</td>\n",
       "      <td>-0.027518</td>\n",
       "      <td>0.020738</td>\n",
       "      <td>0.026956</td>\n",
       "      <td>-0.028146</td>\n",
       "      <td>0.030955</td>\n",
       "      <td>-0.015057</td>\n",
       "      <td>0.010595</td>\n",
       "      <td>0.016444</td>\n",
       "      <td>-0.029222</td>\n",
       "      <td>0.006347</td>\n",
       "    </tr>\n",
       "    <tr>\n",
       "      <th>1</th>\n",
       "      <td>0.014704</td>\n",
       "      <td>0.020234</td>\n",
       "      <td>-0.008556</td>\n",
       "      <td>-0.019370</td>\n",
       "      <td>0.012501</td>\n",
       "      <td>-0.000461</td>\n",
       "      <td>-0.020978</td>\n",
       "      <td>-0.000837</td>\n",
       "      <td>0.003654</td>\n",
       "      <td>0.031146</td>\n",
       "      <td>-0.008485</td>\n",
       "      <td>-0.005370</td>\n",
       "      <td>0.030877</td>\n",
       "      <td>-0.021883</td>\n",
       "      <td>0.024861</td>\n",
       "      <td>-0.021846</td>\n",
       "    </tr>\n",
       "    <tr>\n",
       "      <th>2</th>\n",
       "      <td>0.014704</td>\n",
       "      <td>0.020234</td>\n",
       "      <td>-0.008556</td>\n",
       "      <td>-0.019370</td>\n",
       "      <td>0.012501</td>\n",
       "      <td>-0.000461</td>\n",
       "      <td>-0.020978</td>\n",
       "      <td>-0.000837</td>\n",
       "      <td>0.003654</td>\n",
       "      <td>0.031146</td>\n",
       "      <td>-0.008485</td>\n",
       "      <td>-0.005370</td>\n",
       "      <td>0.030877</td>\n",
       "      <td>-0.021883</td>\n",
       "      <td>0.024861</td>\n",
       "      <td>-0.021846</td>\n",
       "    </tr>\n",
       "    <tr>\n",
       "      <th>3</th>\n",
       "      <td>-0.019571</td>\n",
       "      <td>0.023745</td>\n",
       "      <td>0.021073</td>\n",
       "      <td>-0.010417</td>\n",
       "      <td>-0.028300</td>\n",
       "      <td>-0.017498</td>\n",
       "      <td>-0.022909</td>\n",
       "      <td>0.014972</td>\n",
       "      <td>-0.003553</td>\n",
       "      <td>0.022256</td>\n",
       "      <td>-0.015488</td>\n",
       "      <td>0.023517</td>\n",
       "      <td>0.016039</td>\n",
       "      <td>-0.013329</td>\n",
       "      <td>0.008690</td>\n",
       "      <td>0.009893</td>\n",
       "    </tr>\n",
       "    <tr>\n",
       "      <th>4</th>\n",
       "      <td>-0.031089</td>\n",
       "      <td>-0.026812</td>\n",
       "      <td>0.007512</td>\n",
       "      <td>0.029076</td>\n",
       "      <td>0.004189</td>\n",
       "      <td>-0.013014</td>\n",
       "      <td>-0.000277</td>\n",
       "      <td>-0.010462</td>\n",
       "      <td>0.002362</td>\n",
       "      <td>-0.024317</td>\n",
       "      <td>0.009738</td>\n",
       "      <td>-0.029609</td>\n",
       "      <td>-0.028948</td>\n",
       "      <td>-0.006355</td>\n",
       "      <td>-0.014410</td>\n",
       "      <td>-0.026552</td>\n",
       "    </tr>\n",
       "  </tbody>\n",
       "</table>\n",
       "</div>"
      ],
      "text/plain": [
       "    p_vec_0   p_vec_1   p_vec_2   p_vec_3   p_vec_4   p_vec_5   p_vec_6  \\\n",
       "0  0.008718 -0.001142 -0.009677  0.015070 -0.006549  0.001527 -0.027518   \n",
       "1  0.014704  0.020234 -0.008556 -0.019370  0.012501 -0.000461 -0.020978   \n",
       "2  0.014704  0.020234 -0.008556 -0.019370  0.012501 -0.000461 -0.020978   \n",
       "3 -0.019571  0.023745  0.021073 -0.010417 -0.028300 -0.017498 -0.022909   \n",
       "4 -0.031089 -0.026812  0.007512  0.029076  0.004189 -0.013014 -0.000277   \n",
       "\n",
       "    p_vec_7   p_vec_8   p_vec_9  p_vec_10  p_vec_11  p_vec_12  p_vec_13  \\\n",
       "0  0.020738  0.026956 -0.028146  0.030955 -0.015057  0.010595  0.016444   \n",
       "1 -0.000837  0.003654  0.031146 -0.008485 -0.005370  0.030877 -0.021883   \n",
       "2 -0.000837  0.003654  0.031146 -0.008485 -0.005370  0.030877 -0.021883   \n",
       "3  0.014972 -0.003553  0.022256 -0.015488  0.023517  0.016039 -0.013329   \n",
       "4 -0.010462  0.002362 -0.024317  0.009738 -0.029609 -0.028948 -0.006355   \n",
       "\n",
       "   p_vec_14  p_vec_15  \n",
       "0 -0.029222  0.006347  \n",
       "1  0.024861 -0.021846  \n",
       "2  0.024861 -0.021846  \n",
       "3  0.008690  0.009893  \n",
       "4 -0.014410 -0.026552  "
      ]
     },
     "execution_count": 46,
     "metadata": {},
     "output_type": "execute_result"
    }
   ],
   "source": [
    "t_p_vec_df = pd.DataFrame(t_d2v_p_vecs, columns=p_vec_cols)\n",
    "t_p_vec_df.head()"
   ]
  },
  {
   "cell_type": "code",
   "execution_count": 47,
   "metadata": {},
   "outputs": [],
   "source": [
    "for col_name in p_vec_cols:\n",
    "    t_vec_df[col_name] = t_p_vec_df[col_name]"
   ]
  },
  {
   "cell_type": "code",
   "execution_count": 49,
   "metadata": {},
   "outputs": [
    {
     "data": {
      "text/plain": [
       "(8395, 48)"
      ]
     },
     "execution_count": 49,
     "metadata": {},
     "output_type": "execute_result"
    }
   ],
   "source": [
    "t_vec_df.shape"
   ]
  },
  {
   "cell_type": "markdown",
   "metadata": {},
   "source": [
    "**Save Vector DataFrames to Disk**"
   ]
  },
  {
   "cell_type": "code",
   "execution_count": 50,
   "metadata": {},
   "outputs": [],
   "source": [
    "vec_df.to_csv('../ga_dsi_capstone_ec2only/data_vec/vec_df.csv', index=False)"
   ]
  },
  {
   "cell_type": "code",
   "execution_count": 51,
   "metadata": {},
   "outputs": [],
   "source": [
    "t_vec_df.to_csv('../ga_dsi_capstone_ec2only/data_vec/t_vec_df.csv', index=False)"
   ]
  },
  {
   "cell_type": "markdown",
   "metadata": {},
   "source": [
    "## Continue to Notebook 4: Models"
   ]
  }
 ],
 "metadata": {
  "kernelspec": {
   "display_name": "Environment (conda_tensorflow_p36)",
   "language": "python",
   "name": "conda_tensorflow_p36"
  },
  "language_info": {
   "codemirror_mode": {
    "name": "ipython",
    "version": 3
   },
   "file_extension": ".py",
   "mimetype": "text/x-python",
   "name": "python",
   "nbconvert_exporter": "python",
   "pygments_lexer": "ipython3",
   "version": "3.6.5"
  }
 },
 "nbformat": 4,
 "nbformat_minor": 2
}
