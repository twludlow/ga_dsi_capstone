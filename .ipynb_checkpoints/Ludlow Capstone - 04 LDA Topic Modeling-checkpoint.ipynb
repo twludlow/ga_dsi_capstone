{
 "cells": [
  {
   "cell_type": "markdown",
   "metadata": {},
   "source": [
    "# Capstone: Text Factorizing with NLP\n",
    "## Thomas Ludlow"
   ]
  },
  {
   "cell_type": "markdown",
   "metadata": {},
   "source": [
    "# 04 - LDA Topic Modeling"
   ]
  },
  {
   "cell_type": "markdown",
   "metadata": {},
   "source": [
    "This notebook will use the DataFrame assembled in Notebook 03 containing for all paragraphs of n+ length:\n",
    " - `author`\n",
    " - `work`\n",
    " - `paragraph`\n",
    " \n",
    "Preprocessing will tokenize and lemmatize each paragraph into a list of lemma using spaCy.  These lists will then feed into Gensim to build a dictionary for vectorizing.  The Gensim vectors will be the basis for topic modeling for each paragraph row."
   ]
  },
  {
   "cell_type": "markdown",
   "metadata": {},
   "source": [
    "**Libraries**"
   ]
  },
  {
   "cell_type": "code",
   "execution_count": 26,
   "metadata": {},
   "outputs": [],
   "source": [
    "# Python Data Science\n",
    "import re\n",
    "import time\n",
    "import numpy as np\n",
    "import pandas as pd\n",
    "from tqdm import tqdm\n",
    "\n",
    "# Natural Language Processing\n",
    "import spacy\n",
    "import pyLDAvis.gensim\n",
    "from nltk.stem import PorterStemmer\n",
    "\n",
    "import gensim\n",
    "import gensim.downloader as api\n",
    "from gensim.corpora import Dictionary\n",
    "from gensim.models import TfidfModel, ldamodel, ldamulticore, CoherenceModel\n",
    "from gensim.models.word2vec import Word2Vec\n",
    "\n",
    "# Plotting\n",
    "import matplotlib.pyplot as plt\n",
    "%matplotlib inline\n",
    "\n",
    "# Override deprecation warnings\n",
    "import warnings\n",
    "warnings.filterwarnings(\"ignore\",category=DeprecationWarning)"
   ]
  },
  {
   "cell_type": "markdown",
   "metadata": {},
   "source": [
    "**Import Book Data**"
   ]
  },
  {
   "cell_type": "code",
   "execution_count": 3,
   "metadata": {},
   "outputs": [],
   "source": [
    "book_df = pd.read_csv('./data/book_df.csv')"
   ]
  },
  {
   "cell_type": "code",
   "execution_count": 4,
   "metadata": {},
   "outputs": [
    {
     "data": {
      "text/html": [
       "<div>\n",
       "<style scoped>\n",
       "    .dataframe tbody tr th:only-of-type {\n",
       "        vertical-align: middle;\n",
       "    }\n",
       "\n",
       "    .dataframe tbody tr th {\n",
       "        vertical-align: top;\n",
       "    }\n",
       "\n",
       "    .dataframe thead th {\n",
       "        text-align: right;\n",
       "    }\n",
       "</style>\n",
       "<table border=\"1\" class=\"dataframe\">\n",
       "  <thead>\n",
       "    <tr style=\"text-align: right;\">\n",
       "      <th></th>\n",
       "      <th>author</th>\n",
       "      <th>work</th>\n",
       "      <th>paragraph</th>\n",
       "    </tr>\n",
       "  </thead>\n",
       "  <tbody>\n",
       "    <tr>\n",
       "      <th>0</th>\n",
       "      <td>Ani</td>\n",
       "      <td>Book of the Dead: The Papyrus of Ani</td>\n",
       "      <td>\"Homage to thee, Osiris, Lord of eternity, Kin...</td>\n",
       "    </tr>\n",
       "    <tr>\n",
       "      <th>1</th>\n",
       "      <td>Ani</td>\n",
       "      <td>Book of the Dead: The Papyrus of Ani</td>\n",
       "      <td>\"Thou art the Great Chief, the first among thy...</td>\n",
       "    </tr>\n",
       "    <tr>\n",
       "      <th>2</th>\n",
       "      <td>Ani</td>\n",
       "      <td>Book of the Dead: The Papyrus of Ani</td>\n",
       "      <td>\"Thou rollest up into the horizon, thou hast s...</td>\n",
       "    </tr>\n",
       "    <tr>\n",
       "      <th>3</th>\n",
       "      <td>Ani</td>\n",
       "      <td>Book of the Dead: The Papyrus of Ani</td>\n",
       "      <td>His sister [Isis] hath protected him, and hath...</td>\n",
       "    </tr>\n",
       "    <tr>\n",
       "      <th>4</th>\n",
       "      <td>Ani</td>\n",
       "      <td>Book of the Dead: The Papyrus of Ani</td>\n",
       "      <td>A HYMN OF PRAISE TO RA WHEN HE RISETH IN THE E...</td>\n",
       "    </tr>\n",
       "  </tbody>\n",
       "</table>\n",
       "</div>"
      ],
      "text/plain": [
       "  author                                  work  \\\n",
       "0    Ani  Book of the Dead: The Papyrus of Ani   \n",
       "1    Ani  Book of the Dead: The Papyrus of Ani   \n",
       "2    Ani  Book of the Dead: The Papyrus of Ani   \n",
       "3    Ani  Book of the Dead: The Papyrus of Ani   \n",
       "4    Ani  Book of the Dead: The Papyrus of Ani   \n",
       "\n",
       "                                           paragraph  \n",
       "0  \"Homage to thee, Osiris, Lord of eternity, Kin...  \n",
       "1  \"Thou art the Great Chief, the first among thy...  \n",
       "2  \"Thou rollest up into the horizon, thou hast s...  \n",
       "3  His sister [Isis] hath protected him, and hath...  \n",
       "4  A HYMN OF PRAISE TO RA WHEN HE RISETH IN THE E...  "
      ]
     },
     "execution_count": 4,
     "metadata": {},
     "output_type": "execute_result"
    }
   ],
   "source": [
    "book_df.head()"
   ]
  },
  {
   "cell_type": "code",
   "execution_count": 23,
   "metadata": {},
   "outputs": [
    {
     "data": {
      "text/html": [
       "<div>\n",
       "<style scoped>\n",
       "    .dataframe tbody tr th:only-of-type {\n",
       "        vertical-align: middle;\n",
       "    }\n",
       "\n",
       "    .dataframe tbody tr th {\n",
       "        vertical-align: top;\n",
       "    }\n",
       "\n",
       "    .dataframe thead th {\n",
       "        text-align: right;\n",
       "    }\n",
       "</style>\n",
       "<table border=\"1\" class=\"dataframe\">\n",
       "  <thead>\n",
       "    <tr style=\"text-align: right;\">\n",
       "      <th></th>\n",
       "      <th>Title</th>\n",
       "      <th>Author</th>\n",
       "      <th>Filename</th>\n",
       "      <th>Start Key</th>\n",
       "      <th>End Key</th>\n",
       "      <th>Category</th>\n",
       "      <th>Bumper Sticker</th>\n",
       "      <th>Original Language</th>\n",
       "      <th>Country</th>\n",
       "      <th>Year</th>\n",
       "      <th>Year Val</th>\n",
       "      <th>Wiki Link</th>\n",
       "      <th>Wiki Text</th>\n",
       "      <th>Paragraphs</th>\n",
       "    </tr>\n",
       "  </thead>\n",
       "  <tbody>\n",
       "    <tr>\n",
       "      <th>0</th>\n",
       "      <td>Book of the Dead: The Papyrus of Ani</td>\n",
       "      <td>Ani</td>\n",
       "      <td>ani_papyrus.txt</td>\n",
       "      <td>THE PAPYRUS OF ANI</td>\n",
       "      <td>***END***</td>\n",
       "      <td>Polytheism</td>\n",
       "      <td>Magic spells will assist the dead in journey t...</td>\n",
       "      <td>Heiroglyphic</td>\n",
       "      <td>Egypt</td>\n",
       "      <td>2400-1250 BC</td>\n",
       "      <td>-1250</td>\n",
       "      <td>https://en.wikipedia.org/wiki/Book_of_the_Dead</td>\n",
       "      <td>The Book of the Dead is an ancient Egyptian fu...</td>\n",
       "      <td>343</td>\n",
       "    </tr>\n",
       "    <tr>\n",
       "      <th>1</th>\n",
       "      <td>The Categories</td>\n",
       "      <td>Aristotle</td>\n",
       "      <td>aristotle_categories.txt</td>\n",
       "      <td>*** START OF THIS PROJECT GUTENBERG EBOOK THE ...</td>\n",
       "      <td>End of the Project Gutenberg EBook of The Cate...</td>\n",
       "      <td>Hylomorphism</td>\n",
       "      <td>Being is a compound of matter and form</td>\n",
       "      <td>Greek</td>\n",
       "      <td>Greece</td>\n",
       "      <td>~335 BC</td>\n",
       "      <td>-335</td>\n",
       "      <td>https://en.wikipedia.org/wiki/Categories_(Aris...</td>\n",
       "      <td>The Categories (Greek Κατηγορίαι Katēgoriai; L...</td>\n",
       "      <td>132</td>\n",
       "    </tr>\n",
       "    <tr>\n",
       "      <th>2</th>\n",
       "      <td>The Poetics</td>\n",
       "      <td>Aristotle</td>\n",
       "      <td>aristotle_poetics.txt</td>\n",
       "      <td>ARISTOTLE ON THE ART OF POETRY</td>\n",
       "      <td>End of the Project Gutenberg EBook of The Poet...</td>\n",
       "      <td>Dramatic and Literary Theory</td>\n",
       "      <td>Dramatic works imitate but vary in music, char...</td>\n",
       "      <td>Greek</td>\n",
       "      <td>Greece</td>\n",
       "      <td>335 BC</td>\n",
       "      <td>-335</td>\n",
       "      <td>https://en.wikipedia.org/wiki/Poetics_(Aristotle)</td>\n",
       "      <td>Aristotle's Poetics (Greek: Περὶ ποιητικῆς; La...</td>\n",
       "      <td>72</td>\n",
       "    </tr>\n",
       "    <tr>\n",
       "      <th>3</th>\n",
       "      <td>The Gospel</td>\n",
       "      <td>Buddha, Siddhartha Guatama</td>\n",
       "      <td>buddha_gospel.txt</td>\n",
       "      <td>500 BC</td>\n",
       "      <td>***END***</td>\n",
       "      <td>Buddhism</td>\n",
       "      <td>Human suffering and the cycle of death and reb...</td>\n",
       "      <td>English</td>\n",
       "      <td>India</td>\n",
       "      <td>~500 BC</td>\n",
       "      <td>-500</td>\n",
       "      <td>https://en.wikipedia.org/wiki/The_Gospel_of_Bu...</td>\n",
       "      <td>The Gospel of Buddha was an 1894 book by Paul ...</td>\n",
       "      <td>576</td>\n",
       "    </tr>\n",
       "    <tr>\n",
       "      <th>4</th>\n",
       "      <td>The Word</td>\n",
       "      <td>Buddha, Siddhartha Guatama</td>\n",
       "      <td>buddha_word.txt</td>\n",
       "      <td>BUDDHA, THE WORD</td>\n",
       "      <td>THE END</td>\n",
       "      <td>Buddhism</td>\n",
       "      <td>Four noble truths are understood by the enligh...</td>\n",
       "      <td>English</td>\n",
       "      <td>India</td>\n",
       "      <td>~500 BC</td>\n",
       "      <td>-500</td>\n",
       "      <td>https://en.wikipedia.org/wiki/Noble_Eightfold_...</td>\n",
       "      <td>The Noble Eightfold Path (Pali: ariyo aṭṭhaṅgi...</td>\n",
       "      <td>193</td>\n",
       "    </tr>\n",
       "  </tbody>\n",
       "</table>\n",
       "</div>"
      ],
      "text/plain": [
       "                                  Title                      Author  \\\n",
       "0  Book of the Dead: The Papyrus of Ani                         Ani   \n",
       "1                        The Categories                   Aristotle   \n",
       "2                           The Poetics                   Aristotle   \n",
       "3                            The Gospel  Buddha, Siddhartha Guatama   \n",
       "4                              The Word  Buddha, Siddhartha Guatama   \n",
       "\n",
       "                   Filename  \\\n",
       "0           ani_papyrus.txt   \n",
       "1  aristotle_categories.txt   \n",
       "2     aristotle_poetics.txt   \n",
       "3         buddha_gospel.txt   \n",
       "4           buddha_word.txt   \n",
       "\n",
       "                                           Start Key  \\\n",
       "0                                 THE PAPYRUS OF ANI   \n",
       "1  *** START OF THIS PROJECT GUTENBERG EBOOK THE ...   \n",
       "2                     ARISTOTLE ON THE ART OF POETRY   \n",
       "3                                             500 BC   \n",
       "4                                   BUDDHA, THE WORD   \n",
       "\n",
       "                                             End Key  \\\n",
       "0                                          ***END***   \n",
       "1  End of the Project Gutenberg EBook of The Cate...   \n",
       "2  End of the Project Gutenberg EBook of The Poet...   \n",
       "3                                          ***END***   \n",
       "4                                            THE END   \n",
       "\n",
       "                       Category  \\\n",
       "0                    Polytheism   \n",
       "1                  Hylomorphism   \n",
       "2  Dramatic and Literary Theory   \n",
       "3                      Buddhism   \n",
       "4                      Buddhism   \n",
       "\n",
       "                                      Bumper Sticker Original Language  \\\n",
       "0  Magic spells will assist the dead in journey t...      Heiroglyphic   \n",
       "1             Being is a compound of matter and form             Greek   \n",
       "2  Dramatic works imitate but vary in music, char...             Greek   \n",
       "3  Human suffering and the cycle of death and reb...           English   \n",
       "4  Four noble truths are understood by the enligh...           English   \n",
       "\n",
       "  Country          Year  Year Val  \\\n",
       "0   Egypt  2400-1250 BC     -1250   \n",
       "1  Greece       ~335 BC      -335   \n",
       "2  Greece        335 BC      -335   \n",
       "3   India       ~500 BC      -500   \n",
       "4   India       ~500 BC      -500   \n",
       "\n",
       "                                           Wiki Link  \\\n",
       "0     https://en.wikipedia.org/wiki/Book_of_the_Dead   \n",
       "1  https://en.wikipedia.org/wiki/Categories_(Aris...   \n",
       "2  https://en.wikipedia.org/wiki/Poetics_(Aristotle)   \n",
       "3  https://en.wikipedia.org/wiki/The_Gospel_of_Bu...   \n",
       "4  https://en.wikipedia.org/wiki/Noble_Eightfold_...   \n",
       "\n",
       "                                           Wiki Text  Paragraphs  \n",
       "0  The Book of the Dead is an ancient Egyptian fu...         343  \n",
       "1  The Categories (Greek Κατηγορίαι Katēgoriai; L...         132  \n",
       "2  Aristotle's Poetics (Greek: Περὶ ποιητικῆς; La...          72  \n",
       "3  The Gospel of Buddha was an 1894 book by Paul ...         576  \n",
       "4  The Noble Eightfold Path (Pali: ariyo aṭṭhaṅgi...         193  "
      ]
     },
     "execution_count": 23,
     "metadata": {},
     "output_type": "execute_result"
    }
   ],
   "source": [
    "text_data = pd.read_csv('./data/text_data.csv')\n",
    "text_data.head()"
   ]
  },
  {
   "cell_type": "markdown",
   "metadata": {},
   "source": [
    "## spaCy NLP Preprocessing"
   ]
  },
  {
   "cell_type": "markdown",
   "metadata": {},
   "source": [
    "### By Paragraphs"
   ]
  },
  {
   "cell_type": "code",
   "execution_count": 5,
   "metadata": {},
   "outputs": [],
   "source": [
    "# Using medium English library which does not include vectors\n",
    "nlp = spacy.load('en_core_web_md')"
   ]
  },
  {
   "cell_type": "code",
   "execution_count": 6,
   "metadata": {},
   "outputs": [],
   "source": [
    "# spaCy processing for tokens, lemma, part-of-speech, dependency\n",
    "pars_nlp = []\n",
    "\n",
    "for par in book_df.paragraph:\n",
    "    pars_nlp.append(nlp(par))"
   ]
  },
  {
   "cell_type": "code",
   "execution_count": 7,
   "metadata": {},
   "outputs": [
    {
     "data": {
      "text/plain": [
       "28805"
      ]
     },
     "execution_count": 7,
     "metadata": {},
     "output_type": "execute_result"
    }
   ],
   "source": [
    "len(pars_nlp)"
   ]
  },
  {
   "cell_type": "code",
   "execution_count": 8,
   "metadata": {},
   "outputs": [
    {
     "data": {
      "text/plain": [
       "[\"Homage to thee, Osiris, Lord of eternity, King of the Gods, whose names are manifold, whose forms are holy, thou being of hidden form in the temples, whose Ka is holy. Thou art the governor of Tattu (Busiris), and also the mighty one in Sekhem (Letopolis). Thou art the Lord to whom praises are ascribed in the nome of Ati, thou art the Prince of divine food in Anu. Thou art the Lord who is commemorated in Maati, the Hidden Soul, the Lord of Qerrt (Elephantine), the Ruler supreme in White Wall (Memphis). Thou art the Soul of Ra, his own body, and hast thy place of rest in Henensu (Herakleopolis). Thou art the beneficent one, and art praised in Nart. Thou makest thy soul to be raised up. Thou art the Lord of the Great House in Khemenu (Hermopolis). Thou art the mighty one of victories in Shas-hetep, the Lord of eternity, the Governor of Abydos. The path of his throne is in Ta-tcheser (a part of Abydos). Thy name is established in the mouths of men. Thou art the substance of Two Lands (Egypt). Thou art Tem, the feeder of Kau (Doubles), the Governor of the Companies of the gods. Thou art the beneficent Spirit among the spirits. The god of the Celestial Ocean (Nu) draweth from thee his waters. Thou sendest forth the north wind at eventide, and breath from thy nostrils to the satisfaction of thy heart. Thy heart reneweth its youth, thou producest the.... The stars in the celestial heights are obedient unto thee, and the great doors of the sky open themselves before thee. Thou art he to whom praises are ascribed in the southern heaven, and thanks are given for thee in the northern heaven. The imperishable stars are under thy supervision, and the stars which never set are thy thrones. Offerings appear before thee at the decree of Keb. The Companies of the Gods praise thee, and the gods of the Tuat (Other World) smell the earth in paying homage to thee. The uttermost parts of the earth bow before thee, and the limits of the skies entreat thee with supplications when they see thee. The holy ones are overcome before thee, and all Egypt offereth thanksgiving unto thee when it meeteth Thy Majesty. Thou art a shining Spirit-Body, the governor of Spirit-Bodies; permanent is thy rank, established is thy rule. Thou art the well-doing Sekhem (Power) of the Company of the Gods, gracious is thy face, and beloved by him that seeth it. Thy fear is set in all the lands by reason of thy perfect love, and they cry out to thy name making it the first of names, and all people make offerings to thee. Thou art the lord who art commemorated in heaven and upon earth. Many are the cries which are made to thee at the Uak festival, and with one heart and voice Egypt raiseth cries of joy to thee.,\n",
       " \"Thou art the Great Chief, the first among thy brethren, the Prince of the Company of the Gods, the stablisher of Right and Truth throughout the World, the Son who was set on the great throne of his father Keb. Thou art the beloved of thy mother Nut, the mighty one of valour, who overthrew the Sebau-fiend. Thou didst stand up and smite thine enemy, and set thy fear in thine adversary. Thou dost bring the boundaries of the mountains. Thy heart is fixed, thy legs are set firm. Thou art the heir of Keb and of the sovereignty of the Two Lands (Egypt). He (Keb) hath seen his splendours, he hath decreed for him the guidance of the world by thy hand as long as times endure. Thou hast made this earth with thy hand, and the waters, and the winds, and the vegetation, and all the cattle, and all the feathered fowl, and all the fish, and all the creeping things, and all the wild animals therof. The desert is the lawful possession of the son of Nut. The Two Lands (Egypt) are content to crown thee upon the throne of thy father, like Ra.]"
      ]
     },
     "execution_count": 8,
     "metadata": {},
     "output_type": "execute_result"
    }
   ],
   "source": [
    "pars_nlp[:2]"
   ]
  },
  {
   "cell_type": "markdown",
   "metadata": {},
   "source": [
    "### By Sentence"
   ]
  },
  {
   "cell_type": "code",
   "execution_count": 10,
   "metadata": {},
   "outputs": [],
   "source": [
    "sent_nlp = []\n",
    "for par in pars_nlp:\n",
    "    sent_list = []\n",
    "    for s in par.sents:\n",
    "        sent_list.append(s.text)\n",
    "    sent_nlp.append(sent_list)"
   ]
  },
  {
   "cell_type": "code",
   "execution_count": 19,
   "metadata": {},
   "outputs": [
    {
     "data": {
      "text/plain": [
       "'\"Homage to thee, Osiris, Lord of eternity, King of the Gods, whose names are manifold, whose forms are holy, thou being of hidden form in the temples, whose Ka is holy.'"
      ]
     },
     "execution_count": 19,
     "metadata": {},
     "output_type": "execute_result"
    }
   ],
   "source": [
    "sent_nlp[0][0]"
   ]
  },
  {
   "cell_type": "code",
   "execution_count": 32,
   "metadata": {},
   "outputs": [
    {
     "name": "stdout",
     "output_type": "stream",
     "text": [
      "0\n",
      "2000\n",
      "4000\n",
      "6000\n",
      "8000\n",
      "10000\n",
      "12000\n",
      "14000\n",
      "16000\n",
      "18000\n",
      "20000\n",
      "22000\n",
      "24000\n",
      "26000\n",
      "28000\n"
     ]
    }
   ],
   "source": [
    "sent_df = pd.DataFrame(columns=['author','work','a_num','w_num','p_num','s_num','sentence'])\n",
    "\n",
    "a_num = 0\n",
    "w_num = 0\n",
    "p_num = 0\n",
    "\n",
    "for p, sents_in_par in enumerate(sent_nlp):\n",
    "    for s, sent in enumerate(sents_in_par):\n",
    "        sent_df = sent_df.append({'author':book_df.loc[p, 'author'], \n",
    "                                  'work':book_df.loc[p, 'work'], \n",
    "                                  'a_num':a_num,\n",
    "                                  'w_num':w_num,\n",
    "                                  'p_num':p_num, \n",
    "                                  's_num':s, \n",
    "                                  'sentence':sent}, ignore_index=True)\n",
    "    p_num += 1\n",
    "    if p_num == text_data.loc[w_num, 'Paragraphs']:\n",
    "        p_num = 0\n",
    "        w_num += 1\n",
    "        if w_num == text_data.shape[0]: \n",
    "            break\n",
    "        if text_data.loc[w_num, 'Author'] != text_data.loc[w_num-1, 'Author']:\n",
    "            a_num += 1\n",
    "    if not p % 2000: print(p)"
   ]
  },
  {
   "cell_type": "code",
   "execution_count": 33,
   "metadata": {
    "scrolled": false
   },
   "outputs": [
    {
     "data": {
      "text/html": [
       "<div>\n",
       "<style scoped>\n",
       "    .dataframe tbody tr th:only-of-type {\n",
       "        vertical-align: middle;\n",
       "    }\n",
       "\n",
       "    .dataframe tbody tr th {\n",
       "        vertical-align: top;\n",
       "    }\n",
       "\n",
       "    .dataframe thead th {\n",
       "        text-align: right;\n",
       "    }\n",
       "</style>\n",
       "<table border=\"1\" class=\"dataframe\">\n",
       "  <thead>\n",
       "    <tr style=\"text-align: right;\">\n",
       "      <th></th>\n",
       "      <th>author</th>\n",
       "      <th>work</th>\n",
       "      <th>a_num</th>\n",
       "      <th>w_num</th>\n",
       "      <th>p_num</th>\n",
       "      <th>s_num</th>\n",
       "      <th>sentence</th>\n",
       "    </tr>\n",
       "  </thead>\n",
       "  <tbody>\n",
       "    <tr>\n",
       "      <th>0</th>\n",
       "      <td>Ani</td>\n",
       "      <td>Book of the Dead: The Papyrus of Ani</td>\n",
       "      <td>0</td>\n",
       "      <td>0</td>\n",
       "      <td>0</td>\n",
       "      <td>0</td>\n",
       "      <td>\"Homage to thee, Osiris, Lord of eternity, Kin...</td>\n",
       "    </tr>\n",
       "    <tr>\n",
       "      <th>1</th>\n",
       "      <td>Ani</td>\n",
       "      <td>Book of the Dead: The Papyrus of Ani</td>\n",
       "      <td>0</td>\n",
       "      <td>0</td>\n",
       "      <td>0</td>\n",
       "      <td>1</td>\n",
       "      <td>Thou art the governor of Tattu (Busiris), and ...</td>\n",
       "    </tr>\n",
       "    <tr>\n",
       "      <th>2</th>\n",
       "      <td>Ani</td>\n",
       "      <td>Book of the Dead: The Papyrus of Ani</td>\n",
       "      <td>0</td>\n",
       "      <td>0</td>\n",
       "      <td>0</td>\n",
       "      <td>2</td>\n",
       "      <td>Thou art the Lord to whom praises are ascribed...</td>\n",
       "    </tr>\n",
       "    <tr>\n",
       "      <th>3</th>\n",
       "      <td>Ani</td>\n",
       "      <td>Book of the Dead: The Papyrus of Ani</td>\n",
       "      <td>0</td>\n",
       "      <td>0</td>\n",
       "      <td>0</td>\n",
       "      <td>3</td>\n",
       "      <td>Thou art the Lord who is commemorated in Maati...</td>\n",
       "    </tr>\n",
       "    <tr>\n",
       "      <th>4</th>\n",
       "      <td>Ani</td>\n",
       "      <td>Book of the Dead: The Papyrus of Ani</td>\n",
       "      <td>0</td>\n",
       "      <td>0</td>\n",
       "      <td>0</td>\n",
       "      <td>4</td>\n",
       "      <td>Thou art the Soul of Ra, his own body, and has...</td>\n",
       "    </tr>\n",
       "  </tbody>\n",
       "</table>\n",
       "</div>"
      ],
      "text/plain": [
       "  author                                  work a_num w_num p_num s_num  \\\n",
       "0    Ani  Book of the Dead: The Papyrus of Ani     0     0     0     0   \n",
       "1    Ani  Book of the Dead: The Papyrus of Ani     0     0     0     1   \n",
       "2    Ani  Book of the Dead: The Papyrus of Ani     0     0     0     2   \n",
       "3    Ani  Book of the Dead: The Papyrus of Ani     0     0     0     3   \n",
       "4    Ani  Book of the Dead: The Papyrus of Ani     0     0     0     4   \n",
       "\n",
       "                                            sentence  \n",
       "0  \"Homage to thee, Osiris, Lord of eternity, Kin...  \n",
       "1  Thou art the governor of Tattu (Busiris), and ...  \n",
       "2  Thou art the Lord to whom praises are ascribed...  \n",
       "3  Thou art the Lord who is commemorated in Maati...  \n",
       "4  Thou art the Soul of Ra, his own body, and has...  "
      ]
     },
     "execution_count": 33,
     "metadata": {},
     "output_type": "execute_result"
    }
   ],
   "source": [
    "sent_df.head()"
   ]
  },
  {
   "cell_type": "code",
   "execution_count": 35,
   "metadata": {},
   "outputs": [
    {
     "data": {
      "text/html": [
       "<div>\n",
       "<style scoped>\n",
       "    .dataframe tbody tr th:only-of-type {\n",
       "        vertical-align: middle;\n",
       "    }\n",
       "\n",
       "    .dataframe tbody tr th {\n",
       "        vertical-align: top;\n",
       "    }\n",
       "\n",
       "    .dataframe thead th {\n",
       "        text-align: right;\n",
       "    }\n",
       "</style>\n",
       "<table border=\"1\" class=\"dataframe\">\n",
       "  <thead>\n",
       "    <tr style=\"text-align: right;\">\n",
       "      <th></th>\n",
       "      <th>author</th>\n",
       "      <th>work</th>\n",
       "      <th>a_num</th>\n",
       "      <th>w_num</th>\n",
       "      <th>p_num</th>\n",
       "      <th>s_num</th>\n",
       "      <th>sentence</th>\n",
       "    </tr>\n",
       "  </thead>\n",
       "  <tbody>\n",
       "    <tr>\n",
       "      <th>119016</th>\n",
       "      <td>Vyasa, Veda</td>\n",
       "      <td>Bhagavad Gita</td>\n",
       "      <td>32</td>\n",
       "      <td>44</td>\n",
       "      <td>68</td>\n",
       "      <td>3</td>\n",
       "      <td>and th' other shall be ours!</td>\n",
       "    </tr>\n",
       "    <tr>\n",
       "      <th>119017</th>\n",
       "      <td>Vyasa, Veda</td>\n",
       "      <td>Bhagavad Gita</td>\n",
       "      <td>32</td>\n",
       "      <td>44</td>\n",
       "      <td>68</td>\n",
       "      <td>4</td>\n",
       "      <td>To-day we slew a foe, and we will slay</td>\n",
       "    </tr>\n",
       "    <tr>\n",
       "      <th>119018</th>\n",
       "      <td>Vyasa, Veda</td>\n",
       "      <td>Bhagavad Gita</td>\n",
       "      <td>32</td>\n",
       "      <td>44</td>\n",
       "      <td>69</td>\n",
       "      <td>0</td>\n",
       "      <td>Into some devilish womb, whence- birth by birth-</td>\n",
       "    </tr>\n",
       "    <tr>\n",
       "      <th>119019</th>\n",
       "      <td>Vyasa, Veda</td>\n",
       "      <td>Bhagavad Gita</td>\n",
       "      <td>32</td>\n",
       "      <td>44</td>\n",
       "      <td>69</td>\n",
       "      <td>1</td>\n",
       "      <td>The devilish wombs re-spawn them, all beguiled;</td>\n",
       "    </tr>\n",
       "    <tr>\n",
       "      <th>119020</th>\n",
       "      <td>Vyasa, Veda</td>\n",
       "      <td>Bhagavad Gita</td>\n",
       "      <td>32</td>\n",
       "      <td>44</td>\n",
       "      <td>69</td>\n",
       "      <td>2</td>\n",
       "      <td>And, till they find and worship Me, sweet Prince!</td>\n",
       "    </tr>\n",
       "    <tr>\n",
       "      <th>119021</th>\n",
       "      <td>Vyasa, Veda</td>\n",
       "      <td>Bhagavad Gita</td>\n",
       "      <td>32</td>\n",
       "      <td>44</td>\n",
       "      <td>69</td>\n",
       "      <td>3</td>\n",
       "      <td>Tread they</td>\n",
       "    </tr>\n",
       "    <tr>\n",
       "      <th>119022</th>\n",
       "      <td>Vyasa, Veda</td>\n",
       "      <td>Bhagavad Gita</td>\n",
       "      <td>32</td>\n",
       "      <td>44</td>\n",
       "      <td>69</td>\n",
       "      <td>4</td>\n",
       "      <td>that Nether Road.</td>\n",
       "    </tr>\n",
       "    <tr>\n",
       "      <th>119023</th>\n",
       "      <td>Vyasa, Veda</td>\n",
       "      <td>Bhagavad Gita</td>\n",
       "      <td>32</td>\n",
       "      <td>44</td>\n",
       "      <td>70</td>\n",
       "      <td>0</td>\n",
       "      <td>All those three gates of Narak, wendeth straight</td>\n",
       "    </tr>\n",
       "    <tr>\n",
       "      <th>119024</th>\n",
       "      <td>Vyasa, Veda</td>\n",
       "      <td>Bhagavad Gita</td>\n",
       "      <td>32</td>\n",
       "      <td>44</td>\n",
       "      <td>70</td>\n",
       "      <td>1</td>\n",
       "      <td>To find his peace, and comes to Swarga's gate.</td>\n",
       "    </tr>\n",
       "    <tr>\n",
       "      <th>119025</th>\n",
       "      <td>Vyasa, Veda</td>\n",
       "      <td>Bhagavad Gita</td>\n",
       "      <td>32</td>\n",
       "      <td>44</td>\n",
       "      <td>71</td>\n",
       "      <td>0</td>\n",
       "      <td>The \"Soothfast\" meat.</td>\n",
       "    </tr>\n",
       "    <tr>\n",
       "      <th>119026</th>\n",
       "      <td>Vyasa, Veda</td>\n",
       "      <td>Bhagavad Gita</td>\n",
       "      <td>32</td>\n",
       "      <td>44</td>\n",
       "      <td>71</td>\n",
       "      <td>1</td>\n",
       "      <td>And there be foods which bring Aches and unres...</td>\n",
       "    </tr>\n",
       "    <tr>\n",
       "      <th>119027</th>\n",
       "      <td>Vyasa, Veda</td>\n",
       "      <td>Bhagavad Gita</td>\n",
       "      <td>32</td>\n",
       "      <td>44</td>\n",
       "      <td>72</td>\n",
       "      <td>0</td>\n",
       "      <td>When one saith \"'Tis unpleasing!\"</td>\n",
       "    </tr>\n",
       "    <tr>\n",
       "      <th>119028</th>\n",
       "      <td>Vyasa, Veda</td>\n",
       "      <td>Bhagavad Gita</td>\n",
       "      <td>32</td>\n",
       "      <td>44</td>\n",
       "      <td>72</td>\n",
       "      <td>1</td>\n",
       "      <td>this is null!</td>\n",
       "    </tr>\n",
       "    <tr>\n",
       "      <th>119029</th>\n",
       "      <td>Vyasa, Veda</td>\n",
       "      <td>Bhagavad Gita</td>\n",
       "      <td>32</td>\n",
       "      <td>44</td>\n",
       "      <td>72</td>\n",
       "      <td>2</td>\n",
       "      <td>Such an one acts from \"passion;\" nought of gai...</td>\n",
       "    </tr>\n",
       "    <tr>\n",
       "      <th>119030</th>\n",
       "      <td>Vyasa, Veda</td>\n",
       "      <td>Bhagavad Gita</td>\n",
       "      <td>32</td>\n",
       "      <td>44</td>\n",
       "      <td>72</td>\n",
       "      <td>3</td>\n",
       "      <td>But, Arjun!</td>\n",
       "    </tr>\n",
       "    <tr>\n",
       "      <th>119031</th>\n",
       "      <td>Vyasa, Veda</td>\n",
       "      <td>Bhagavad Gita</td>\n",
       "      <td>32</td>\n",
       "      <td>44</td>\n",
       "      <td>73</td>\n",
       "      <td>0</td>\n",
       "      <td>Knowledge, the thing known, and the mind which...</td>\n",
       "    </tr>\n",
       "    <tr>\n",
       "      <th>119032</th>\n",
       "      <td>Vyasa, Veda</td>\n",
       "      <td>Bhagavad Gita</td>\n",
       "      <td>32</td>\n",
       "      <td>44</td>\n",
       "      <td>73</td>\n",
       "      <td>1</td>\n",
       "      <td>The act, the actor, and the instrument,</td>\n",
       "    </tr>\n",
       "    <tr>\n",
       "      <th>119033</th>\n",
       "      <td>Vyasa, Veda</td>\n",
       "      <td>Bhagavad Gita</td>\n",
       "      <td>32</td>\n",
       "      <td>44</td>\n",
       "      <td>74</td>\n",
       "      <td>0</td>\n",
       "      <td>Thus have I told, with heart a-thrill, this wi...</td>\n",
       "    </tr>\n",
       "    <tr>\n",
       "      <th>119034</th>\n",
       "      <td>Vyasa, Veda</td>\n",
       "      <td>Bhagavad Gita</td>\n",
       "      <td>32</td>\n",
       "      <td>44</td>\n",
       "      <td>74</td>\n",
       "      <td>1</td>\n",
       "      <td>So is the high truth shown!</td>\n",
       "    </tr>\n",
       "    <tr>\n",
       "      <th>119035</th>\n",
       "      <td>Vyasa, Veda</td>\n",
       "      <td>Bhagavad Gita</td>\n",
       "      <td>32</td>\n",
       "      <td>44</td>\n",
       "      <td>74</td>\n",
       "      <td>2</td>\n",
       "      <td>And aye, when I remember, O Lord my King, agai...</td>\n",
       "    </tr>\n",
       "    <tr>\n",
       "      <th>119036</th>\n",
       "      <td>Vyasa, Veda</td>\n",
       "      <td>Bhagavad Gita</td>\n",
       "      <td>32</td>\n",
       "      <td>44</td>\n",
       "      <td>74</td>\n",
       "      <td>3</td>\n",
       "      <td>Of Hari, visible and plain, there is no tongue...</td>\n",
       "    </tr>\n",
       "    <tr>\n",
       "      <th>119037</th>\n",
       "      <td>Vyasa, Veda</td>\n",
       "      <td>Bhagavad Gita</td>\n",
       "      <td>32</td>\n",
       "      <td>44</td>\n",
       "      <td>74</td>\n",
       "      <td>4</td>\n",
       "      <td>O Archer-Prince!</td>\n",
       "    </tr>\n",
       "    <tr>\n",
       "      <th>119038</th>\n",
       "      <td>Vyasa, Veda</td>\n",
       "      <td>Bhagavad Gita</td>\n",
       "      <td>32</td>\n",
       "      <td>44</td>\n",
       "      <td>74</td>\n",
       "      <td>5</td>\n",
       "      <td>all hail!</td>\n",
       "    </tr>\n",
       "    <tr>\n",
       "      <th>119039</th>\n",
       "      <td>Vyasa, Veda</td>\n",
       "      <td>Bhagavad Gita</td>\n",
       "      <td>32</td>\n",
       "      <td>44</td>\n",
       "      <td>74</td>\n",
       "      <td>6</td>\n",
       "      <td>O Krishna, Lord of Yoga!</td>\n",
       "    </tr>\n",
       "    <tr>\n",
       "      <th>119040</th>\n",
       "      <td>Vyasa, Veda</td>\n",
       "      <td>Bhagavad Gita</td>\n",
       "      <td>32</td>\n",
       "      <td>44</td>\n",
       "      <td>74</td>\n",
       "      <td>7</td>\n",
       "      <td>surely there shall not fail Blessing, and vict...</td>\n",
       "    </tr>\n",
       "  </tbody>\n",
       "</table>\n",
       "</div>"
      ],
      "text/plain": [
       "             author           work a_num w_num p_num s_num  \\\n",
       "119016  Vyasa, Veda  Bhagavad Gita    32    44    68     3   \n",
       "119017  Vyasa, Veda  Bhagavad Gita    32    44    68     4   \n",
       "119018  Vyasa, Veda  Bhagavad Gita    32    44    69     0   \n",
       "119019  Vyasa, Veda  Bhagavad Gita    32    44    69     1   \n",
       "119020  Vyasa, Veda  Bhagavad Gita    32    44    69     2   \n",
       "119021  Vyasa, Veda  Bhagavad Gita    32    44    69     3   \n",
       "119022  Vyasa, Veda  Bhagavad Gita    32    44    69     4   \n",
       "119023  Vyasa, Veda  Bhagavad Gita    32    44    70     0   \n",
       "119024  Vyasa, Veda  Bhagavad Gita    32    44    70     1   \n",
       "119025  Vyasa, Veda  Bhagavad Gita    32    44    71     0   \n",
       "119026  Vyasa, Veda  Bhagavad Gita    32    44    71     1   \n",
       "119027  Vyasa, Veda  Bhagavad Gita    32    44    72     0   \n",
       "119028  Vyasa, Veda  Bhagavad Gita    32    44    72     1   \n",
       "119029  Vyasa, Veda  Bhagavad Gita    32    44    72     2   \n",
       "119030  Vyasa, Veda  Bhagavad Gita    32    44    72     3   \n",
       "119031  Vyasa, Veda  Bhagavad Gita    32    44    73     0   \n",
       "119032  Vyasa, Veda  Bhagavad Gita    32    44    73     1   \n",
       "119033  Vyasa, Veda  Bhagavad Gita    32    44    74     0   \n",
       "119034  Vyasa, Veda  Bhagavad Gita    32    44    74     1   \n",
       "119035  Vyasa, Veda  Bhagavad Gita    32    44    74     2   \n",
       "119036  Vyasa, Veda  Bhagavad Gita    32    44    74     3   \n",
       "119037  Vyasa, Veda  Bhagavad Gita    32    44    74     4   \n",
       "119038  Vyasa, Veda  Bhagavad Gita    32    44    74     5   \n",
       "119039  Vyasa, Veda  Bhagavad Gita    32    44    74     6   \n",
       "119040  Vyasa, Veda  Bhagavad Gita    32    44    74     7   \n",
       "\n",
       "                                                 sentence  \n",
       "119016                       and th' other shall be ours!  \n",
       "119017             To-day we slew a foe, and we will slay  \n",
       "119018   Into some devilish womb, whence- birth by birth-  \n",
       "119019    The devilish wombs re-spawn them, all beguiled;  \n",
       "119020  And, till they find and worship Me, sweet Prince!  \n",
       "119021                                         Tread they  \n",
       "119022                                  that Nether Road.  \n",
       "119023   All those three gates of Narak, wendeth straight  \n",
       "119024     To find his peace, and comes to Swarga's gate.  \n",
       "119025                              The \"Soothfast\" meat.  \n",
       "119026  And there be foods which bring Aches and unres...  \n",
       "119027                  When one saith \"'Tis unpleasing!\"  \n",
       "119028                                      this is null!  \n",
       "119029  Such an one acts from \"passion;\" nought of gai...  \n",
       "119030                                        But, Arjun!  \n",
       "119031  Knowledge, the thing known, and the mind which...  \n",
       "119032            The act, the actor, and the instrument,  \n",
       "119033  Thus have I told, with heart a-thrill, this wi...  \n",
       "119034                        So is the high truth shown!  \n",
       "119035  And aye, when I remember, O Lord my King, agai...  \n",
       "119036  Of Hari, visible and plain, there is no tongue...  \n",
       "119037                                   O Archer-Prince!  \n",
       "119038                                          all hail!  \n",
       "119039                           O Krishna, Lord of Yoga!  \n",
       "119040  surely there shall not fail Blessing, and vict...  "
      ]
     },
     "execution_count": 35,
     "metadata": {},
     "output_type": "execute_result"
    }
   ],
   "source": [
    "sent_df.tail(25)"
   ]
  },
  {
   "cell_type": "code",
   "execution_count": 36,
   "metadata": {},
   "outputs": [],
   "source": [
    "sent_df.to_csv('./data/sent_df.csv', index=False)"
   ]
  },
  {
   "cell_type": "code",
   "execution_count": 11,
   "metadata": {},
   "outputs": [],
   "source": [
    "pars_lemma = []\n",
    "\n",
    "for par_nlp in pars_nlp:\n",
    "    pars_lemma.append([token.lemma_ for token in par_nlp     # List comprehension\n",
    "                       if token.lemma_ != '-PRON-'           # Pronouns are excluded\n",
    "                       and token.pos_ != 'PUNCT'             # Punctionation is excluded\n",
    "                       and token.is_alpha                    # Numbers are excluded\n",
    "                       and not token.is_stop])               # Stop words are excluded"
   ]
  },
  {
   "cell_type": "code",
   "execution_count": 12,
   "metadata": {},
   "outputs": [
    {
     "data": {
      "text/plain": [
       "28805"
      ]
     },
     "execution_count": 12,
     "metadata": {},
     "output_type": "execute_result"
    }
   ],
   "source": [
    "len(pars_lemma)"
   ]
  },
  {
   "cell_type": "markdown",
   "metadata": {},
   "source": [
    "**Remove Additional Stopwords**\n",
    "- Roman Numerals\n",
    "- Articles\n",
    "\n",
    "**Stemmer (Optional)**"
   ]
  },
  {
   "cell_type": "code",
   "execution_count": 14,
   "metadata": {},
   "outputs": [],
   "source": [
    "ps = PorterStemmer()"
   ]
  },
  {
   "cell_type": "code",
   "execution_count": 15,
   "metadata": {},
   "outputs": [],
   "source": [
    "def remove_sw(vec_list, sw_list, to_stem=False):\n",
    "    update_list = []\n",
    "    for token in vec_list:\n",
    "        if token in sw_list: continue\n",
    "        if to_stem: update_list.append(ps.stem(token))\n",
    "        else: update_list.append(token)\n",
    "    return update_list"
   ]
  },
  {
   "cell_type": "code",
   "execution_count": 16,
   "metadata": {},
   "outputs": [
    {
     "data": {
      "text/plain": [
       "2671496"
      ]
     },
     "execution_count": 16,
     "metadata": {},
     "output_type": "execute_result"
    }
   ],
   "source": [
    "count = 0\n",
    "for par in pars_lemma:\n",
    "    count += len(par)\n",
    "count"
   ]
  },
  {
   "cell_type": "markdown",
   "metadata": {},
   "source": [
    "**Additional Stopwords List**"
   ]
  },
  {
   "cell_type": "code",
   "execution_count": 17,
   "metadata": {},
   "outputs": [],
   "source": [
    "sw = ['i','ii','iii','iv','v','vi','vii','viii','ix','x','xi','xii','xiii','xiv','xv','xvi','xvii','xviii','xix','xx','xxi','xxii',\n",
    "      'the','a','but','like','for']"
   ]
  },
  {
   "cell_type": "code",
   "execution_count": 18,
   "metadata": {},
   "outputs": [],
   "source": [
    "pars_lemma_sw = []\n",
    "for par in pars_lemma:\n",
    "    pars_lemma_sw.append(remove_sw(par, sw))"
   ]
  },
  {
   "cell_type": "markdown",
   "metadata": {},
   "source": [
    "## Gensim LDA Model"
   ]
  },
  {
   "cell_type": "code",
   "execution_count": 509,
   "metadata": {},
   "outputs": [],
   "source": [
    "# g_dict.compactify()"
   ]
  },
  {
   "cell_type": "code",
   "execution_count": 589,
   "metadata": {},
   "outputs": [],
   "source": [
    "# Build dictionary to contain all terms from normalized text\n",
    "g_dict = Dictionary(pars_lemma_sw)"
   ]
  },
  {
   "cell_type": "code",
   "execution_count": 590,
   "metadata": {},
   "outputs": [
    {
     "data": {
      "text/plain": [
       "22992"
      ]
     },
     "execution_count": 590,
     "metadata": {},
     "output_type": "execute_result"
    }
   ],
   "source": [
    "len(g_dict)"
   ]
  },
  {
   "cell_type": "markdown",
   "metadata": {},
   "source": [
    "**Remove Outliers from Dictionary**"
   ]
  },
  {
   "cell_type": "code",
   "execution_count": 591,
   "metadata": {},
   "outputs": [
    {
     "data": {
      "text/plain": [
       "14452"
      ]
     },
     "execution_count": 591,
     "metadata": {},
     "output_type": "execute_result"
    }
   ],
   "source": [
    "g_dict.filter_extremes(no_below=2, no_above=0.9, keep_n=24000)\n",
    "\n",
    "len(g_dict)"
   ]
  },
  {
   "cell_type": "code",
   "execution_count": 592,
   "metadata": {},
   "outputs": [
    {
     "name": "stdout",
     "output_type": "stream",
     "text": [
      "0 abydo \n",
      "\n",
      "1 anu \n",
      "\n",
      "2 appear \n",
      "\n",
      "3 art \n",
      "\n",
      "4 ascrib \n",
      "\n",
      "5 ati \n",
      "\n"
     ]
    }
   ],
   "source": [
    "for i in range(6):\n",
    "    print(i, g_dict[i], '\\n')"
   ]
  },
  {
   "cell_type": "code",
   "execution_count": 593,
   "metadata": {},
   "outputs": [],
   "source": [
    "# Build corpus of normalized text relative to dictionary\n",
    "bow_corpus = [g_dict.doc2bow(par) for par in pars_lemma_sw]"
   ]
  },
  {
   "cell_type": "code",
   "execution_count": 594,
   "metadata": {},
   "outputs": [
    {
     "data": {
      "text/plain": [
       "[(35, 2),\n",
       " (82, 1),\n",
       " (215, 1),\n",
       " (294, 1),\n",
       " (326, 1),\n",
       " (333, 1),\n",
       " (353, 1),\n",
       " (374, 1),\n",
       " (412, 1)]"
      ]
     },
     "execution_count": 594,
     "metadata": {},
     "output_type": "execute_result"
    }
   ],
   "source": [
    "bow_corpus[50]"
   ]
  },
  {
   "cell_type": "markdown",
   "metadata": {},
   "source": [
    "### TF-IDF"
   ]
  },
  {
   "cell_type": "markdown",
   "metadata": {},
   "source": [
    "**ERROR NOTE:** The TF-IDF corpus is causing an IndexError with the Gensim LDA models, so the Bag-of-Words count vector corpus `bow_corpus` is being used with the model instead."
   ]
  },
  {
   "cell_type": "code",
   "execution_count": 516,
   "metadata": {},
   "outputs": [],
   "source": [
    "tfidf = TfidfModel(corpus, normalize=False)"
   ]
  },
  {
   "cell_type": "code",
   "execution_count": 517,
   "metadata": {},
   "outputs": [],
   "source": [
    "corpus = tfidf[corpus]"
   ]
  },
  {
   "cell_type": "code",
   "execution_count": 518,
   "metadata": {},
   "outputs": [
    {
     "data": {
      "text/plain": [
       "9224"
      ]
     },
     "execution_count": 518,
     "metadata": {},
     "output_type": "execute_result"
    }
   ],
   "source": [
    "len(corpus)"
   ]
  },
  {
   "cell_type": "code",
   "execution_count": 519,
   "metadata": {},
   "outputs": [
    {
     "data": {
      "text/plain": [
       "[(18, 0.0035043453853684735),\n",
       " (19, 0.20654649731674726),\n",
       " (32, 2.2252737992878764),\n",
       " (36, 0.025630059457384068),\n",
       " (42, 0.2840805814295968),\n",
       " (81, 22.720424794604636),\n",
       " (145, 0.60389578698253288),\n",
       " (155, 0.10885871772967382),\n",
       " (174, 1.1050740576070781),\n",
       " (401, 21.091033070557796),\n",
       " (451, 1.1925511127230761),\n",
       " (457, 21.091033070557796),\n",
       " (458, 102.3012787279696),\n",
       " (459, 3.8637590432257332),\n",
       " (460, 0.80421288331133167),\n",
       " (461, 0.21845621492428335)]"
      ]
     },
     "execution_count": 519,
     "metadata": {},
     "output_type": "execute_result"
    }
   ],
   "source": [
    "corpus[50]"
   ]
  },
  {
   "cell_type": "markdown",
   "metadata": {},
   "source": [
    "**LDA Model - Single Core**"
   ]
  },
  {
   "cell_type": "code",
   "execution_count": 595,
   "metadata": {},
   "outputs": [],
   "source": [
    "lda_model.clear()"
   ]
  },
  {
   "cell_type": "code",
   "execution_count": 637,
   "metadata": {},
   "outputs": [],
   "source": [
    "lda_model = ldamodel.LdaModel(corpus=bow_corpus, \n",
    "                              id2word=g_dict,\n",
    "                              num_topics=8, \n",
    "                              random_state=207,\n",
    "                              update_every=1,\n",
    "                              chunksize=120,\n",
    "                              passes=20,\n",
    "                              alpha='auto',\n",
    "                              per_word_topics=True)"
   ]
  },
  {
   "cell_type": "code",
   "execution_count": 638,
   "metadata": {},
   "outputs": [
    {
     "data": {
      "text/plain": [
       "[(0,\n",
       "  '0.053*\"great\" + 0.037*\"good\" + 0.027*\"govern\" + 0.023*\"tax\" + 0.019*\"right\" + 0.017*\"pay\" + 0.013*\"valu\" + 0.013*\"peopl\" + 0.013*\"high\" + 0.012*\"revenu\"'),\n",
       " (1,\n",
       "  '0.034*\"price\" + 0.029*\"labour\" + 0.027*\"land\" + 0.026*\"year\" + 0.025*\"money\" + 0.022*\"capit\" + 0.017*\"work\" + 0.016*\"silver\" + 0.016*\"time\" + 0.015*\"gold\"'),\n",
       " (2,\n",
       "  '0.028*\"natur\" + 0.018*\"state\" + 0.017*\"differ\" + 0.013*\"in\" + 0.012*\"mean\" + 0.010*\"certain\" + 0.009*\"mind\" + 0.009*\"note\" + 0.009*\"knowledg\" + 0.009*\"particular\"'),\n",
       " (3,\n",
       "  '0.036*\"bodi\" + 0.033*\"idea\" + 0.030*\"exist\" + 0.026*\"produc\" + 0.022*\"object\" + 0.019*\"emot\" + 0.019*\"conceiv\" + 0.018*\"gener\" + 0.018*\"kind\" + 0.015*\"thing\"'),\n",
       " (4,\n",
       "  '0.052*\"man\" + 0.025*\"thing\" + 0.017*\"know\" + 0.015*\"far\" + 0.014*\"mind\" + 0.013*\"if\" + 0.012*\"great\" + 0.012*\"law\" + 0.012*\"life\" + 0.011*\"way\"'),\n",
       " (5,\n",
       "  '0.049*\"god\" + 0.045*\"say\" + 0.027*\"thi\" + 0.018*\"come\" + 0.018*\"and\" + 0.017*\"bring\" + 0.017*\"armi\" + 0.013*\"read\" + 0.013*\"market\" + 0.013*\"rent\"'),\n",
       " (6,\n",
       "  '0.056*\"countri\" + 0.029*\"trade\" + 0.018*\"expens\" + 0.018*\"interest\" + 0.018*\"societi\" + 0.017*\"manufactur\" + 0.016*\"new\" + 0.016*\"polit\" + 0.015*\"public\" + 0.015*\"forc\"'),\n",
       " (7,\n",
       "  '0.060*\"present\" + 0.052*\"case\" + 0.038*\"proport\" + 0.036*\"number\" + 0.032*\"small\" + 0.023*\"condit\" + 0.019*\"that\" + 0.017*\"encourag\" + 0.017*\"old\" + 0.015*\"princip\"')]"
      ]
     },
     "execution_count": 638,
     "metadata": {},
     "output_type": "execute_result"
    }
   ],
   "source": [
    "lda_model.print_topics()"
   ]
  },
  {
   "cell_type": "code",
   "execution_count": 639,
   "metadata": {},
   "outputs": [
    {
     "data": {
      "text/plain": [
       "-8.1668555830599932"
      ]
     },
     "execution_count": 639,
     "metadata": {},
     "output_type": "execute_result"
    }
   ],
   "source": [
    "lda_model.log_perplexity(bow_corpus)"
   ]
  },
  {
   "cell_type": "code",
   "execution_count": 640,
   "metadata": {},
   "outputs": [
    {
     "data": {
      "text/plain": [
       "0.4485877711966515"
      ]
     },
     "execution_count": 640,
     "metadata": {},
     "output_type": "execute_result"
    }
   ],
   "source": [
    "cm = CoherenceModel(model=lda_model, texts=pars_lemma_sw, dictionary=g_dict, coherence='c_v')\n",
    "cm.get_coherence()"
   ]
  },
  {
   "cell_type": "markdown",
   "metadata": {},
   "source": [
    "**LDA Multicore**"
   ]
  },
  {
   "cell_type": "code",
   "execution_count": 631,
   "metadata": {},
   "outputs": [],
   "source": [
    "lda_multi.clear()"
   ]
  },
  {
   "cell_type": "code",
   "execution_count": 632,
   "metadata": {},
   "outputs": [],
   "source": [
    "lda_multi = ldamulticore.LdaMulticore(corpus=bow_corpus,\n",
    "                                      id2word=g_dict,\n",
    "                                      num_topics=8,\n",
    "                                      random_state=207,\n",
    "                                      chunksize=100,\n",
    "                                      passes=50,\n",
    "                                      per_word_topics=True,\n",
    "                                      workers=4\n",
    ")"
   ]
  },
  {
   "cell_type": "code",
   "execution_count": 633,
   "metadata": {},
   "outputs": [
    {
     "data": {
      "text/plain": [
       "[(0,\n",
       "  '0.040*\"man\" + 0.023*\"know\" + 0.017*\"thing\" + 0.013*\"mind\" + 0.013*\"think\" + 0.012*\"and\" + 0.012*\"say\" + 0.011*\"knowledg\" + 0.010*\"socrat\" + 0.009*\"word\"'),\n",
       " (1,\n",
       "  '0.030*\"man\" + 0.023*\"govern\" + 0.020*\"good\" + 0.016*\"right\" + 0.012*\"power\" + 0.012*\"peopl\" + 0.009*\"state\" + 0.008*\"evil\" + 0.008*\"law\" + 0.007*\"life\"'),\n",
       " (2,\n",
       "  '0.020*\"great\" + 0.014*\"countri\" + 0.011*\"nation\" + 0.009*\"state\" + 0.008*\"tax\" + 0.007*\"interest\" + 0.007*\"good\" + 0.007*\"money\" + 0.007*\"in\" + 0.007*\"public\"'),\n",
       " (3,\n",
       "  '0.020*\"idea\" + 0.014*\"object\" + 0.013*\"exist\" + 0.013*\"differ\" + 0.013*\"thing\" + 0.010*\"natur\" + 0.008*\"case\" + 0.008*\"gener\" + 0.007*\"relat\" + 0.007*\"bodi\"'),\n",
       " (4,\n",
       "  '0.041*\"and\" + 0.033*\"shall\" + 0.032*\"ye\" + 0.028*\"thou\" + 0.027*\"unto\" + 0.025*\"say\" + 0.022*\"allah\" + 0.021*\"lord\" + 0.020*\"thi\" + 0.016*\"thee\"'),\n",
       " (5,\n",
       "  '0.023*\"year\" + 0.014*\"zarathustra\" + 0.012*\"thousand\" + 0.011*\"number\" + 0.010*\"time\" + 0.010*\"old\" + 0.009*\"gold\" + 0.008*\"hous\" + 0.008*\"day\" + 0.007*\"silver\"'),\n",
       " (6,\n",
       "  '0.013*\"principl\" + 0.012*\"reason\" + 0.011*\"moral\" + 0.009*\"natur\" + 0.007*\"human\" + 0.007*\"fact\" + 0.007*\"feel\" + 0.007*\"question\" + 0.006*\"mean\" + 0.006*\"determin\"'),\n",
       " (7,\n",
       "  '0.026*\"man\" + 0.022*\"god\" + 0.020*\"king\" + 0.015*\"law\" + 0.014*\"price\" + 0.013*\"and\" + 0.013*\"liberti\" + 0.012*\"say\" + 0.010*\"peopl\" + 0.008*\"hath\"')]"
      ]
     },
     "execution_count": 633,
     "metadata": {},
     "output_type": "execute_result"
    }
   ],
   "source": [
    "lda_multi.print_topics()"
   ]
  },
  {
   "cell_type": "code",
   "execution_count": 634,
   "metadata": {},
   "outputs": [
    {
     "data": {
      "text/plain": [
       "-7.5657569997796923"
      ]
     },
     "execution_count": 634,
     "metadata": {},
     "output_type": "execute_result"
    }
   ],
   "source": [
    "lda_multi.log_perplexity(bow_corpus)"
   ]
  },
  {
   "cell_type": "code",
   "execution_count": 635,
   "metadata": {},
   "outputs": [
    {
     "data": {
      "text/plain": [
       "0.51080767642288183"
      ]
     },
     "execution_count": 635,
     "metadata": {},
     "output_type": "execute_result"
    }
   ],
   "source": [
    "cm2 = CoherenceModel(model=lda_multi, texts=pars_lemma_sw, dictionary=g_dict, coherence='c_v')\n",
    "cm2.get_coherence()"
   ]
  },
  {
   "cell_type": "markdown",
   "metadata": {},
   "source": [
    "## Visualize LDA with pyLDAvis"
   ]
  },
  {
   "cell_type": "code",
   "execution_count": 641,
   "metadata": {},
   "outputs": [
    {
     "data": {
      "text/html": [
       "\n",
       "<link rel=\"stylesheet\" type=\"text/css\" href=\"https://cdn.rawgit.com/bmabey/pyLDAvis/files/ldavis.v1.0.0.css\">\n",
       "\n",
       "\n",
       "<div id=\"ldavis_el19511123365512722921867073\"></div>\n",
       "<script type=\"text/javascript\">\n",
       "\n",
       "var ldavis_el19511123365512722921867073_data = {\"mdsDat\": {\"Freq\": [24.27159823229024, 21.46774622097782, 12.406113131313198, 12.122401343388198, 12.07799315267725, 6.873054498922109, 6.42743121850724, 4.353662201923945], \"cluster\": [1, 1, 1, 1, 1, 1, 1, 1], \"topics\": [1, 2, 3, 4, 5, 6, 7, 8], \"x\": [-0.10634948679804167, -0.2271081342891587, -0.1494197645698731, -0.13962341148227644, 0.016928946253932476, 0.11007003367200377, 0.2695610601637674, 0.22594075704964603], \"y\": [-0.31810502360081616, 0.055280053897861274, 0.2784560483220521, 0.01820742582045056, -0.1665020177474352, 0.07218091745478074, 0.0935694595211397, -0.03308686366803266]}, \"tinfo\": {\"Category\": [\"Default\", \"Default\", \"Default\", \"Default\", \"Default\", \"Default\", \"Default\", \"Default\", \"Default\", \"Default\", \"Default\", \"Default\", \"Default\", \"Default\", \"Default\", \"Default\", \"Default\", \"Default\", \"Default\", \"Default\", \"Default\", \"Default\", \"Default\", \"Default\", \"Default\", \"Default\", \"Default\", \"Default\", \"Default\", \"Default\", \"Topic1\", \"Topic1\", \"Topic1\", \"Topic1\", \"Topic1\", \"Topic1\", \"Topic1\", \"Topic1\", \"Topic1\", \"Topic1\", \"Topic1\", \"Topic1\", \"Topic1\", \"Topic1\", \"Topic1\", \"Topic1\", \"Topic1\", \"Topic1\", \"Topic1\", \"Topic1\", \"Topic1\", \"Topic1\", \"Topic1\", \"Topic1\", \"Topic1\", \"Topic1\", \"Topic1\", \"Topic1\", \"Topic1\", \"Topic1\", \"Topic1\", \"Topic1\", \"Topic1\", \"Topic1\", \"Topic1\", \"Topic1\", \"Topic1\", \"Topic2\", \"Topic2\", \"Topic2\", \"Topic2\", \"Topic2\", \"Topic2\", \"Topic2\", \"Topic2\", \"Topic2\", \"Topic2\", \"Topic2\", \"Topic2\", \"Topic2\", \"Topic2\", \"Topic2\", \"Topic2\", \"Topic2\", \"Topic2\", \"Topic2\", \"Topic2\", \"Topic2\", \"Topic2\", \"Topic2\", \"Topic2\", \"Topic2\", \"Topic2\", \"Topic2\", \"Topic2\", \"Topic2\", \"Topic2\", \"Topic2\", \"Topic2\", \"Topic2\", \"Topic2\", \"Topic2\", \"Topic2\", \"Topic2\", \"Topic2\", \"Topic2\", \"Topic2\", \"Topic2\", \"Topic2\", \"Topic3\", \"Topic3\", \"Topic3\", \"Topic3\", \"Topic3\", \"Topic3\", \"Topic3\", \"Topic3\", \"Topic3\", \"Topic3\", \"Topic3\", \"Topic3\", \"Topic3\", \"Topic3\", \"Topic3\", \"Topic3\", \"Topic3\", \"Topic3\", \"Topic3\", \"Topic3\", \"Topic3\", \"Topic3\", \"Topic3\", \"Topic3\", \"Topic3\", \"Topic3\", \"Topic3\", \"Topic3\", \"Topic3\", \"Topic3\", \"Topic3\", \"Topic3\", \"Topic3\", \"Topic3\", \"Topic3\", \"Topic3\", \"Topic4\", \"Topic4\", \"Topic4\", \"Topic4\", \"Topic4\", \"Topic4\", \"Topic4\", \"Topic4\", \"Topic4\", \"Topic4\", \"Topic4\", \"Topic4\", \"Topic4\", \"Topic4\", \"Topic4\", \"Topic4\", \"Topic4\", \"Topic4\", \"Topic4\", \"Topic4\", \"Topic4\", \"Topic4\", \"Topic4\", \"Topic4\", \"Topic4\", \"Topic4\", \"Topic4\", \"Topic4\", \"Topic4\", \"Topic4\", \"Topic4\", \"Topic4\", \"Topic4\", \"Topic4\", \"Topic4\", \"Topic4\", \"Topic4\", \"Topic4\", \"Topic4\", \"Topic4\", \"Topic4\", \"Topic5\", \"Topic5\", \"Topic5\", \"Topic5\", \"Topic5\", \"Topic5\", \"Topic5\", \"Topic5\", \"Topic5\", \"Topic5\", \"Topic5\", \"Topic5\", \"Topic5\", \"Topic5\", \"Topic5\", \"Topic5\", \"Topic5\", \"Topic5\", \"Topic5\", \"Topic5\", \"Topic5\", \"Topic5\", \"Topic5\", \"Topic5\", \"Topic5\", \"Topic5\", \"Topic5\", \"Topic5\", \"Topic5\", \"Topic5\", \"Topic5\", \"Topic5\", \"Topic5\", \"Topic5\", \"Topic5\", \"Topic5\", \"Topic5\", \"Topic5\", \"Topic5\", \"Topic5\", \"Topic5\", \"Topic5\", \"Topic5\", \"Topic6\", \"Topic6\", \"Topic6\", \"Topic6\", \"Topic6\", \"Topic6\", \"Topic6\", \"Topic6\", \"Topic6\", \"Topic6\", \"Topic6\", \"Topic6\", \"Topic6\", \"Topic6\", \"Topic6\", \"Topic6\", \"Topic6\", \"Topic6\", \"Topic6\", \"Topic6\", \"Topic6\", \"Topic6\", \"Topic6\", \"Topic6\", \"Topic6\", \"Topic6\", \"Topic6\", \"Topic6\", \"Topic6\", \"Topic6\", \"Topic6\", \"Topic6\", \"Topic6\", \"Topic6\", \"Topic6\", \"Topic6\", \"Topic6\", \"Topic6\", \"Topic6\", \"Topic7\", \"Topic7\", \"Topic7\", \"Topic7\", \"Topic7\", \"Topic7\", \"Topic7\", \"Topic7\", \"Topic7\", \"Topic7\", \"Topic7\", \"Topic7\", \"Topic7\", \"Topic7\", \"Topic7\", \"Topic7\", \"Topic7\", \"Topic7\", \"Topic7\", \"Topic7\", \"Topic7\", \"Topic7\", \"Topic7\", \"Topic7\", \"Topic7\", \"Topic7\", \"Topic7\", \"Topic7\", \"Topic7\", \"Topic7\", \"Topic7\", \"Topic7\", \"Topic7\", \"Topic7\", \"Topic7\", \"Topic7\", \"Topic8\", \"Topic8\", \"Topic8\", \"Topic8\", \"Topic8\", \"Topic8\", \"Topic8\", \"Topic8\", \"Topic8\", \"Topic8\", \"Topic8\", \"Topic8\", \"Topic8\", \"Topic8\", \"Topic8\", \"Topic8\", \"Topic8\", \"Topic8\", \"Topic8\", \"Topic8\", \"Topic8\", \"Topic8\", \"Topic8\", \"Topic8\", \"Topic8\", \"Topic8\", \"Topic8\", \"Topic8\", \"Topic8\", \"Topic8\", \"Topic8\"], \"Freq\": [13007.0, 10585.0, 6945.0, 6352.0, 4221.0, 8002.0, 5230.0, 5199.0, 4766.0, 3039.0, 4409.0, 8380.0, 2626.0, 3841.0, 3785.0, 4066.0, 2718.0, 3247.0, 4767.0, 3223.0, 5370.0, 4274.0, 2357.0, 1940.0, 2828.0, 2147.0, 2193.0, 3801.0, 1859.0, 2747.0, 8001.377257298016, 4767.225121495004, 3286.536352350053, 2821.0277276534357, 2471.8771424453876, 2433.438977992787, 2425.0593872317845, 2165.928546819604, 2141.175018747144, 2071.5614428194845, 2022.3986193104988, 2014.506140219563, 1962.8663498994272, 1895.1922245646995, 1851.626951808615, 1822.3047343244016, 1804.8324805857594, 1726.1479381263841, 1705.2119261732714, 1675.67869752291, 1643.2960905048428, 1611.727232504315, 1590.7478276593552, 1553.1707739782, 1519.174824533066, 1492.3147567749813, 1483.7309019133318, 1455.79778614984, 1443.644865933749, 1437.8729498410466, 5225.43553804635, 1736.3250265140007, 2014.1476196802146, 3657.8231333979174, 2154.3980764697985, 2573.099264994167, 1701.1370954970853, 13007.185546246577, 4274.110900175665, 3800.56724384905, 2976.338068897273, 2916.8015627055374, 2767.0843405015044, 2721.677112229463, 2696.374998095408, 2623.2615137088724, 2446.388930963396, 2163.233520946582, 2076.609287527172, 2045.2775113541784, 1790.1778742480997, 1764.0267162996736, 1725.7677910347886, 1720.0727851850866, 1720.0057369345857, 1778.7788525743701, 1655.710092096475, 1591.1633381037832, 1578.965471044068, 1402.9713022890112, 1354.5886762617567, 1343.2341193963873, 1339.5184995946317, 1142.1130044496836, 1139.0188388510874, 1131.1884690862178, 1107.319057882587, 1117.9808998387673, 3275.2845705399136, 6178.730074940609, 1610.246580738062, 2134.157748734596, 3428.537447084497, 2433.6574862033594, 2430.176827809991, 3053.115687517989, 1924.4504792935543, 1743.6321128567322, 1809.0586849916863, 5198.686570550664, 4765.4215309731335, 4409.134166767899, 3784.8782510444958, 3222.756642322509, 2827.8335674419795, 2745.3626258881463, 2593.453759555859, 1987.8781676131637, 1976.7236644834968, 1866.560131883082, 1812.2714932484814, 1705.9768332083902, 1586.3631192179248, 1497.2973640639564, 1353.4463610524174, 1347.7607805149262, 1308.2565446680862, 1304.8887443221156, 1191.4730434251962, 1112.2060563367158, 1107.3489016694054, 1075.1786454652236, 979.2168247927741, 940.6234449145355, 911.5358985764708, 868.9200110406061, 814.4421686198033, 751.0850019794718, 738.880478695355, 2656.299710819603, 1582.6300297893717, 2155.294711821568, 1570.4030563061772, 1275.7144401364105, 985.9135433628188, 5229.799933688076, 3841.135453154074, 3246.4459367839186, 2746.4855671982764, 2357.694780667145, 1893.7732566260008, 1785.6550020509628, 1704.8664222923512, 1659.7831431201528, 1630.8449464218663, 1325.8915572911792, 1246.7572230893472, 1224.668195025214, 1107.48409862786, 1089.0636025799417, 1027.141192550367, 981.6729623231356, 870.1924318493004, 864.0229073195184, 806.5353633837879, 781.5919093709057, 764.7116800658413, 722.2067668513298, 713.5012302303687, 695.7815221827383, 685.1784530526066, 685.0680422711168, 676.0628570002119, 641.9179759324483, 638.813985937208, 1126.3585937659138, 7531.834729848111, 1319.0053868391717, 916.0779236475119, 1846.0168604125388, 1676.5338660627276, 1517.2086636099782, 1224.5271916693198, 1302.5716901859973, 830.0229940881334, 828.3479350088109, 6944.917691097347, 6351.55562639826, 2429.3027622038867, 1904.0889164668286, 1895.883670087969, 1788.166226828498, 1524.4525917463986, 1331.7661678649738, 1306.458922863703, 1237.6589609408534, 1184.3506000335883, 1111.4962702334583, 1012.3817682241918, 964.7864281131831, 934.0023697644865, 900.3975810478845, 899.5532118341997, 889.530260920875, 861.8475774089703, 840.3555303681453, 806.7124270653618, 766.8355669238888, 729.590563356928, 721.1492411944826, 705.286080858608, 656.4857404289273, 635.9988916980784, 648.1789801464735, 587.0427912840239, 565.8808948440588, 3783.276511881519, 1769.4026128191067, 2447.363547137549, 2604.604238852233, 2519.8781806065845, 1240.1835103410083, 1299.4265504838309, 1589.6488759242686, 987.4729422531112, 1085.3409693916537, 1095.561286506649, 1000.6229427259269, 936.0512126358649, 2717.8820839956543, 2356.662109070424, 2192.440819114074, 2051.5907026586924, 2034.9507819703188, 1807.2607609916713, 1323.2403771752322, 1168.7608973474037, 1079.4810635293677, 1007.4092309743393, 964.1983941022872, 934.931904872764, 906.7901882080523, 874.9880905893502, 846.0655066404349, 698.214257890814, 694.9664134237576, 687.2012719473051, 669.6739407701473, 588.7313000227775, 557.0104959181189, 547.5354184255374, 522.9818925758475, 497.36211050647785, 446.1260678379321, 433.5239248134445, 382.0587992700712, 375.9917931383544, 373.8040235869146, 358.7722909035445, 853.686642463439, 963.9899530367859, 458.3360539476699, 1340.671804483288, 960.6985022792472, 1262.8518086988581, 807.8047329871016, 585.0958315972844, 528.3190927411677, 4220.828209743329, 2146.73405891276, 1386.2180721147377, 1352.9208104444522, 1337.2222887550715, 1315.4196661394, 1219.1217600595487, 1161.5648346663322, 1132.9982897507975, 1125.3314834942757, 1121.323157985307, 1065.0104131305343, 954.7068051962295, 888.497790743563, 854.2379479933011, 823.5573401613995, 669.4356933766013, 627.8362574753271, 613.2204818500661, 581.5603016794973, 544.145935411099, 753.9448890091569, 471.59003771723997, 462.7933302745412, 430.3121745242604, 424.4809497091916, 414.25732687169585, 420.05257225856786, 398.1269819769073, 392.4678418271771, 816.7436001917252, 1224.432982291633, 653.7636570306645, 523.3581989253532, 666.7276020429947, 465.82506129430374, 3038.8305953437707, 2626.3610806137194, 1939.7181461271998, 1858.8158740797685, 1615.0246834512288, 1169.272351747425, 974.4030236090357, 853.9618987300548, 841.0282840265924, 756.4376294862265, 743.8256536961607, 708.2535858757668, 689.7127660043477, 655.7336105124665, 592.0759207678121, 547.8548178787066, 532.6133478643785, 531.8408829161059, 491.97626211915065, 490.2846322253635, 485.65136126750144, 471.8910818756014, 458.47693094694483, 441.80566988864643, 426.0275180338743, 402.92438045463416, 376.92328907998984, 376.2826690338001, 367.5316653646115, 351.0539239565086, 399.95535475826915], \"Term\": [\"man\", \"great\", \"god\", \"say\", \"countri\", \"natur\", \"good\", \"bodi\", \"idea\", \"present\", \"exist\", \"thing\", \"case\", \"govern\", \"produc\", \"thi\", \"price\", \"tax\", \"differ\", \"object\", \"state\", \"know\", \"labour\", \"proport\", \"emot\", \"trade\", \"land\", \"far\", \"number\", \"right\", \"natur\", \"differ\", \"mean\", \"certain\", \"note\", \"knowledg\", \"particular\", \"consid\", \"quantiti\", \"necessarili\", \"necessari\", \"use\", \"subject\", \"consequ\", \"respect\", \"fact\", \"proof\", \"advantag\", \"possibl\", \"individu\", \"sort\", \"observ\", \"part\", \"suppos\", \"foreign\", \"common\", \"depend\", \"occas\", \"extent\", \"endeavour\", \"state\", \"appear\", \"form\", \"in\", \"call\", \"mind\", \"word\", \"man\", \"know\", \"far\", \"law\", \"life\", \"way\", \"human\", \"love\", \"enemi\", \"desir\", \"truth\", \"want\", \"world\", \"see\", \"draw\", \"perfect\", \"pain\", \"long\", \"prop\", \"pleasur\", \"littl\", \"have\", \"caus\", \"aris\", \"essenc\", \"wish\", \"fear\", \"evil\", \"remain\", \"attack\", \"bitter\", \"if\", \"thing\", \"live\", \"find\", \"mind\", \"think\", \"time\", \"great\", \"reason\", \"shall\", \"power\", \"bodi\", \"idea\", \"exist\", \"produc\", \"object\", \"emot\", \"conceiv\", \"kind\", \"increas\", \"imagin\", \"affect\", \"regard\", \"feel\", \"chang\", \"imag\", \"effect\", \"perceiv\", \"thought\", \"activ\", \"altogeth\", \"attribut\", \"infinit\", \"extern\", \"experi\", \"substanc\", \"happen\", \"properti\", \"origin\", \"diminish\", \"mode\", \"gener\", \"becaus\", \"thing\", \"think\", \"time\", \"import\", \"good\", \"govern\", \"tax\", \"right\", \"pay\", \"valu\", \"high\", \"revenu\", \"profit\", \"duti\", \"free\", \"resourc\", \"nation\", \"slave\", \"sovereign\", \"virtu\", \"abl\", \"europ\", \"render\", \"cultiv\", \"oblig\", \"support\", \"danger\", \"soldier\", \"regul\", \"rich\", \"system\", \"gain\", \"nativ\", \"institut\", \"establish\", \"great\", \"believ\", \"frequent\", \"peopl\", \"power\", \"order\", \"employ\", \"gener\", \"account\", \"equal\", \"god\", \"say\", \"armi\", \"read\", \"market\", \"rent\", \"send\", \"compani\", \"king\", \"purchas\", \"offic\", \"command\", \"town\", \"hous\", \"consumpt\", \"consum\", \"chief\", \"blow\", \"exchang\", \"hear\", \"master\", \"head\", \"citi\", \"custom\", \"fire\", \"whi\", \"associ\", \"li\", \"obey\", \"princ\", \"thi\", \"hand\", \"bring\", \"come\", \"and\", \"answer\", \"take\", \"peopl\", \"speak\", \"when\", \"place\", \"give\", \"word\", \"price\", \"labour\", \"land\", \"year\", \"money\", \"capit\", \"silver\", \"gold\", \"merchant\", \"commod\", \"sea\", \"pound\", \"corn\", \"thousand\", \"bank\", \"return\", \"sell\", \"rise\", \"worth\", \"cent\", \"quarter\", \"cheap\", \"buy\", \"child\", \"seldom\", \"die\", \"march\", \"workman\", \"door\", \"hour\", \"shill\", \"annual\", \"berri\", \"work\", \"day\", \"time\", \"shall\", \"carri\", \"fall\", \"countri\", \"trade\", \"expens\", \"interest\", \"societi\", \"manufactur\", \"polit\", \"public\", \"forc\", \"stock\", \"war\", \"industri\", \"england\", \"commerc\", \"coloni\", \"privat\", \"america\", \"newspap\", \"wealth\", \"wage\", \"fight\", \"britain\", \"franc\", \"secur\", \"battl\", \"vote\", \"freedom\", \"presid\", \"million\", \"circul\", \"export\", \"new\", \"product\", \"attent\", \"import\", \"home\", \"present\", \"case\", \"proport\", \"number\", \"small\", \"condit\", \"that\", \"encourag\", \"old\", \"princip\", \"rememb\", \"perform\", \"treat\", \"impos\", \"spi\", \"dispos\", \"manag\", \"these\", \"famili\", \"fertil\", \"obtain\", \"court\", \"accompani\", \"of\", \"habit\", \"though\", \"ruler\", \"conclud\", \"soil\", \"hurt\", \"neighbor\"], \"Total\": [13007.0, 10585.0, 6945.0, 6352.0, 4221.0, 8002.0, 5230.0, 5199.0, 4766.0, 3039.0, 4409.0, 8380.0, 2626.0, 3841.0, 3785.0, 4066.0, 2718.0, 3247.0, 4767.0, 3223.0, 5370.0, 4274.0, 2357.0, 1940.0, 2828.0, 2147.0, 2193.0, 3801.0, 1859.0, 2747.0, 8002.002372990604, 4767.849992708563, 3287.1612479093887, 2821.6529556833107, 2472.503851670087, 2434.0638169213275, 2425.684287267289, 2166.5537285088126, 2141.8027440541755, 2072.1869199263588, 2023.023660514474, 2015.1311423772256, 1963.491329349409, 1895.8175352565584, 1852.2522486154285, 1822.929830038872, 1805.4584084191408, 1726.7732391209242, 1705.837078067707, 1676.3037182714058, 1643.92119363726, 1612.3529286622913, 1591.3730048170094, 1553.7956362726613, 1519.800871353421, 1492.9397436745387, 1484.3565653610979, 1456.4229051917885, 1444.2720209955346, 1438.4985471651032, 5370.480659207971, 1780.0779897411667, 2122.009545441588, 4747.09719471568, 2797.1987727305236, 6002.1677863535215, 2637.6952267771308, 13007.81109810302, 4274.736445787424, 3801.1930427377756, 2976.963436941585, 2917.4273840957126, 2767.709962188, 2722.3027092100333, 2697.0005627814544, 2623.8881156821426, 2447.0141854884587, 2163.859669193054, 2077.2364898674937, 2045.903586084748, 1790.8036690863023, 1764.6534976220084, 1726.393688127366, 1720.6984139341891, 1720.6313853026033, 1779.436229925671, 1656.3355581165279, 1591.7891225971384, 1579.5913352022174, 1403.5970418485433, 1355.214406713398, 1343.860382924273, 1340.1442585190628, 1142.7383147508062, 1139.643918102804, 1131.8141475314994, 1107.9460180766546, 1118.6288428903388, 3616.88144673981, 8380.566932531014, 1784.093784805295, 2867.0263914835095, 6002.1677863535215, 4004.59085259908, 4969.192454787806, 10585.498675958934, 3435.3087798588667, 2551.981708225393, 3486.1405729884805, 5199.31100328094, 4766.045696815111, 4409.75823374955, 3785.503341436899, 3223.3807687719927, 2828.458532206788, 2745.9870799401374, 2594.07876264517, 1988.5030907177807, 1977.348201233406, 1867.1848610830489, 1812.8959395303339, 1706.6010799181145, 1586.9881475097204, 1497.92122146176, 1354.0707822274167, 1348.385687796779, 1308.8809081146298, 1305.5154597005087, 1192.0992900983597, 1112.8303580551496, 1107.9737815901635, 1075.8027361221616, 979.8411541661258, 941.2478969333573, 912.1603239111304, 869.5446253903639, 815.0666431185349, 751.7101402076867, 739.5050828533062, 3959.418363054295, 2677.393406903371, 8380.566932531014, 4004.59085259908, 4969.192454787806, 1653.199368438684, 5230.441949383851, 3841.7777461481573, 3247.089326499206, 2747.1277660126375, 2358.336866503813, 1894.415169276442, 1786.2972913782946, 1705.5091983277066, 1660.4252780266745, 1631.487060000111, 1326.5338169914337, 1247.4038636593214, 1225.3098387637144, 1108.1272464959507, 1089.7058298717097, 1027.7834594624435, 982.3156168183865, 870.834547360543, 864.6654005390998, 807.1778014239123, 782.2341606394143, 765.353665838396, 722.849670732643, 714.1448392150637, 696.4236309257915, 685.8202035015407, 685.7100647772996, 676.7049854160051, 642.5625639481451, 639.4568167976579, 1139.6214317545853, 10585.498675958934, 1520.3263487898928, 1086.4959301839885, 3436.1895168378123, 3486.1405729884805, 3148.2402925651254, 2765.32269731362, 3959.418363054295, 1180.2718539943157, 1953.639498643458, 6945.519978991968, 6352.157356830411, 2429.9049311700473, 1904.6924846154814, 1896.4871865624489, 1788.7836577432165, 1525.0551190942742, 1332.3683905747162, 1307.0602823686554, 1238.2619586462454, 1184.9524475248832, 1112.0977851212244, 1012.9837131709239, 965.3878713344627, 934.6052013239887, 900.9997843629352, 900.1556686917621, 890.134309754548, 862.4501994402741, 840.9570561683947, 807.313905997839, 767.4373333702887, 730.1918655363131, 721.7510586790363, 705.8880400640968, 657.0906028972316, 636.6007733309743, 648.79329958162, 587.6444249034018, 566.4824523379937, 4066.2110674348673, 1910.7691372754755, 2895.154863517371, 3238.3722650872924, 3136.9281264427764, 1401.013726785651, 2099.937784280244, 3436.1895168378123, 1635.8181755817006, 2222.9968290552365, 2785.175794362161, 2717.765925351599, 2637.6952267771308, 2718.520408557759, 2357.3004685759856, 2193.0791494979235, 2052.2289737857845, 2035.5890911286258, 1807.8997047395237, 1323.878759238281, 1169.3990536478289, 1080.1214569056426, 1008.04847930314, 964.837848073356, 935.5704105847556, 907.4283632429243, 875.626703119925, 846.7089873443059, 698.8530589848576, 695.6045815668102, 687.8396507642441, 670.3131134925651, 589.3735186698564, 557.6510033296578, 548.1763740546284, 523.6202857124349, 498.0007040666865, 446.76497403387, 434.16544838340417, 382.70060130496876, 376.6310829151245, 374.4453602411035, 359.41642108535035, 859.7217293183232, 980.6356576108004, 464.101341073124, 1703.2975690953854, 1741.2459599184235, 4969.192454787806, 2551.981708225393, 1290.5682831822767, 1290.221703074329, 4221.481215962346, 2147.3872084151353, 1386.871159143645, 1353.5737338790138, 1337.8754625252848, 1316.0739257945581, 1219.7768442807126, 1162.2178125245387, 1133.651969653333, 1125.9867640369969, 1121.9764964228045, 1065.663724748126, 955.3599354486093, 889.1514642589563, 854.8960044002721, 824.2109667505725, 670.1060536868077, 628.5046295208754, 613.8737018399964, 582.2165301060102, 544.8005602422911, 754.8584398129223, 472.24283566118305, 463.4464055274373, 430.9669001295252, 425.1369751772429, 414.911417569508, 420.7168848087529, 398.7800423650994, 393.1219458974892, 820.6648002349916, 1257.5625426056067, 760.2391341830196, 765.8328496091953, 1653.199368438684, 813.7880838461083, 3039.4577887907217, 2626.9882841978456, 1940.34543506278, 1859.4428731869282, 1615.6517380017112, 1169.8998273849345, 975.0300986938164, 854.5898350045494, 841.6555147981016, 757.0653064930477, 744.4537076279529, 708.8815902822965, 690.3404679064265, 656.3609407995303, 592.7112261921075, 548.4821130773498, 533.2407410353356, 532.4679034547013, 492.6029664527583, 490.91362822264836, 486.27857008155064, 472.51810931300037, 459.1044410402754, 442.4328340019309, 426.6545004669972, 403.55225241194256, 377.55037848224526, 376.9112120639202, 368.16151839741144, 351.6815752445399, 407.1524709030406], \"loglift\": [30.0, 29.0, 28.0, 27.0, 26.0, 25.0, 24.0, 23.0, 22.0, 21.0, 20.0, 19.0, 18.0, 17.0, 16.0, 15.0, 14.0, 13.0, 12.0, 11.0, 10.0, 9.0, 8.0, 7.0, 6.0, 5.0, 4.0, 3.0, 2.0, 1.0, 1.4158, 1.4157, 1.4157, 1.4156, 1.4156, 1.4156, 1.4156, 1.4156, 1.4156, 1.4156, 1.4156, 1.4156, 1.4155, 1.4155, 1.4155, 1.4155, 1.4155, 1.4155, 1.4155, 1.4155, 1.4155, 1.4155, 1.4155, 1.4155, 1.4155, 1.4154, 1.4154, 1.4154, 1.4154, 1.4154, 1.3885, 1.391, 1.3637, 1.1552, 1.1548, 0.5689, 0.9773, 1.5386, 1.5385, 1.5385, 1.5384, 1.5384, 1.5384, 1.5384, 1.5384, 1.5384, 1.5384, 1.5383, 1.5383, 1.5383, 1.5383, 1.5383, 1.5383, 1.5383, 1.5383, 1.5382, 1.5382, 1.5382, 1.5382, 1.5382, 1.5382, 1.5382, 1.5382, 1.5381, 1.5381, 1.5381, 1.5381, 1.538, 1.4394, 1.2338, 1.4361, 1.2434, 0.9786, 1.0406, 0.8233, 0.2953, 0.9592, 1.1577, 0.8826, 2.0869, 2.0868, 2.0868, 2.0868, 2.0868, 2.0868, 2.0868, 2.0867, 2.0867, 2.0867, 2.0866, 2.0866, 2.0866, 2.0866, 2.0866, 2.0865, 2.0865, 2.0865, 2.0865, 2.0865, 2.0864, 2.0864, 2.0864, 2.0863, 2.0863, 2.0863, 2.0863, 2.0862, 2.0861, 2.0861, 1.6878, 1.5612, 0.729, 1.1509, 0.7272, 1.5701, 2.11, 2.1099, 2.1099, 2.1099, 2.1098, 2.1098, 2.1098, 2.1097, 2.1097, 2.1097, 2.1096, 2.1096, 2.1096, 2.1095, 2.1095, 2.1095, 2.1095, 2.1094, 2.1094, 2.1093, 2.1093, 2.1093, 2.1092, 2.1092, 2.1092, 2.1092, 2.1092, 2.1092, 2.1091, 2.1091, 2.0984, 1.7698, 1.9681, 1.9395, 1.4888, 1.378, 1.3801, 1.2955, 0.9984, 1.7581, 1.2521, 2.1137, 2.1137, 2.1135, 2.1135, 2.1135, 2.1134, 2.1134, 2.1133, 2.1133, 2.1133, 2.1133, 2.1132, 2.1132, 2.1132, 2.1131, 2.1131, 2.1131, 2.1131, 2.1131, 2.1131, 2.113, 2.113, 2.113, 2.113, 2.1129, 2.1129, 2.1128, 2.1128, 2.1128, 2.1127, 2.0417, 2.0369, 1.9458, 1.896, 1.8948, 1.9918, 1.6338, 1.3429, 1.609, 1.3968, 1.1807, 1.1146, 1.0778, 2.6773, 2.6773, 2.6773, 2.6773, 2.6772, 2.6772, 2.6771, 2.677, 2.677, 2.6769, 2.6769, 2.6769, 2.6769, 2.6768, 2.6768, 2.6766, 2.6766, 2.6766, 2.6766, 2.6765, 2.6764, 2.6764, 2.6763, 2.6763, 2.6761, 2.6761, 2.6759, 2.6759, 2.6758, 2.6758, 2.6705, 2.6604, 2.6651, 2.4382, 2.0829, 1.3077, 1.5273, 1.8865, 1.7847, 2.7444, 2.7443, 2.7441, 2.7441, 2.7441, 2.7441, 2.7441, 2.744, 2.744, 2.744, 2.744, 2.744, 2.7439, 2.7439, 2.7438, 2.7438, 2.7436, 2.7435, 2.7435, 2.7435, 2.7434, 2.7434, 2.7432, 2.7432, 2.7431, 2.7431, 2.743, 2.743, 2.743, 2.7429, 2.7398, 2.7179, 2.5937, 2.3639, 1.8365, 2.1867, 3.1339, 3.1339, 3.1338, 3.1338, 3.1338, 3.1336, 3.1335, 3.1334, 3.1334, 3.1333, 3.1333, 3.1333, 3.1332, 3.1332, 3.1331, 3.133, 3.133, 3.133, 3.1329, 3.1329, 3.1329, 3.1328, 3.1328, 3.1327, 3.1327, 3.1326, 3.1325, 3.1325, 3.1324, 3.1324, 3.1163], \"logprob\": [30.0, 29.0, 28.0, 27.0, 26.0, 25.0, 24.0, 23.0, 22.0, 21.0, 20.0, 19.0, 18.0, 17.0, 16.0, 15.0, 14.0, 13.0, 12.0, 11.0, 10.0, 9.0, 8.0, 7.0, 6.0, 5.0, 4.0, 3.0, 2.0, 1.0, -3.569700002670288, -4.087600231170654, -4.459499835968018, -4.612199783325195, -4.7444000244140625, -4.760000228881836, -4.763500213623047, -4.876500129699707, -4.888000011444092, -4.921000003814697, -4.945000171661377, -4.948999881744385, -4.974899768829346, -5.010000228881836, -5.033299922943115, -5.049200057983398, -5.058899879455566, -5.103400230407715, -5.115600109100342, -5.1331000328063965, -5.152599811553955, -5.171999931335449, -5.185100078582764, -5.209000110626221, -5.231200218200684, -5.249000072479248, -5.254799842834473, -5.273799896240234, -5.282199859619141, -5.286200046539307, -3.995800018310547, -5.097599983215332, -4.949100017547607, -4.352499961853027, -4.881800174713135, -4.70419979095459, -5.118000030517578, -2.9611001014709473, -4.073999881744385, -4.191400051116943, -4.4359002113342285, -4.456099987030029, -4.508800029754639, -4.525300025939941, -4.5346999168396, -4.56220006942749, -4.631999969482422, -4.755000114440918, -4.79580020904541, -4.810999870300293, -4.944300174713135, -4.959000110626221, -4.980899810791016, -4.9842000007629395, -4.984300136566162, -4.950699806213379, -5.022299766540527, -5.062099933624268, -5.069799900054932, -5.188000202178955, -5.223100185394287, -5.231500148773193, -5.234300136566162, -5.393700122833252, -5.396399974822998, -5.403299808502197, -5.424600124359131, -5.41510009765625, -4.340199947357178, -3.7054998874664307, -5.05019998550415, -4.768499851226807, -4.294400215148926, -4.637199878692627, -4.638599872589111, -4.410399913787842, -4.8719000816345215, -4.970600128173828, -4.933800220489502, -3.3297998905181885, -3.416800022125244, -3.494499921798706, -3.647200107574463, -3.808000087738037, -3.938699960708618, -3.9683001041412354, -4.025199890136719, -4.291100025177002, -4.296800136566162, -4.354100227355957, -4.383600234985352, -4.4440999031066895, -4.5167999267578125, -4.5746002197265625, -4.675600051879883, -4.679800033569336, -4.709499835968018, -4.712100028991699, -4.802999973297119, -4.8719000816345215, -4.876200199127197, -4.905700206756592, -4.999199867248535, -5.039400100708008, -5.070799827575684, -5.11870002746582, -5.183499813079834, -5.264500141143799, -5.280799865722656, -4.001299858093262, -4.519100189208984, -4.210299968719482, -4.526899814605713, -4.7347002029418945, -4.992400169372559, -3.3006999492645264, -3.609299898147583, -3.7774999141693115, -3.9447999000549316, -4.097400188446045, -4.316500186920166, -4.37529993057251, -4.421599864959717, -4.448400020599365, -4.466000080108643, -4.672999858856201, -4.734499931335449, -4.752399921417236, -4.853000164031982, -4.869800090789795, -4.928299903869629, -4.973599910736084, -5.094099998474121, -5.101200103759766, -5.170100212097168, -5.201499938964844, -5.223299980163574, -5.2804999351501465, -5.292699813842773, -5.317800045013428, -5.333199977874756, -5.3333001136779785, -5.34660005569458, -5.398399829864502, -5.403200149536133, -4.836100101470947, -2.9358999729156494, -4.678199768066406, -5.042699813842773, -4.342100143432617, -4.438399791717529, -4.5381999015808105, -4.752500057220459, -4.690700054168701, -5.14139986038208, -5.143400192260742, -3.013400077819824, -3.1026999950408936, -4.063799858093262, -4.307400226593018, -4.311699867248535, -4.370200157165527, -4.529799938201904, -4.664899826049805, -4.684100151062012, -4.7382001876831055, -4.782199859619141, -4.845699787139893, -4.9390997886657715, -4.987299919128418, -5.019700050354004, -5.056300163269043, -5.057300090789795, -5.06850004196167, -5.100100040435791, -5.12529993057251, -5.166200160980225, -5.216899871826172, -5.26669979095459, -5.278299808502197, -5.300600051879883, -5.372300148010254, -5.4039998054504395, -5.385000228881836, -5.484099864959717, -5.5208001136779785, -3.620800018310547, -4.380799770355225, -4.056399822235107, -3.9941000938415527, -4.027200222015381, -4.736199855804443, -4.689499855041504, -4.4878997802734375, -4.964000225067139, -4.869500160217285, -4.860099792480469, -4.950799942016602, -5.017499923706055, -3.3877999782562256, -3.530400037765503, -3.60260009765625, -3.6689999103546143, -3.6772000789642334, -3.795799970626831, -4.107600212097168, -4.2316999435424805, -4.311200141906738, -4.380300045013428, -4.424099922180176, -4.454899787902832, -4.485499858856201, -4.521200180053711, -4.554800033569336, -4.7469000816345215, -4.751500129699707, -4.762800216674805, -4.788599967956543, -4.917399883270264, -4.972799777984619, -4.989999771118164, -5.035799980163574, -5.086100101470947, -5.194799900054932, -5.223400115966797, -5.349800109863281, -5.365799903869629, -5.371699810028076, -5.412700176239014, -4.54580020904541, -4.424300193786621, -5.167799949645996, -4.0945000648498535, -4.427700042724609, -4.154300212860107, -4.601099967956543, -4.923600196838379, -5.025700092315674, -2.8805999755859375, -3.5566999912261963, -3.99399995803833, -4.0183000564575195, -4.03000020980835, -4.04640007019043, -4.122499942779541, -4.17080020904541, -4.195700168609619, -4.202499866485596, -4.206099987030029, -4.257599830627441, -4.367000102996826, -4.438799858093262, -4.478099822998047, -4.514699935913086, -4.72189998626709, -4.786099910736084, -4.809599876403809, -4.862599849700928, -4.929100036621094, -4.603000164031982, -5.072199821472168, -5.091100215911865, -5.16379976272583, -5.177499771118164, -5.201900005340576, -5.188000202178955, -5.241600036621094, -5.255899906158447, -4.5229997634887695, -4.118100166320801, -4.74560022354126, -4.968100070953369, -4.72599983215332, -5.084499835968018, -2.8196001052856445, -2.965399980545044, -3.2685000896453857, -3.3111000061035156, -3.45169997215271, -3.7746999263763428, -3.9570000171661377, -4.088900089263916, -4.1041998863220215, -4.21019983291626, -4.2270002365112305, -4.276000022888184, -4.302499771118164, -4.353000164031982, -4.4552001953125, -4.532800197601318, -4.560999870300293, -4.5625, -4.640399932861328, -4.643799781799316, -4.653299808502197, -4.68209981918335, -4.710899829864502, -4.747900009155273, -4.784299850463867, -4.840099811553955, -4.906799793243408, -4.9085001945495605, -4.932000160217285, -4.97790002822876, -4.847400188446045]}, \"token.table\": {\"Topic\": [4, 8, 3, 4, 3, 1, 3, 3, 7, 2, 5, 4, 6, 7, 1, 5, 1, 5, 2, 5, 5, 2, 3, 7, 3, 6, 7, 2, 3, 1, 4, 2, 3, 5, 6, 7, 8, 2, 5, 3, 1, 5, 7, 6, 1, 5, 6, 1, 2, 4, 6, 8, 2, 6, 1, 3, 6, 5, 6, 7, 5, 7, 2, 5, 5, 7, 6, 1, 5, 3, 8, 8, 1, 1, 5, 5, 6, 7, 8, 4, 5, 4, 5, 6, 1, 2, 6, 1, 3, 8, 6, 2, 4, 3, 3, 1, 4, 8, 1, 2, 7, 1, 4, 2, 1, 4, 4, 2, 5, 3, 7, 3, 1, 7, 8, 1, 3, 1, 2, 6, 8, 2, 2, 3, 8, 7, 1, 2, 5, 7, 1, 1, 3, 7, 4, 7, 3, 4, 4, 3, 4, 1, 2, 5, 5, 6, 4, 4, 2, 4, 8, 1, 2, 5, 3, 2, 5, 5, 4, 2, 7, 6, 5, 2, 8, 3, 2, 4, 3, 3, 3, 7, 8, 1, 2, 4, 6, 3, 1, 7, 3, 4, 7, 3, 5, 2, 1, 6, 6, 2, 5, 2, 2, 2, 6, 2, 2, 2, 8, 7, 6, 5, 5, 1, 6, 7, 1, 2, 3, 6, 4, 4, 1, 1, 1, 1, 4, 8, 1, 7, 7, 1, 8, 5, 3, 4, 1, 8, 1, 8, 5, 8, 2, 3, 4, 3, 2, 1, 1, 4, 4, 5, 3, 2, 8, 1, 2, 5, 2, 7, 1, 6, 2, 4, 8, 7, 6, 5, 8, 7, 3, 3, 7, 4, 1, 2, 3, 8, 7, 5, 1, 6, 5, 2, 3, 4, 3, 4, 2, 8, 4, 5, 4, 1, 6, 4, 4, 4, 6, 8, 5, 6, 7, 2, 6, 6, 5, 2, 6, 1, 4, 6, 7, 6, 4, 8, 7, 8, 4, 1, 4, 1, 2, 5, 8, 1, 7, 7, 1, 3, 4, 1, 4, 2, 3, 5, 6, 4, 8, 8, 3, 5, 1, 2, 3, 2, 3, 8, 3, 6, 2, 3, 6, 5, 7, 8, 2, 1, 4, 4, 7, 7, 2, 7, 2, 7, 1, 2, 3, 5, 5, 2, 1, 5, 2, 6, 6, 2, 6, 6], \"Freq\": [0.9996787012107079, 0.9975943577505527, 0.2965418507740553, 0.7032278175499026, 0.9996051676778864, 0.9995522057538268, 0.9999009947612034, 0.9990778535752093, 0.9983494348682236, 0.1966892370912137, 0.803333674991667, 0.0010197467247278957, 0.9830358426376916, 0.014276454146190541, 0.11420302095618176, 0.8850734124104086, 0.9752381693413468, 0.024156244977925064, 0.9998417912971292, 0.9996275857715916, 0.99905627929443, 0.9991461514719853, 0.3159958470356719, 0.6829166446266794, 0.9992538323122305, 0.9991626552275893, 0.997756439927905, 0.4086063696053178, 0.5912466938621738, 0.13220845653302424, 0.8675768864032785, 0.004309403621578588, 0.002154701810789294, 0.002154701810789294, 0.9868534293414967, 0.002154701810789294, 0.002154701810789294, 0.9994378449167162, 0.9998491129337718, 0.999940183751127, 0.15439588591020392, 0.8452052188417651, 0.9988627804000774, 0.9988153902181407, 0.7700561079173304, 0.2295153302149146, 0.9995023480909007, 0.11080390078035339, 0.09608170417317356, 0.3401602268711548, 0.4532886850105366, 0.9996237957345335, 0.9995746344351388, 0.999366244566435, 0.9997685910728336, 0.9993773441148436, 0.9996782530897422, 0.9998270646987222, 0.9979905569238864, 0.9971460613959676, 0.9997372395593969, 0.9989519141560375, 0.19546857130180403, 0.8044164743146911, 0.9990128699688897, 0.9987049852525228, 0.9989598919846943, 0.9993705414578717, 0.9997235069690018, 0.9996405372962793, 0.9975824225049436, 0.9992308509122991, 0.9995687690184553, 0.9997444196737305, 0.9988903611518153, 0.9993524524332505, 0.9995279371239914, 0.9998860077925903, 0.9989035143779914, 0.9997797245865797, 0.9989593937272349, 0.9988245540296342, 0.4479550953482428, 0.5519036495252069, 0.9997597845629422, 0.9995855416390828, 0.9996189277981005, 0.9998217241083794, 0.9990553004812593, 0.9991210049227588, 0.998810613541007, 0.9996296736878435, 0.9997014625417189, 0.9992092125157185, 0.9998378861837405, 0.5568970310394649, 0.44298627469048346, 0.9993098033929385, 0.9996534253259514, 0.9996615268475685, 0.9996232462391881, 0.5758483081352329, 0.42382435478753144, 0.9993597676252642, 0.011407296877512144, 0.9880474064675904, 0.9990416694387327, 0.9994349830744712, 0.9994779994942707, 0.9998280554830089, 0.999371852866143, 0.9991415402766568, 0.002437048596975664, 0.9955343518645589, 0.001218524298487832, 0.999811655289599, 0.9992538259150975, 0.9994899254905208, 0.5898211122838004, 0.4092319938053175, 0.9987759585430427, 0.9999492152238507, 0.9993539074158311, 0.9996477912001888, 0.9981389226737173, 0.9985305443850222, 0.25531679867838086, 0.7443252027044601, 0.9987419533783061, 0.9994248943496015, 0.9994730419171903, 0.9491003489246268, 0.0504239013579618, 0.9994857822229467, 0.9995975850863384, 0.9978033442057417, 0.156466301692646, 0.843077249120375, 0.998958208626804, 0.6708055973027215, 0.32908873994180954, 0.4452186219250878, 0.18618233280503674, 0.36831722359257263, 0.9999251346200801, 0.9996587532317698, 0.9999155043898531, 0.9997975556631465, 0.2884134317577089, 0.7115394588925855, 0.9984659707883526, 0.0633252849020428, 0.010466989240007073, 0.9258051982786256, 0.9998242371358108, 0.9996256403861942, 0.9994301380044047, 0.9988619440655444, 0.9998335711643691, 0.426400935191894, 0.572630650718797, 0.9988413966059401, 0.9995982222835195, 0.9998888039860486, 0.9980619535042006, 0.9997805944630767, 0.905476181131683, 0.09428011534836761, 0.9993850000597087, 0.9998239049484614, 0.5964192938999239, 0.40346011057936026, 0.9994500879362341, 0.7705761752828594, 0.07541450813320494, 0.061932584891514667, 0.09205625713466635, 0.9997470002837164, 0.9998188166809538, 0.9993771724299962, 0.999121114952047, 0.9992856174402118, 0.9995761340038938, 0.9995841442207907, 0.9991888037736607, 0.9998277213585531, 0.9995629461668457, 0.9998725370057865, 0.9995079295254025, 0.9996763692393298, 0.9987772691516211, 0.9998535065180911, 0.9995042543098606, 0.90241892758777, 0.09696799656688461, 0.9996330502233096, 0.9996290090572237, 0.9999376453042789, 0.9995485321791651, 0.9991839928035123, 0.9981693226961761, 0.9997431110708784, 0.999611172314131, 0.9999509461516404, 0.9989617307401194, 0.9980439282756652, 0.4286784527833346, 0.5712935929242341, 0.9993169988076925, 0.999710604104142, 0.9997471343541753, 0.9991244993410626, 0.9998747347296487, 0.9994939947888629, 0.9999097958178573, 0.002456082356032515, 0.014736494136195091, 0.982432942413006, 0.026241239605964764, 0.9733114326576022, 0.999197094982005, 0.9997962180444141, 0.9997618247953113, 0.9989033761300334, 0.9998818728535948, 0.999700651478551, 0.999781109547409, 0.999427138889744, 0.9997096274781996, 0.9990216955689842, 0.9991962145596032, 0.9992211602174805, 0.4523161727403445, 0.065751016683463, 0.4818564845836395, 0.9986913424472215, 0.9995941102005247, 0.9997656081786732, 0.9997178992868606, 0.9998571592936542, 0.5372229881251719, 0.46272185867769405, 0.9997139632968004, 0.9997719592407726, 0.998756364540451, 0.5608263590261874, 0.04559855800020858, 0.3935119651041622, 0.9997974093384137, 0.9993631258993356, 0.9995092860399921, 0.9993903071556111, 0.5189119492244806, 0.4810477273905218, 0.9998493847184159, 0.9982960398438042, 0.9998085691922265, 0.9991483366589688, 0.998592847296117, 0.9997440379234406, 0.9998670344756034, 0.13942981258641918, 0.8602556361463976, 0.9997438740349822, 0.999746098599113, 0.9997548493627731, 0.9993736659689899, 0.9998219723887624, 0.9998125888949632, 0.9997884465040565, 0.9996252016875018, 0.9988325972234054, 0.9996364323264387, 0.5600661027271744, 0.22443397359805167, 0.21511894486246458, 0.9995057964934457, 0.9993917051246117, 0.9992806702997351, 0.9993905495757439, 0.9992304531455926, 0.9995619046832052, 0.9996762366454945, 0.9998638151927649, 0.9987793442786145, 0.9997014391196448, 0.998804054623423, 0.9995894744952928, 0.9987792928725304, 0.9985422382982165, 0.999975227812919, 0.9991316177376032, 0.9990367699002234, 0.9995512243468251, 0.9982877484173324, 0.9991308545359945, 0.9993081436329325, 0.6833904782228042, 0.3166166894518496, 0.0011631670642928893, 0.0011631670642928893, 0.9933446729061274, 0.004652668257171557, 0.9993362237801998, 0.9989827463411669, 0.999596609847047, 0.9993456322731024, 0.9995612838677043, 0.9997971850987218, 0.9994396363762292, 0.9993522748503669, 0.2763143280513238, 0.11981771747358289, 0.6033677915633995, 0.9988000460246438, 0.9729110542538614, 0.026813242452163835, 0.9991236450831278, 0.9997497674972816, 0.9997366294956249, 0.9995379053447029, 0.9994879402064933, 0.9989644824922758, 0.2861989552733313, 0.09428850772732046, 0.61858975524136, 0.00047620458448141643, 0.9996645221644147, 0.9989435211331462, 0.9991212550997619, 0.0693520319834005, 0.9303501311815747, 0.005488888803147778, 0.737300954666307, 0.25714250806051003, 0.6078024171733482, 0.3920500390148548, 0.9986315219190529, 0.999326976114352, 0.9992842804842612, 0.4890130583810857, 0.25678216563550016, 0.2541660463931322, 0.9990288953730119, 0.9998196839332851, 0.9995068116063671, 0.9996027149055491, 0.9999349211699091, 0.9997808456756602, 0.9992377193316059, 0.9973256262248916, 0.9996280935102088, 0.9998861516882419, 0.999129664100881, 0.9997434838918458, 0.9985767400731166, 0.12415672230954047, 0.3733698533221688, 0.014394982296758315, 0.4880798684994616, 0.998340254917019, 0.9998923559772422, 0.6448811760858238, 0.35485525033294013, 0.21252892422799427, 0.7872963740048076, 0.9983244003382834, 0.9995583437602369, 0.9995328847276556, 0.9998884267843845], \"Term\": [\"abl\", \"accompani\", \"account\", \"account\", \"activ\", \"advantag\", \"affect\", \"altogeth\", \"america\", \"and\", \"and\", \"annual\", \"annual\", \"annual\", \"answer\", \"answer\", \"appear\", \"appear\", \"aris\", \"armi\", \"associ\", \"attack\", \"attent\", \"attent\", \"attribut\", \"bank\", \"battl\", \"becaus\", \"becaus\", \"believ\", \"believ\", \"berri\", \"berri\", \"berri\", \"berri\", \"berri\", \"berri\", \"bitter\", \"blow\", \"bodi\", \"bring\", \"bring\", \"britain\", \"buy\", \"call\", \"call\", \"capit\", \"carri\", \"carri\", \"carri\", \"carri\", \"case\", \"caus\", \"cent\", \"certain\", \"chang\", \"cheap\", \"chief\", \"child\", \"circul\", \"citi\", \"coloni\", \"come\", \"come\", \"command\", \"commerc\", \"commod\", \"common\", \"compani\", \"conceiv\", \"conclud\", \"condit\", \"consequ\", \"consid\", \"consum\", \"consumpt\", \"corn\", \"countri\", \"court\", \"cultiv\", \"custom\", \"danger\", \"day\", \"day\", \"depend\", \"desir\", \"die\", \"differ\", \"diminish\", \"dispos\", \"door\", \"draw\", \"duti\", \"effect\", \"emot\", \"employ\", \"employ\", \"encourag\", \"endeavour\", \"enemi\", \"england\", \"equal\", \"equal\", \"essenc\", \"establish\", \"establish\", \"europ\", \"evil\", \"exchang\", \"exist\", \"expens\", \"experi\", \"export\", \"export\", \"export\", \"extent\", \"extern\", \"fact\", \"fall\", \"fall\", \"famili\", \"far\", \"fear\", \"feel\", \"fertil\", \"fight\", \"find\", \"find\", \"fire\", \"forc\", \"foreign\", \"form\", \"form\", \"franc\", \"free\", \"freedom\", \"frequent\", \"frequent\", \"gain\", \"gener\", \"gener\", \"give\", \"give\", \"give\", \"god\", \"gold\", \"good\", \"govern\", \"great\", \"great\", \"habit\", \"hand\", \"hand\", \"hand\", \"happen\", \"have\", \"head\", \"hear\", \"high\", \"home\", \"home\", \"hour\", \"hous\", \"human\", \"hurt\", \"idea\", \"if\", \"if\", \"imag\", \"imagin\", \"import\", \"import\", \"impos\", \"in\", \"in\", \"in\", \"in\", \"increas\", \"individu\", \"industri\", \"infinit\", \"institut\", \"interest\", \"kind\", \"king\", \"know\", \"knowledg\", \"labour\", \"land\", \"law\", \"li\", \"life\", \"littl\", \"live\", \"live\", \"long\", \"love\", \"man\", \"manag\", \"manufactur\", \"march\", \"market\", \"master\", \"mean\", \"merchant\", \"million\", \"mind\", \"mind\", \"mode\", \"money\", \"nation\", \"nativ\", \"natur\", \"necessari\", \"necessarili\", \"neighbor\", \"neighbor\", \"neighbor\", \"new\", \"new\", \"newspap\", \"note\", \"number\", \"obey\", \"object\", \"oblig\", \"observ\", \"obtain\", \"occas\", \"of\", \"offic\", \"old\", \"order\", \"order\", \"order\", \"origin\", \"pain\", \"part\", \"particular\", \"pay\", \"peopl\", \"peopl\", \"perceiv\", \"perfect\", \"perform\", \"place\", \"place\", \"place\", \"pleasur\", \"polit\", \"possibl\", \"pound\", \"power\", \"power\", \"present\", \"presid\", \"price\", \"princ\", \"princip\", \"privat\", \"produc\", \"product\", \"product\", \"profit\", \"proof\", \"prop\", \"properti\", \"proport\", \"public\", \"purchas\", \"quantiti\", \"quarter\", \"read\", \"reason\", \"reason\", \"reason\", \"regard\", \"regul\", \"remain\", \"rememb\", \"render\", \"rent\", \"resourc\", \"respect\", \"return\", \"revenu\", \"rich\", \"right\", \"rise\", \"ruler\", \"say\", \"sea\", \"secur\", \"see\", \"seldom\", \"sell\", \"send\", \"shall\", \"shall\", \"shill\", \"shill\", \"shill\", \"shill\", \"silver\", \"slave\", \"small\", \"societi\", \"soil\", \"soldier\", \"sort\", \"sovereign\", \"speak\", \"speak\", \"speak\", \"spi\", \"state\", \"state\", \"stock\", \"subject\", \"substanc\", \"support\", \"suppos\", \"system\", \"take\", \"take\", \"take\", \"take\", \"tax\", \"that\", \"these\", \"thi\", \"thi\", \"thing\", \"thing\", \"thing\", \"think\", \"think\", \"though\", \"thought\", \"thousand\", \"time\", \"time\", \"time\", \"town\", \"trade\", \"treat\", \"truth\", \"use\", \"valu\", \"virtu\", \"vote\", \"wage\", \"want\", \"war\", \"way\", \"wealth\", \"when\", \"when\", \"when\", \"when\", \"whi\", \"wish\", \"word\", \"word\", \"work\", \"work\", \"workman\", \"world\", \"worth\", \"year\"]}, \"R\": 30, \"lambda.step\": 0.01, \"plot.opts\": {\"xlab\": \"PC1\", \"ylab\": \"PC2\"}, \"topic.order\": [3, 5, 4, 1, 6, 2, 7, 8]};\n",
       "\n",
       "function LDAvis_load_lib(url, callback){\n",
       "  var s = document.createElement('script');\n",
       "  s.src = url;\n",
       "  s.async = true;\n",
       "  s.onreadystatechange = s.onload = callback;\n",
       "  s.onerror = function(){console.warn(\"failed to load library \" + url);};\n",
       "  document.getElementsByTagName(\"head\")[0].appendChild(s);\n",
       "}\n",
       "\n",
       "if(typeof(LDAvis) !== \"undefined\"){\n",
       "   // already loaded: just create the visualization\n",
       "   !function(LDAvis){\n",
       "       new LDAvis(\"#\" + \"ldavis_el19511123365512722921867073\", ldavis_el19511123365512722921867073_data);\n",
       "   }(LDAvis);\n",
       "}else if(typeof define === \"function\" && define.amd){\n",
       "   // require.js is available: use it to load d3/LDAvis\n",
       "   require.config({paths: {d3: \"https://cdnjs.cloudflare.com/ajax/libs/d3/3.5.5/d3.min\"}});\n",
       "   require([\"d3\"], function(d3){\n",
       "      window.d3 = d3;\n",
       "      LDAvis_load_lib(\"https://cdn.rawgit.com/bmabey/pyLDAvis/files/ldavis.v1.0.0.js\", function(){\n",
       "        new LDAvis(\"#\" + \"ldavis_el19511123365512722921867073\", ldavis_el19511123365512722921867073_data);\n",
       "      });\n",
       "    });\n",
       "}else{\n",
       "    // require.js not available: dynamically load d3 & LDAvis\n",
       "    LDAvis_load_lib(\"https://cdnjs.cloudflare.com/ajax/libs/d3/3.5.5/d3.min.js\", function(){\n",
       "         LDAvis_load_lib(\"https://cdn.rawgit.com/bmabey/pyLDAvis/files/ldavis.v1.0.0.js\", function(){\n",
       "                 new LDAvis(\"#\" + \"ldavis_el19511123365512722921867073\", ldavis_el19511123365512722921867073_data);\n",
       "            })\n",
       "         });\n",
       "}\n",
       "</script>"
      ],
      "text/plain": [
       "<IPython.core.display.HTML object>"
      ]
     },
     "execution_count": 641,
     "metadata": {},
     "output_type": "execute_result"
    }
   ],
   "source": [
    "lda_display = pyLDAvis.gensim.prepare(lda_model, bow_corpus, g_dict, sort_topics=True)\n",
    "pyLDAvis.display(lda_display)"
   ]
  },
  {
   "cell_type": "code",
   "execution_count": 636,
   "metadata": {},
   "outputs": [
    {
     "data": {
      "text/html": [
       "\n",
       "<link rel=\"stylesheet\" type=\"text/css\" href=\"https://cdn.rawgit.com/bmabey/pyLDAvis/files/ldavis.v1.0.0.css\">\n",
       "\n",
       "\n",
       "<div id=\"ldavis_el19511127056540006747079648\"></div>\n",
       "<script type=\"text/javascript\">\n",
       "\n",
       "var ldavis_el19511127056540006747079648_data = {\"mdsDat\": {\"Freq\": [20.60606529151067, 14.215145453321318, 13.434566662727427, 12.859605210021652, 12.700555131059621, 12.51651689792966, 7.309791504670309, 6.357753848759344], \"cluster\": [1, 1, 1, 1, 1, 1, 1, 1], \"topics\": [1, 2, 3, 4, 5, 6, 7, 8], \"x\": [-0.22112864572489668, -0.1788917901920991, -0.21109402433148028, 0.025624927623776644, -0.01071923199458996, 0.276814607976125, 0.16955044109464013, 0.1498437155485242], \"y\": [0.004140612584196796, -0.1386885779581658, 0.03331783107996997, 0.1383669288299547, 0.14374885944564478, 0.048939091051004836, 0.10273286428339741, -0.33255760931600287]}, \"tinfo\": {\"Category\": [\"Default\", \"Default\", \"Default\", \"Default\", \"Default\", \"Default\", \"Default\", \"Default\", \"Default\", \"Default\", \"Default\", \"Default\", \"Default\", \"Default\", \"Default\", \"Default\", \"Default\", \"Default\", \"Default\", \"Default\", \"Default\", \"Default\", \"Default\", \"Default\", \"Default\", \"Default\", \"Default\", \"Default\", \"Default\", \"Default\", \"Topic1\", \"Topic1\", \"Topic1\", \"Topic1\", \"Topic1\", \"Topic1\", \"Topic1\", \"Topic1\", \"Topic1\", \"Topic1\", \"Topic1\", \"Topic1\", \"Topic1\", \"Topic1\", \"Topic1\", \"Topic1\", \"Topic1\", \"Topic1\", \"Topic1\", \"Topic1\", \"Topic1\", \"Topic1\", \"Topic1\", \"Topic1\", \"Topic1\", \"Topic1\", \"Topic1\", \"Topic1\", \"Topic1\", \"Topic1\", \"Topic1\", \"Topic1\", \"Topic1\", \"Topic1\", \"Topic1\", \"Topic1\", \"Topic1\", \"Topic1\", \"Topic1\", \"Topic1\", \"Topic1\", \"Topic1\", \"Topic1\", \"Topic1\", \"Topic1\", \"Topic1\", \"Topic1\", \"Topic1\", \"Topic1\", \"Topic1\", \"Topic1\", \"Topic1\", \"Topic1\", \"Topic1\", \"Topic1\", \"Topic1\", \"Topic1\", \"Topic1\", \"Topic1\", \"Topic1\", \"Topic1\", \"Topic1\", \"Topic1\", \"Topic1\", \"Topic2\", \"Topic2\", \"Topic2\", \"Topic2\", \"Topic2\", \"Topic2\", \"Topic2\", \"Topic2\", \"Topic2\", \"Topic2\", \"Topic2\", \"Topic2\", \"Topic2\", \"Topic2\", \"Topic2\", \"Topic2\", \"Topic2\", \"Topic2\", \"Topic2\", \"Topic2\", \"Topic2\", \"Topic2\", \"Topic2\", \"Topic2\", \"Topic2\", \"Topic2\", \"Topic2\", \"Topic2\", \"Topic2\", \"Topic2\", \"Topic2\", \"Topic2\", \"Topic2\", \"Topic2\", \"Topic2\", \"Topic2\", \"Topic2\", \"Topic2\", \"Topic2\", \"Topic2\", \"Topic2\", \"Topic2\", \"Topic2\", \"Topic2\", \"Topic2\", \"Topic2\", \"Topic2\", \"Topic2\", \"Topic2\", \"Topic2\", \"Topic2\", \"Topic2\", \"Topic2\", \"Topic2\", \"Topic2\", \"Topic2\", \"Topic2\", \"Topic2\", \"Topic2\", \"Topic3\", \"Topic3\", \"Topic3\", \"Topic3\", \"Topic3\", \"Topic3\", \"Topic3\", \"Topic3\", \"Topic3\", \"Topic3\", \"Topic3\", \"Topic3\", \"Topic3\", \"Topic3\", \"Topic3\", \"Topic3\", \"Topic3\", \"Topic3\", \"Topic3\", \"Topic3\", \"Topic3\", \"Topic3\", \"Topic3\", \"Topic3\", \"Topic3\", \"Topic3\", \"Topic3\", \"Topic3\", \"Topic3\", \"Topic3\", \"Topic3\", \"Topic3\", \"Topic3\", \"Topic3\", \"Topic3\", \"Topic3\", \"Topic3\", \"Topic3\", \"Topic3\", \"Topic3\", \"Topic3\", \"Topic3\", \"Topic3\", \"Topic3\", \"Topic3\", \"Topic3\", \"Topic3\", \"Topic3\", \"Topic3\", \"Topic3\", \"Topic3\", \"Topic3\", \"Topic3\", \"Topic3\", \"Topic3\", \"Topic3\", \"Topic3\", \"Topic3\", \"Topic3\", \"Topic3\", \"Topic3\", \"Topic3\", \"Topic4\", \"Topic4\", \"Topic4\", \"Topic4\", \"Topic4\", \"Topic4\", \"Topic4\", \"Topic4\", \"Topic4\", \"Topic4\", \"Topic4\", \"Topic4\", \"Topic4\", \"Topic4\", \"Topic4\", \"Topic4\", \"Topic4\", \"Topic4\", \"Topic4\", \"Topic4\", \"Topic4\", \"Topic4\", \"Topic4\", \"Topic4\", \"Topic4\", \"Topic4\", \"Topic4\", \"Topic4\", \"Topic4\", \"Topic4\", \"Topic4\", \"Topic4\", \"Topic4\", \"Topic4\", \"Topic4\", \"Topic4\", \"Topic4\", \"Topic4\", \"Topic4\", \"Topic4\", \"Topic4\", \"Topic4\", \"Topic4\", \"Topic4\", \"Topic4\", \"Topic4\", \"Topic4\", \"Topic4\", \"Topic4\", \"Topic4\", \"Topic4\", \"Topic4\", \"Topic4\", \"Topic4\", \"Topic4\", \"Topic4\", \"Topic4\", \"Topic4\", \"Topic4\", \"Topic4\", \"Topic4\", \"Topic4\", \"Topic4\", \"Topic4\", \"Topic4\", \"Topic4\", \"Topic4\", \"Topic4\", \"Topic4\", \"Topic4\", \"Topic4\", \"Topic4\", \"Topic4\", \"Topic5\", \"Topic5\", \"Topic5\", \"Topic5\", \"Topic5\", \"Topic5\", \"Topic5\", \"Topic5\", \"Topic5\", \"Topic5\", \"Topic5\", \"Topic5\", \"Topic5\", \"Topic5\", \"Topic5\", \"Topic5\", \"Topic5\", \"Topic5\", \"Topic5\", \"Topic5\", \"Topic5\", \"Topic5\", \"Topic5\", \"Topic5\", \"Topic5\", \"Topic5\", \"Topic5\", \"Topic5\", \"Topic5\", \"Topic5\", \"Topic5\", \"Topic5\", \"Topic5\", \"Topic5\", \"Topic5\", \"Topic5\", \"Topic5\", \"Topic5\", \"Topic5\", \"Topic5\", \"Topic5\", \"Topic5\", \"Topic5\", \"Topic5\", \"Topic5\", \"Topic5\", \"Topic5\", \"Topic5\", \"Topic5\", \"Topic5\", \"Topic5\", \"Topic5\", \"Topic5\", \"Topic5\", \"Topic5\", \"Topic5\", \"Topic5\", \"Topic5\", \"Topic5\", \"Topic5\", \"Topic5\", \"Topic5\", \"Topic5\", \"Topic5\", \"Topic6\", \"Topic6\", \"Topic6\", \"Topic6\", \"Topic6\", \"Topic6\", \"Topic6\", \"Topic6\", \"Topic6\", \"Topic6\", \"Topic6\", \"Topic6\", \"Topic6\", \"Topic6\", \"Topic6\", \"Topic6\", \"Topic6\", \"Topic6\", \"Topic6\", \"Topic6\", \"Topic6\", \"Topic6\", \"Topic6\", \"Topic6\", \"Topic6\", \"Topic6\", \"Topic6\", \"Topic6\", \"Topic6\", \"Topic6\", \"Topic6\", \"Topic6\", \"Topic6\", \"Topic6\", \"Topic6\", \"Topic6\", \"Topic6\", \"Topic6\", \"Topic6\", \"Topic6\", \"Topic6\", \"Topic6\", \"Topic6\", \"Topic6\", \"Topic6\", \"Topic6\", \"Topic6\", \"Topic6\", \"Topic6\", \"Topic6\", \"Topic6\", \"Topic6\", \"Topic6\", \"Topic6\", \"Topic6\", \"Topic6\", \"Topic6\", \"Topic6\", \"Topic6\", \"Topic6\", \"Topic6\", \"Topic6\", \"Topic7\", \"Topic7\", \"Topic7\", \"Topic7\", \"Topic7\", \"Topic7\", \"Topic7\", \"Topic7\", \"Topic7\", \"Topic7\", \"Topic7\", \"Topic7\", \"Topic7\", \"Topic7\", \"Topic7\", \"Topic7\", \"Topic7\", \"Topic7\", \"Topic7\", \"Topic7\", \"Topic7\", \"Topic7\", \"Topic7\", \"Topic7\", \"Topic7\", \"Topic7\", \"Topic7\", \"Topic7\", \"Topic7\", \"Topic7\", \"Topic7\", \"Topic7\", \"Topic7\", \"Topic7\", \"Topic7\", \"Topic7\", \"Topic7\", \"Topic7\", \"Topic7\", \"Topic7\", \"Topic7\", \"Topic7\", \"Topic7\", \"Topic7\", \"Topic7\", \"Topic7\", \"Topic7\", \"Topic7\", \"Topic7\", \"Topic7\", \"Topic7\", \"Topic7\", \"Topic7\", \"Topic7\", \"Topic7\", \"Topic7\", \"Topic7\", \"Topic7\", \"Topic7\", \"Topic7\", \"Topic8\", \"Topic8\", \"Topic8\", \"Topic8\", \"Topic8\", \"Topic8\", \"Topic8\", \"Topic8\", \"Topic8\", \"Topic8\", \"Topic8\", \"Topic8\", \"Topic8\", \"Topic8\", \"Topic8\", \"Topic8\", \"Topic8\", \"Topic8\", \"Topic8\", \"Topic8\", \"Topic8\", \"Topic8\", \"Topic8\", \"Topic8\", \"Topic8\", \"Topic8\", \"Topic8\", \"Topic8\", \"Topic8\", \"Topic8\", \"Topic8\", \"Topic8\", \"Topic8\", \"Topic8\", \"Topic8\", \"Topic8\", \"Topic8\", \"Topic8\", \"Topic8\", \"Topic8\", \"Topic8\", \"Topic8\", \"Topic8\", \"Topic8\", \"Topic8\", \"Topic8\", \"Topic8\", \"Topic8\", \"Topic8\", \"Topic8\", \"Topic8\", \"Topic8\", \"Topic8\", \"Topic8\", \"Topic8\", \"Topic8\"], \"Freq\": [13134.0, 9860.0, 4704.0, 4150.0, 4079.0, 4798.0, 6740.0, 3286.0, 3456.0, 3106.0, 7390.0, 3768.0, 5039.0, 2394.0, 5577.0, 1709.0, 2409.0, 3724.0, 6786.0, 4041.0, 4428.0, 1856.0, 5120.0, 1980.0, 4155.0, 3294.0, 3557.0, 4019.0, 5658.0, 2949.0, 4797.481148435839, 1479.415178517607, 1404.205383690252, 1297.6571915869076, 1178.386859142912, 1046.0249791880237, 1043.3753335348883, 881.1522357211633, 876.9317953038412, 857.8389256208845, 620.9630639499508, 588.2508179338001, 576.6416725318859, 554.6982239554284, 537.5913249578493, 524.4697329294621, 461.36925452283447, 448.4404809071903, 416.11822395971416, 407.1114672736051, 384.47017160061324, 378.2032783570882, 351.31444604305256, 345.92274678624466, 345.12302912011194, 316.7890835935771, 312.1175542290123, 306.31008939225893, 303.9834082626956, 296.18668749893214, 1720.4243234261405, 856.1148195805109, 3332.997702007183, 506.1146105854322, 1009.9721197743398, 724.94697052463, 3176.422299586712, 3210.4439249858583, 784.2081246223032, 1110.4123457080086, 735.7863023829645, 1471.9353852949287, 1184.1882027602132, 1295.8309341870524, 1037.3128553262793, 1974.3071228962604, 1196.8144252767886, 1322.2562947199995, 985.6339266006493, 3118.4054939351026, 1385.9227051360685, 1311.606832980635, 1204.9567703076925, 1690.4626951050977, 2455.3983568351964, 1966.198584967285, 1422.3869778865096, 1261.8695101388485, 1535.2314900131305, 1631.230967787176, 1261.1323805376646, 1200.5474706149796, 1181.3682861219497, 1195.9881168087238, 2408.399764945113, 1345.7921778380012, 1021.9337051621508, 1016.2777924841122, 858.0861833319057, 817.3395463147541, 755.3925151574019, 639.0284478515176, 620.3210190443565, 576.6864550536008, 498.20019696623166, 483.36157142276386, 389.85173959456984, 388.914369133059, 353.89535386669587, 335.9884245572286, 328.78586611398515, 327.88866977913096, 304.28976018129015, 302.9144452503566, 299.0144169663303, 297.80632635334655, 287.6475991581903, 278.7007397962194, 267.0999861502618, 265.0320065157995, 262.39140029877836, 250.22534206634504, 246.99837568151938, 246.95208052110007, 1136.8582060529548, 902.1784689296524, 655.2899813004587, 1869.7367067358482, 650.3884279225748, 1085.6298023467923, 502.5741017374956, 1100.7785086132694, 1219.1534129915922, 563.3964123113387, 3296.5520012300362, 562.8658581507175, 618.8435642051004, 417.3805853122895, 748.5287443106997, 1468.1894536941613, 979.2171025321777, 1110.3566092671836, 560.4708293578788, 632.4086660594771, 1197.7112767584908, 1053.6364760544109, 947.093452457662, 864.3591581983615, 616.8126594396936, 691.0885760757069, 712.1380363707246, 666.997891777981, 625.4338255684886, 1979.4736613487073, 812.3909012336704, 693.166911286613, 563.5874806070213, 478.97362370111256, 476.32713402869564, 468.26735338388113, 414.29957008726745, 337.1802561796944, 336.70999368899794, 295.83477726539184, 287.40338893221514, 274.2278194847441, 269.98698106671645, 254.48600314522173, 251.91350915123036, 234.39692702735846, 230.75076342822624, 221.98732818379708, 221.75289259302087, 215.47526912156755, 214.3117685431377, 196.40699286137036, 196.0849597146154, 195.5106968653995, 193.19321519215717, 167.18984866313536, 163.60596445489963, 160.91379956781876, 159.17270432090697, 1681.491416726139, 415.7411128141206, 899.4465056874265, 681.8676503668185, 471.39856783941315, 658.5207506613125, 823.0593865236208, 588.3038678710769, 1090.6217551130014, 1065.1900152685014, 538.1955029133231, 1943.0940027566899, 1171.621210543001, 640.7567351901869, 1122.4963546965125, 588.9755040536786, 445.39961322491405, 738.4434060405973, 778.19625703902, 398.33448072602897, 821.3806622011018, 1401.688017380021, 582.1787758178922, 589.1305617964456, 623.44899589152, 903.3104640877037, 872.5680972402794, 793.5552848144208, 790.9849510109426, 650.6327600823923, 670.5684626738209, 567.1374058881222, 1499.4927251383745, 780.3765381182315, 395.6202232723006, 338.54529430237005, 298.99327423158024, 241.74355109908583, 218.66332683999514, 209.13619510388565, 208.39257955676186, 192.41931947688647, 183.44269735592547, 178.17689835571608, 172.3729260902775, 166.9577766492128, 133.23860711753628, 125.58824775224524, 112.8572660597166, 106.71131054850397, 102.7714238394782, 98.10979932888864, 98.10753007133957, 94.4551381420736, 91.35533233003768, 90.67638624225644, 86.76386204800194, 86.33306233977628, 85.34465611055366, 85.2783394681253, 82.07163322614244, 80.31857481900327, 363.8405943009467, 244.92978145345407, 348.15457491407847, 578.7063755830445, 359.6946344739509, 824.3413266294705, 3495.777551188019, 388.9997388465788, 290.5100885841667, 890.2907523690415, 379.15375452079394, 1244.9317239963668, 171.87495110163195, 1355.2848599698734, 329.2634526602524, 1603.752545366517, 862.3790597476669, 6029.762795781873, 1945.8870516128777, 632.9446800469589, 1899.584384606138, 1168.948149548293, 1020.4543840833993, 748.5815588023756, 2592.7452418605735, 681.286279342348, 756.1423394449573, 813.3799189829999, 1401.371500667231, 1258.144375317314, 956.2197109826101, 702.0236835566807, 1018.2960835907011, 1050.1240766611704, 1755.7438062193253, 743.4048478745948, 1839.6288828836039, 832.7924272531593, 875.3765959668964, 1033.6503532947963, 1083.670887758463, 818.457308275351, 752.8225996445165, 963.6207232354936, 744.6460889486555, 535.9548001516885, 509.9760224629932, 440.96215606140214, 380.69519925224245, 330.95772088631406, 324.33182593542267, 319.60140740021086, 309.6555731504201, 306.5545956097763, 294.03677410568685, 290.8076938986972, 286.1465705642485, 250.634147386146, 247.34999791621223, 242.0621199125236, 241.15778639087608, 238.04512696698674, 224.51174310625862, 223.63670947844025, 220.28046115576444, 219.28063040189642, 195.29287828058236, 190.40580136442455, 183.64880972377767, 177.116456371319, 174.54054054295108, 173.8047030439384, 172.20065067562402, 766.5467644625694, 3361.2796665234364, 844.5390321162841, 330.53689618557576, 2366.320759857109, 1239.0602161181914, 489.774048531423, 634.1425344953434, 348.7021727128982, 2990.3937532857144, 413.10517383773697, 1773.3792410986189, 409.69569074044887, 638.4771189067155, 4411.224764964145, 1729.6199794634622, 645.8168721096243, 764.2377320735043, 622.0866233080292, 752.1892972914671, 1114.391850381613, 755.8834029840975, 1365.4777837857216, 822.2409995070851, 520.8288554344608, 1197.0777083519524, 629.3839409883927, 702.5696415346285, 687.23954941775, 775.6836931969584, 671.5536357904596, 628.2200446742763, 740.2768915498892, 630.1166287055526, 4703.236972090445, 4148.954959463884, 3285.4113941547744, 2393.4235390376484, 961.1927742881256, 753.4309283078796, 607.8750874140475, 556.5503542070277, 509.87565642825405, 479.15671442603286, 432.2634647433517, 405.63796203763644, 344.85825799041214, 267.91988635137176, 231.5819397649191, 226.43877251228722, 220.34077528958693, 218.47760922256174, 216.79185668015387, 204.44531145780684, 202.504303117531, 197.70714511061257, 195.62150432573426, 176.431507841036, 157.35140131395255, 150.05817384917071, 149.04177275586943, 148.22504289239848, 139.4311770641584, 134.50711602610028, 3073.076502233893, 4009.0088789579413, 659.6159117907042, 1297.4021485370126, 332.3094149584625, 4786.799049188033, 1032.5188101266422, 451.87084863186027, 6006.895974759242, 549.8955220726078, 1024.5658676904895, 604.8744417485049, 2997.2779127145986, 383.95462500912384, 550.7974963886877, 3638.210041576713, 1495.8736113056407, 1097.1918899591474, 1240.4381144475212, 1871.9230157630457, 734.696455800828, 886.597635864486, 1349.4439039104343, 734.2290610470678, 670.3855028626385, 784.908201412921, 860.8227697793019, 659.7209749815947, 734.7061434457023, 694.5222700669973, 753.8775150920154, 678.8928241878664, 1211.8472916204328, 1127.7225119431455, 516.5774489867051, 486.2007540773601, 487.3058776743445, 473.72425649626257, 410.2595148407339, 371.98292137294027, 311.8515794382289, 259.5935608217025, 259.24597102251397, 249.60770511726406, 238.21650927103542, 221.38189142288846, 198.99800880556683, 196.8036589442293, 196.1920499102491, 192.18914936519246, 185.31020619524764, 164.9771193303139, 163.12200221172526, 162.41705113257666, 158.24269646058764, 152.62844785802503, 151.57861629953484, 150.95659829776025, 143.73860167829176, 138.79522848136148, 141.49289426867892, 131.8456238592318, 1672.8010096463256, 540.3708950973431, 223.27652277615672, 343.1072693446851, 628.3465346647464, 278.25884218467246, 223.7653956367761, 191.27403674394506, 1853.631056652594, 356.9336456965882, 470.76293006060376, 648.005917275384, 562.5459608717548, 642.8684093585379, 411.7110329487391, 1243.9818171522445, 491.9260250292394, 2192.198502007259, 659.8730569485506, 817.5514479043976, 1042.1624302339956, 1153.0188735530028, 537.8143729211703, 367.90105212293275, 498.6215113869004, 498.71502276455925, 530.0680688922806, 412.0888635385723, 399.166125041506, 399.2189567785216, 1708.3971157195297, 1037.407325101279, 927.6393234185849, 664.991921676849, 556.9316215400492, 494.97448092657027, 469.0336631012692, 444.42587060858256, 363.0928895305831, 339.3175837814792, 268.49761110629873, 223.68701867669066, 223.5468962878268, 220.79689694273574, 202.0288137320533, 184.26276067722426, 178.70651897056484, 175.01932661307637, 172.07460791519043, 163.4284656760599, 156.7954283742064, 151.8807313157569, 150.196317081676, 142.3281166028039, 134.34025676724897, 132.41610797494863, 130.54554252474816, 130.01774877092322, 126.61612920335189, 120.3479784338447, 296.6829168762824, 252.35458318900743, 712.6546726706332, 249.6405197700328, 630.562948003126, 302.8305246187924, 826.0409404262972, 314.33573884279366, 263.0321795195893, 269.4381655312644, 261.5780740270415, 625.1110833547721, 768.7474998482578, 281.56955547075364, 245.95797101341185, 486.29039284452983, 495.15693285617783, 385.3607230309007, 467.96795670217665, 313.3446765949594, 349.95087530826174, 356.42329253533245, 336.1940691233254, 307.1382268056357, 303.9475532035922, 274.6442831978877], \"Term\": [\"man\", \"and\", \"ye\", \"thou\", \"unto\", \"idea\", \"shall\", \"allah\", \"govern\", \"lord\", \"say\", \"god\", \"know\", \"thee\", \"good\", \"year\", \"countri\", \"object\", \"thing\", \"differ\", \"law\", \"king\", \"thi\", \"principl\", \"exist\", \"right\", \"mind\", \"peopl\", \"great\", \"bodi\", \"idea\", \"concept\", \"distinct\", \"proposit\", \"phenomenon\", \"sensat\", \"substanc\", \"speci\", \"percept\", \"definit\", \"space\", \"extern\", \"combin\", \"complex\", \"intuit\", \"represent\", \"includ\", \"uniti\", \"sensibl\", \"extens\", \"demonstr\", \"confin\", \"predic\", \"seri\", \"priori\", \"intern\", \"varieti\", \"ident\", \"causal\", \"b\", \"relat\", \"mode\", \"object\", \"preced\", \"simpl\", \"contain\", \"differ\", \"exist\", \"distinguish\", \"part\", \"attribut\", \"particular\", \"real\", \"effect\", \"term\", \"case\", \"condit\", \"possibl\", \"caus\", \"thing\", \"becaus\", \"certain\", \"mere\", \"bodi\", \"natur\", \"gener\", \"form\", \"understand\", \"mean\", \"time\", \"subject\", \"give\", \"place\", \"law\", \"countri\", \"tax\", \"labour\", \"england\", \"trade\", \"expens\", \"franc\", \"burk\", \"america\", \"foreign\", \"revenu\", \"industri\", \"stock\", \"commerc\", \"elect\", \"cultiv\", \"republ\", \"britain\", \"rent\", \"spend\", \"purchas\", \"commod\", \"exchang\", \"shill\", \"despot\", \"tyrant\", \"debt\", \"cost\", \"export\", \"savag\", \"money\", \"increas\", \"poor\", \"nation\", \"profit\", \"societi\", \"privat\", \"public\", \"interest\", \"revolut\", \"great\", \"rich\", \"advantag\", \"improv\", \"employ\", \"state\", \"produc\", \"in\", \"age\", \"happi\", \"good\", \"time\", \"gener\", \"differ\", \"small\", \"present\", \"peopl\", \"person\", \"equal\", \"principl\", \"scienc\", \"philosophi\", \"belief\", \"theori\", \"social\", \"intellectu\", \"studi\", \"psycholog\", \"annual\", \"cognit\", \"ideal\", \"de\", \"mystic\", \"major\", \"attila\", \"develop\", \"investig\", \"fundament\", \"occurr\", \"code\", \"school\", \"analysi\", \"assent\", \"calcul\", \"problem\", \"basi\", \"lectur\", \"scientif\", \"integr\", \"moral\", \"nietzsch\", \"determin\", \"philosoph\", \"attempt\", \"practic\", \"view\", \"argument\", \"feel\", \"question\", \"method\", \"reason\", \"human\", \"system\", \"fact\", \"physic\", \"process\", \"point\", \"opinion\", \"influenc\", \"experi\", \"natur\", \"purpos\", \"rule\", \"valu\", \"mean\", \"gener\", \"exist\", \"law\", \"true\", \"form\", \"possibl\", \"socrat\", \"pain\", \"achiev\", \"theaetetu\", \"discours\", \"theodoru\", \"cold\", \"delight\", \"adopt\", \"anteced\", \"creation\", \"lover\", \"creator\", \"causat\", \"oath\", \"appetit\", \"artifici\", \"smell\", \"ego\", \"awak\", \"entiti\", \"susten\", \"perplex\", \"recollect\", \"immort\", \"healthi\", \"outward\", \"phrase\", \"warm\", \"finit\", \"hard\", \"deceiv\", \"tast\", \"fals\", \"beauti\", \"pleasur\", \"know\", \"memori\", \"white\", \"learn\", \"etern\", \"soul\", \"diseas\", \"truth\", \"sound\", \"knowledg\", \"anim\", \"man\", \"mind\", \"light\", \"think\", \"true\", \"desir\", \"ask\", \"thing\", \"eye\", \"tell\", \"hear\", \"word\", \"bodi\", \"speak\", \"spirit\", \"way\", \"life\", \"say\", \"be\", \"and\", \"see\", \"world\", \"come\", \"good\", \"find\", \"great\", \"pay\", \"honour\", \"capit\", \"sovereign\", \"europ\", \"manufactur\", \"injustic\", \"unjust\", \"hereditari\", \"protect\", \"penalti\", \"inhabit\", \"courag\", \"fellow\", \"guardian\", \"wage\", \"induct\", \"vote\", \"contract\", \"most\", \"soldier\", \"obedi\", \"oppress\", \"democraci\", \"contempt\", \"injuri\", \"hatr\", \"tendenc\", \"prosper\", \"opportun\", \"citizen\", \"govern\", \"justic\", \"reward\", \"right\", \"evil\", \"punish\", \"enemi\", \"fight\", \"good\", \"ruler\", \"power\", \"reject\", \"war\", \"man\", \"peopl\", \"bad\", \"forc\", \"fear\", \"virtu\", \"life\", \"love\", \"state\", \"act\", \"will\", \"law\", \"to\", \"order\", \"believ\", \"if\", \"person\", \"let\", \"natur\", \"great\", \"ye\", \"thou\", \"allah\", \"thee\", \"shalt\", \"behold\", \"verili\", \"o\", \"bless\", \"hast\", \"messeng\", \"jesu\", \"thine\", \"pharaoh\", \"cattl\", \"wilt\", \"joseph\", \"thyself\", \"cometh\", \"ah\", \"jacob\", \"garden\", \"abraham\", \"cloud\", \"flee\", \"knoweth\", \"femal\", \"yea\", \"oil\", \"male\", \"lord\", \"unto\", \"brother\", \"son\", \"egypt\", \"shall\", \"father\", \"spake\", \"and\", \"eat\", \"offer\", \"israel\", \"thi\", \"burn\", \"forth\", \"say\", \"day\", \"child\", \"hath\", \"come\", \"heart\", \"land\", \"god\", \"then\", \"mose\", \"earth\", \"bring\", \"send\", \"hand\", \"go\", \"peopl\", \"let\", \"price\", \"liberti\", \"christian\", \"kingdom\", \"magistr\", \"church\", \"congreg\", \"witch\", \"rome\", \"christ\", \"unclean\", \"inequ\", \"soveraign\", \"jew\", \"chap\", \"peter\", \"john\", \"scriptur\", \"sheep\", \"crimin\", \"elder\", \"statut\", \"goat\", \"whosoev\", \"senat\", \"pope\", \"saviour\", \"enforc\", \"aristocrat\", \"apostl\", \"king\", \"religion\", \"prohibit\", \"minist\", \"assembl\", \"wherefor\", \"preach\", \"reign\", \"god\", \"worship\", \"civil\", \"command\", \"judg\", \"author\", \"offic\", \"law\", \"master\", \"man\", \"hath\", \"peopl\", \"say\", \"and\", \"call\", \"teach\", \"place\", \"time\", \"shall\", \"take\", \"nation\", \"power\", \"year\", \"zarathustra\", \"thousand\", \"gold\", \"silver\", \"million\", \"pound\", \"market\", \"sum\", \"corn\", \"tribe\", \"upward\", \"bank\", \"thirti\", \"ship\", \"contin\", \"shadow\", \"provis\", \"metal\", \"skin\", \"record\", \"homer\", \"paper\", \"iron\", \"catch\", \"east\", \"wall\", \"bill\", \"danc\", \"justli\", \"imit\", \"fine\", \"old\", \"tabl\", \"hous\", \"ancient\", \"number\", \"half\", \"round\", \"sea\", \"parliament\", \"day\", \"time\", \"court\", \"armi\", \"take\", \"place\", \"go\", \"come\", \"citi\", \"long\", \"hand\", \"new\", \"quantiti\", \"begin\", \"famili\"], \"Total\": [13134.0, 9860.0, 4704.0, 4150.0, 4079.0, 4798.0, 6740.0, 3286.0, 3456.0, 3106.0, 7390.0, 3768.0, 5039.0, 2394.0, 5577.0, 1709.0, 2409.0, 3724.0, 6786.0, 4041.0, 4428.0, 1856.0, 5120.0, 1980.0, 4155.0, 3294.0, 3557.0, 4019.0, 5658.0, 2949.0, 4798.50243136929, 1480.436273578295, 1405.2274676657119, 1298.6779581201877, 1179.4075574722162, 1047.0462900766859, 1044.396229842364, 882.1744686497666, 877.9532423466427, 858.8601567287675, 621.9843403011382, 589.2721733157659, 577.6637131710894, 555.7192713911729, 538.6119006755608, 525.4912355401254, 462.3919225565146, 449.4616376326216, 417.14103618773015, 408.1332692287388, 385.4918453550047, 379.2317161016668, 352.3349373812645, 346.94354956832905, 346.1436390420358, 317.81100662973466, 313.140447426441, 307.3313482104539, 305.0048677796793, 297.2075452637538, 1841.2822568321749, 893.1700054010415, 3724.7900728471063, 523.5786514781133, 1097.3932935998928, 773.5757984104936, 4041.659145176378, 4155.16258999659, 892.5516332727693, 1352.0756886027016, 829.0208903306965, 1951.196952756386, 1499.9082671925537, 1743.843546535719, 1323.1997909150225, 3128.1489516482925, 1608.8878471397259, 1890.272500463958, 1254.9574811183047, 6786.768461153301, 2066.9019583123186, 1939.0019111393121, 1733.815913094499, 2949.492145198222, 5387.145497241248, 3910.8486085636055, 2458.7679105870993, 2171.229244541665, 3808.3405229834298, 4517.210013636861, 2417.065291174856, 3242.47080274481, 3098.125467247213, 4428.597569272015, 2409.4742783061088, 1346.8668773426764, 1023.0076210133275, 1017.3527549759144, 859.1602717037232, 818.4144784357259, 756.4676912547844, 640.1076946097503, 621.3980322971581, 577.7611971663993, 499.27428816740303, 484.435510818274, 390.9258207150985, 389.9886258317757, 354.9715630343128, 337.06240172517704, 329.86336395155837, 328.9639679590628, 305.3639571208481, 303.98857459383083, 300.08856968208215, 298.8804231243938, 288.7217730871289, 279.77640965747133, 268.17495200848776, 266.10848761924143, 263.4654969329289, 251.29889610047843, 248.07346555197893, 248.02890869993053, 1190.2737052734183, 987.4738527131043, 702.3426323622141, 2402.185130892451, 746.0093420525759, 1359.8291217619826, 559.3577520510811, 1410.3811055563442, 1643.246256856519, 645.4365993291235, 5658.179923145761, 679.3450189135649, 835.9481483481401, 471.2934389759765, 1168.4338344589426, 4287.538591828912, 2176.053159506106, 3362.9485477365565, 833.3280670131892, 1096.2338121924502, 5577.942801110833, 4517.210013636861, 3910.8486085636055, 4041.659145176378, 1041.9720876977249, 2439.202138581527, 4019.0523437312763, 2210.6678951962585, 1724.621975881927, 1980.5488603990686, 813.4655886311533, 694.242175109091, 564.6624573335662, 480.04791758136906, 477.4021136425234, 469.34216440370426, 415.3750970413555, 338.25514177897537, 337.8232816465676, 296.9096827032205, 288.4784801293577, 275.3029187675762, 271.06427056207895, 255.56117434599827, 252.9912977480307, 235.47163603107458, 231.82532714167297, 223.0625147910024, 222.8297847620485, 216.55341070174632, 215.3868598885979, 197.4814330019996, 197.16044038076453, 196.58872447815554, 194.26783089095568, 168.26480290956226, 164.68281848985865, 161.98802397910038, 160.2500956973149, 1749.517959488221, 439.79724229162474, 1030.582511335527, 779.178111804802, 520.5382616106481, 760.777882569043, 1084.8366619418473, 736.9960291954885, 1575.996496895915, 1614.7644948423379, 684.3274900848721, 3615.7416979114873, 1902.5188502877656, 884.8970725042603, 1879.8278109794007, 792.8116209585401, 553.1097296951546, 1229.3735812306231, 1449.1786247828707, 499.8204570298389, 1823.3109277854146, 5387.145497241248, 1073.3913335550017, 1157.1878579254137, 1350.6491108337814, 3808.3405229834298, 3910.8486085636055, 4155.16258999659, 4428.597569272015, 2082.2944727914323, 2458.7679105870993, 1890.272500463958, 1500.575358288584, 781.4580324390486, 396.7059076631211, 339.6304070180848, 300.0745825608757, 242.82832952417, 219.74501573525134, 210.21779044372047, 209.47899474315972, 193.5024550228183, 184.5241439093421, 179.2609063557929, 173.455042630348, 168.043281966739, 134.32288653522275, 126.67013771755437, 113.9406029873881, 107.7923212158407, 103.85196957764703, 99.19131134177205, 99.19230791747253, 95.53949532590993, 92.43647670226554, 91.76085624294652, 87.84537423261487, 87.41676095055837, 86.4264622637013, 86.36186175203335, 83.15289384808526, 81.40000150180214, 375.9915387971534, 257.7026965367298, 373.8309932229581, 652.9126125185886, 401.40810853774616, 983.0202944777046, 5039.158957287539, 452.4430535337174, 328.7097779916615, 1142.7871083613925, 446.0887310703157, 1719.2052305229029, 186.20967862331528, 2039.3426486274916, 396.16889449218513, 2598.5422219577194, 1243.2382081372316, 13134.649653844357, 3557.2830037195454, 875.5633251993715, 3531.812711406173, 2082.2944727914323, 1788.011486540911, 1187.5363728274585, 6786.768461153301, 1090.564467813164, 1263.8397132513207, 1428.238050902383, 3160.9685810214237, 2949.492145198222, 1990.2747257981007, 1251.1869533161023, 2519.0490223438815, 2690.1159437528713, 7390.408486671026, 1526.7607993273189, 9860.000122220472, 1950.8157946313027, 2335.3812650327295, 4030.868207763465, 5577.942801110833, 3104.6193753509015, 5658.179923145761, 964.7249585274641, 745.7459022460312, 537.0580483547008, 511.0790789947536, 442.07054588610634, 381.8059964109596, 332.057045812647, 325.43119645176506, 320.7041340911342, 310.75494648858563, 307.6537324574404, 295.13985296612725, 291.90791267957826, 287.2463127395593, 251.73517627642974, 248.451424023804, 243.16570727952, 242.2617718656919, 239.1450566709198, 225.61183581167967, 224.73715994092547, 221.38042025457855, 220.38039398791258, 196.39386146680394, 191.50548290576833, 184.74783037524904, 178.21569273579553, 175.64052459567327, 174.90475054690697, 173.30100293069702, 775.9262786741779, 3456.2246730266897, 862.6594244833733, 357.59687156461314, 3294.677273778573, 1594.3228048412602, 559.7097386537022, 767.4762113005779, 390.1159506861472, 5577.942801110833, 491.2109140339568, 3300.0160121257004, 492.3466415090035, 906.5262934725627, 13134.649653844357, 4019.0523437312763, 976.2825265711415, 1264.2685221604697, 992.95173136621, 1363.6083088055332, 2690.1159437528713, 1411.0643572658778, 4287.538591828912, 1749.1215732287365, 830.8227063726403, 4428.597569272015, 1442.594062176111, 2000.1840936665778, 1888.0578360805637, 2763.2032132305444, 2210.6678951962585, 2159.6473060300177, 5387.145497241248, 5658.179923145761, 4704.311415362085, 4150.028761109879, 3286.487047656654, 2394.4973056312433, 962.2665788870164, 754.5059928864325, 608.9503128778772, 557.6266864683569, 510.9512886463941, 480.23081552040185, 433.33839734799017, 406.7123338288858, 345.9320700316542, 268.99392392701486, 232.66465748735752, 227.5125824618028, 221.41497762647967, 219.55166631088295, 217.86579844778413, 205.52397172734828, 203.5780353866109, 198.7825606667859, 196.69547244595523, 177.50625467119997, 158.42888031474772, 151.13268180356798, 150.12053495089106, 149.300624117205, 140.50581622878528, 135.58292252681446, 3106.464406084292, 4079.47028160485, 712.9972358140828, 1459.3089960456375, 349.4157082736747, 6740.352909999321, 1262.9918952803464, 504.6806582292339, 9860.000122220472, 636.4707221532622, 1353.0124945850885, 741.0791364016014, 5120.527473725763, 435.45662497092474, 682.713687899102, 7390.408486671026, 2507.537254202037, 1807.535337383897, 2138.7453321696016, 4030.868207763465, 1183.4191012029744, 1656.8350402589356, 3768.8239245583986, 1191.695319625189, 1020.4809785676017, 1504.2396735358868, 2042.8388145301465, 1045.3749919881607, 2051.019691226593, 1609.4416223842018, 4019.0523437312763, 2159.6473060300177, 1212.8847841562128, 1128.749380642722, 517.6009371610102, 487.22469682736573, 488.33271574889824, 474.74763687639313, 411.2849631498723, 373.0167176655808, 312.87853723303493, 260.61660286844625, 260.27075131501556, 250.6450844060395, 239.23952006708478, 222.40517017821034, 200.0213130607166, 197.82767838455828, 197.2157648525252, 193.21222633405927, 186.33512959583726, 166.005428101186, 164.1455515856388, 163.44324717897575, 159.2704923416098, 153.6522133279221, 152.6055146269829, 151.97981990269415, 144.7625766541494, 139.82344358666313, 142.54193509786077, 132.86866128885652, 1856.1529853076258, 625.3648797191945, 238.58125126995895, 393.5502479609962, 828.2364406754879, 316.62438907508647, 244.9614116366899, 203.07903922361578, 3768.8239245583986, 460.1053121360582, 681.266305071869, 1163.4488783973495, 1056.859052609524, 1414.684559551405, 678.1529311285254, 4428.597569272015, 949.3525965245032, 13134.649653844357, 2138.7453321696016, 4019.0523437312763, 7390.408486671026, 9860.000122220472, 2850.818640220694, 870.7646174364338, 3098.125467247213, 4517.210013636861, 6740.352909999321, 2730.17563033863, 2402.185130892451, 3300.0160121257004, 1709.4761316057875, 1038.48898336619, 928.7185670302288, 666.0703158789483, 558.010273530757, 496.05505645096156, 470.1146206198199, 445.50746209261104, 364.1730344195395, 340.39766731277797, 269.57707795878736, 224.76562488000872, 224.62643402944244, 221.8753879191939, 203.10743565917215, 185.34919763911225, 179.78628909959494, 176.10061751831282, 173.15401288844603, 164.50681852183973, 157.87522491547622, 152.9615859608382, 151.27586745244037, 143.40716098913762, 135.41927167553897, 133.49457663893332, 131.62407363114212, 131.09840565776236, 127.6946028875831, 121.4287499349492, 341.19632591471395, 306.1529709375572, 1209.0977420521, 310.27428318155853, 1095.1011819495718, 418.76061987485144, 1819.4986429935757, 467.07637013368424, 384.2638538078006, 405.57133555153564, 407.2769790388006, 2507.537254202037, 4517.210013636861, 506.7116406809117, 384.9131894520711, 2730.17563033863, 3098.125467247213, 1609.4416223842018, 4030.868207763465, 856.7493490643064, 1587.6763407600397, 2051.019691226593, 1577.4817727907596, 958.5276806865852, 1416.1376370058938, 792.530775864469], \"loglift\": [30.0, 29.0, 28.0, 27.0, 26.0, 25.0, 24.0, 23.0, 22.0, 21.0, 20.0, 19.0, 18.0, 17.0, 16.0, 15.0, 14.0, 13.0, 12.0, 11.0, 10.0, 9.0, 8.0, 7.0, 6.0, 5.0, 4.0, 3.0, 2.0, 1.0, 1.5794, 1.5789, 1.5789, 1.5788, 1.5787, 1.5786, 1.5786, 1.5784, 1.5784, 1.5784, 1.5779, 1.5778, 1.5778, 1.5777, 1.5777, 1.5776, 1.5774, 1.5773, 1.5771, 1.5771, 1.5769, 1.5769, 1.5767, 1.5766, 1.5766, 1.5764, 1.5763, 1.5763, 1.5762, 1.5761, 1.5117, 1.5372, 1.4684, 1.5457, 1.4966, 1.5147, 1.3387, 1.3216, 1.4502, 1.3827, 1.4603, 1.2977, 1.3432, 1.2826, 1.3362, 1.1194, 1.2837, 1.2222, 1.338, 0.8019, 1.1799, 1.1887, 1.2157, 1.023, 0.7939, 0.8919, 1.0323, 1.0369, 0.6711, 0.561, 0.929, 0.586, 0.6155, 0.2705, 1.9504, 1.9501, 1.9498, 1.9498, 1.9496, 1.9495, 1.9494, 1.9492, 1.9491, 1.949, 1.9487, 1.9486, 1.9481, 1.9481, 1.9478, 1.9477, 1.9476, 1.9476, 1.9473, 1.9473, 1.9473, 1.9473, 1.9471, 1.947, 1.9468, 1.9468, 1.9468, 1.9466, 1.9465, 1.9465, 1.9049, 1.8605, 1.8815, 1.7003, 1.8137, 1.7257, 1.8438, 1.703, 1.6523, 1.8149, 1.4106, 1.7628, 1.6501, 1.8294, 1.5056, 0.8792, 1.1523, 0.8427, 1.5542, 1.4008, 0.4125, 0.4952, 0.5328, 0.4084, 1.4266, 0.6897, 0.2203, 0.7526, 0.9365, 2.0068, 2.006, 2.0058, 2.0054, 2.0051, 2.0051, 2.005, 2.0047, 2.0042, 2.004, 2.0037, 2.0036, 2.0034, 2.0034, 2.0031, 2.0031, 2.0028, 2.0027, 2.0025, 2.0025, 2.0023, 2.0023, 2.0019, 2.0019, 2.0018, 2.0018, 2.0009, 2.0008, 2.0007, 2.0006, 1.9677, 1.9511, 1.8712, 1.8739, 1.9082, 1.863, 1.7312, 1.782, 1.6392, 1.5913, 1.7671, 1.3863, 1.5225, 1.6845, 1.4917, 1.7101, 1.7908, 1.4976, 1.3856, 1.7804, 1.2099, 0.661, 1.3955, 1.3322, 1.2343, 0.5685, 0.5073, 0.3518, 0.2848, 0.8441, 0.708, 0.8035, 2.0504, 2.0497, 2.0483, 2.0479, 2.0475, 2.0466, 2.0461, 2.0459, 2.0459, 2.0455, 2.0452, 2.045, 2.0448, 2.0446, 2.043, 2.0425, 2.0415, 2.041, 2.0406, 2.0401, 2.0401, 2.0397, 2.0393, 2.0392, 2.0387, 2.0386, 2.0385, 2.0385, 2.038, 2.0377, 2.0182, 2.0002, 1.9799, 1.9304, 1.9414, 1.875, 1.6854, 1.9, 1.9275, 1.8014, 1.8885, 1.7283, 1.971, 1.6425, 1.8661, 1.5685, 1.6853, 1.2725, 1.4478, 1.7266, 1.4309, 1.4737, 1.4902, 1.5896, 1.0888, 1.5806, 1.5374, 1.4881, 1.2377, 1.1991, 1.318, 1.4732, 1.1453, 1.1104, 0.6138, 1.3314, 0.3722, 1.1999, 1.0698, 0.6902, 0.4126, 0.7179, 0.0341, 2.0624, 2.062, 2.0615, 2.0614, 2.061, 2.0606, 2.0602, 2.0601, 2.0601, 2.06, 2.0599, 2.0598, 2.0597, 2.0597, 2.0591, 2.0591, 2.059, 2.059, 2.0589, 2.0586, 2.0586, 2.0585, 2.0585, 2.0579, 2.0578, 2.0576, 2.0573, 2.0572, 2.0572, 2.0572, 2.0514, 2.0357, 2.0423, 1.9848, 1.7326, 1.8114, 1.9301, 1.8727, 1.9513, 1.4401, 1.8904, 1.4425, 1.8798, 1.713, 0.9724, 1.2204, 1.6503, 1.5602, 1.5959, 1.4686, 1.1822, 1.4393, 0.9193, 1.3087, 1.5965, 0.7553, 1.2341, 1.0173, 1.0529, 0.7931, 0.8721, 0.8287, 0.0788, -0.1314, 2.0779, 2.0779, 2.0778, 2.0777, 2.077, 2.0767, 2.0764, 2.0762, 2.076, 2.0759, 2.0756, 2.0755, 2.075, 2.0741, 2.0735, 2.0734, 2.0733, 2.0732, 2.0732, 2.0729, 2.0728, 2.0727, 2.0726, 2.072, 2.0713, 2.071, 2.0709, 2.0709, 2.0704, 2.0702, 2.0673, 2.0607, 2.0003, 1.9605, 2.0279, 1.7359, 1.8766, 1.9676, 1.5825, 1.9319, 1.8001, 1.875, 1.5426, 1.9523, 1.8634, 1.3694, 1.5615, 1.5789, 1.5334, 1.3111, 1.6014, 1.4528, 1.0511, 1.5938, 1.6579, 1.4276, 1.2139, 1.6178, 1.0515, 1.2377, 0.4045, 0.9209, 2.6151, 2.615, 2.614, 2.6139, 2.6139, 2.6138, 2.6135, 2.6132, 2.6127, 2.612, 2.612, 2.6118, 2.6117, 2.6113, 2.6108, 2.6108, 2.6108, 2.6106, 2.6104, 2.6097, 2.6097, 2.6097, 2.6095, 2.6093, 2.6092, 2.6092, 2.6089, 2.6086, 2.6086, 2.6082, 2.5119, 2.4699, 2.5497, 2.4788, 2.3397, 2.4868, 2.5255, 2.5561, 1.9063, 2.362, 2.2464, 2.0307, 1.9854, 1.8272, 2.1169, 1.3462, 1.9585, 0.8256, 1.44, 1.0235, 0.6571, 0.4699, 0.9481, 1.7544, 0.7893, 0.4123, 0.0731, 0.7251, 0.8212, 0.5038, 2.7549, 2.7545, 2.7543, 2.7539, 2.7536, 2.7533, 2.7532, 2.7531, 2.7525, 2.7523, 2.7515, 2.7507, 2.7507, 2.7506, 2.7502, 2.7496, 2.7495, 2.7493, 2.7492, 2.7489, 2.7486, 2.7484, 2.7483, 2.7479, 2.7475, 2.7474, 2.7473, 2.7472, 2.747, 2.7466, 2.6157, 2.5622, 2.2269, 2.5381, 2.2035, 2.4314, 1.9658, 2.3595, 2.3764, 2.3465, 2.3127, 1.3664, 0.9846, 2.1679, 2.3076, 1.0302, 0.9218, 1.326, 0.6022, 1.7497, 1.2433, 1.0055, 1.2096, 1.6174, 1.2167, 1.6957], \"logprob\": [30.0, 29.0, 28.0, 27.0, 26.0, 25.0, 24.0, 23.0, 22.0, 21.0, 20.0, 19.0, 18.0, 17.0, 16.0, 15.0, 14.0, 13.0, 12.0, 11.0, 10.0, 9.0, 8.0, 7.0, 6.0, 5.0, 4.0, 3.0, 2.0, 1.0, -3.9175000190734863, -5.093999862670898, -5.146100044250488, -5.225100040435791, -5.321499824523926, -5.4405999183654785, -5.44320011138916, -5.612100124359131, -5.6168999671936035, -5.638999938964844, -5.962100028991699, -6.016200065612793, -6.036099910736084, -6.074900150299072, -6.106299877166748, -6.13100004196167, -6.259200096130371, -6.287600040435791, -6.362400054931641, -6.384300231933594, -6.441500186920166, -6.457900047302246, -6.531700134277344, -6.5472002029418945, -6.549499988555908, -6.6350998878479, -6.650000095367432, -6.668799877166748, -6.676400184631348, -6.702400207519531, -4.942999839782715, -5.640999794006348, -4.281700134277344, -6.166600227355957, -5.4756999015808105, -5.807300090789795, -4.329899787902832, -4.319200038909912, -5.728700160980225, -5.380899906158447, -5.792399883270264, -5.098999977111816, -5.3165998458862305, -5.226500034332275, -5.448999881744385, -4.8053998947143555, -5.3059000968933105, -5.206299781799316, -5.500100135803223, -4.348299980163574, -5.159200191497803, -5.214399814605713, -5.299200057983398, -4.960599899291992, -4.587299823760986, -4.809500217437744, -5.133299827575684, -5.252999782562256, -5.0569000244140625, -4.996300220489502, -5.253600120544434, -5.302800178527832, -5.318900108337402, -5.306600093841553, -4.235400199890137, -4.817399978637695, -5.092599868774414, -5.098199844360352, -5.267399787902832, -5.315999984741211, -5.394899845123291, -5.562099933624268, -5.591899871826172, -5.66480016708374, -5.811100006103516, -5.841300010681152, -6.056300163269043, -6.058700084686279, -6.15310001373291, -6.204999923706055, -6.2266998291015625, -6.229400157928467, -6.304100036621094, -6.308599948883057, -6.321599960327148, -6.3256001472473145, -6.360400199890137, -6.392000198364258, -6.434500217437744, -6.442200183868408, -6.452300071716309, -6.49970006942749, -6.512700080871582, -6.512899875640869, -4.986100196838379, -5.217299938201904, -5.5370001792907715, -4.488500118255615, -5.54449987411499, -5.032199859619141, -5.802299976348877, -5.0183000564575195, -4.916200160980225, -5.6880998611450195, -3.9214999675750732, -5.689000129699707, -5.594200134277344, -5.988100051879883, -5.4039998054504395, -4.730299949645996, -5.135300159454346, -5.009699821472168, -5.693299770355225, -5.5725998878479, -4.933899879455566, -5.062099933624268, -5.168700218200684, -5.2600998878479, -5.597499847412109, -5.483799934387207, -5.453800201416016, -5.5192999839782715, -5.583600044250488, -4.375, -5.265600204467773, -5.424300193786621, -5.63129997253418, -5.794000148773193, -5.799499988555908, -5.8165998458862305, -5.939000129699707, -6.144999980926514, -6.146399974822998, -6.2758002281188965, -6.304699897766113, -6.3516998291015625, -6.367199897766113, -6.426400184631348, -6.436500072479248, -6.508600234985352, -6.5243000984191895, -6.563000202178955, -6.564000129699707, -6.592800140380859, -6.598199844360352, -6.685400009155273, -6.687099933624268, -6.690000057220459, -6.701900005340576, -6.846499919891357, -6.868199825286865, -6.884699821472168, -6.895599842071533, -4.5381999015808105, -5.9355998039245605, -5.16379976272583, -5.440800189971924, -5.809899806976318, -5.475599765777588, -5.252600193023682, -5.588399887084961, -4.971099853515625, -4.994699954986572, -5.6774001121521, -4.393599987030029, -4.899499893188477, -5.502999782562256, -4.942299842834473, -5.587200164794922, -5.866600036621094, -5.361100196838379, -5.308599948883057, -5.978300094604492, -5.2546000480651855, -4.720200061798096, -5.598800182342529, -5.586999893188477, -5.530300140380859, -5.1595001220703125, -5.194200038909912, -5.289100170135498, -5.292300224304199, -5.48769998550415, -5.457499980926514, -5.625, -4.609000205993652, -5.2621002197265625, -5.941400051116943, -6.0971999168396, -6.221499919891357, -6.434000015258789, -6.534299850463867, -6.57889986038208, -6.582399845123291, -6.662199974060059, -6.710000038146973, -6.739099979400635, -6.772200107574463, -6.804100036621094, -7.029699802398682, -7.088900089263916, -7.195799827575684, -7.251699924468994, -7.289400100708008, -7.3358001708984375, -7.3358001708984375, -7.373700141906738, -7.407100200653076, -7.414599895477295, -7.458700180053711, -7.463699817657471, -7.475200176239014, -7.47599983215332, -7.5142998695373535, -7.535900115966797, -6.025199890136719, -6.420899868011475, -6.069200038909912, -5.561100006103516, -6.036600112915039, -5.207300186157227, -3.7625999450683594, -5.9583001136779785, -6.250199794769287, -5.130300045013428, -5.98390007019043, -4.795000076293945, -6.775100231170654, -4.710100173950195, -6.125, -4.541800022125244, -5.162199974060059, -3.217400074005127, -4.348400115966797, -5.471499919891357, -4.372499942779541, -4.857999801635742, -4.993899822235107, -5.303699970245361, -4.061399936676025, -5.397900104522705, -5.293600082397461, -5.220699787139893, -4.676700115203857, -4.7845001220703125, -5.058899879455566, -5.3678998947143555, -4.995999813079834, -4.965199947357178, -4.451200008392334, -5.3105998039245605, -4.404600143432617, -5.1971001625061035, -5.147200107574463, -4.980999946594238, -4.933800220489502, -5.2144999504089355, -5.297999858856201, -5.038700103759766, -5.296500205993652, -5.625400066375732, -5.675099849700928, -5.820499897003174, -5.967400074005127, -6.107399940490723, -6.127699851989746, -6.142399787902832, -6.173999786376953, -6.184000015258789, -6.2256999015808105, -6.236800193786621, -6.252900123596191, -6.38539981842041, -6.398600101470947, -6.420199871063232, -6.423999786376953, -6.436999797821045, -6.495500087738037, -6.4994001388549805, -6.514500141143799, -6.519100189208984, -6.634900093078613, -6.660299777984619, -6.696400165557861, -6.732600212097168, -6.747300148010254, -6.751500129699707, -6.760799884796143, -5.267499923706055, -3.789400100708008, -5.170599937438965, -6.108699798583984, -4.1402997970581055, -4.787300109863281, -5.7154998779296875, -5.457200050354004, -6.055200099945068, -3.9063000679016113, -5.885700225830078, -4.428800106048584, -5.894000053405762, -5.450300216674805, -3.5174999237060547, -4.453800201416016, -5.438899993896484, -5.270500183105469, -5.47629976272583, -5.286399841308594, -4.893400192260742, -5.281499862670898, -4.690199851989746, -5.197400093078613, -5.6539998054504395, -4.821800231933594, -5.464700222015381, -5.354700088500977, -5.376699924468994, -5.25570011138916, -5.399799823760986, -5.4664998054504395, -5.3024001121521, -5.463500022888184, -3.438800096511841, -3.564199924468994, -3.797600030899048, -4.1143999099731445, -5.026700019836426, -5.270199775695801, -5.484899997711182, -5.5731000900268555, -5.660699844360352, -5.722799777984619, -5.825799942016602, -5.889400005340576, -6.051700115203857, -6.304100036621094, -6.449900150299072, -6.472400188446045, -6.49970006942749, -6.5081000328063965, -6.515900135040283, -6.57450008392334, -6.584099769592285, -6.607999801635742, -6.618599891662598, -6.72189998626709, -6.836400032043457, -6.883800029754639, -6.890600204467773, -6.896100044250488, -6.957300186157227, -6.993199825286865, -3.8643999099731445, -3.5985000133514404, -5.403200149536133, -4.7266998291015625, -6.088799953460693, -3.4212000370025635, -4.955100059509277, -5.781400203704834, -3.194200038909912, -5.585100173950195, -4.962800025939941, -5.489799976348877, -3.889400005340576, -5.944300174713135, -5.583499908447266, -3.6956000328063965, -4.584400177001953, -4.8942999839782715, -4.771599769592285, -4.360099792480469, -5.295400142669678, -5.107399940490723, -4.687399864196777, -5.296000003814697, -5.38700008392334, -5.229300022125244, -5.136899948120117, -5.4029998779296875, -5.295400142669678, -5.351600170135498, -5.269599914550781, -5.3744001388549805, -4.2571001052856445, -4.328999996185303, -5.109799861907959, -5.170400142669678, -5.168099880218506, -5.196400165557861, -5.340199947357178, -5.4380998611450195, -5.614500045776367, -5.797900199890137, -5.799200057983398, -5.837100028991699, -5.883800029754639, -5.957099914550781, -6.063700199127197, -6.07480001449585, -6.077899932861328, -6.098499774932861, -6.135000228881836, -6.251200199127197, -6.262499809265137, -6.2667999267578125, -6.292900085449219, -6.328999996185303, -6.335899829864502, -6.340000152587891, -6.388999938964844, -6.423999786376953, -6.404699802398682, -6.475399971008301, -3.9347000122070312, -5.064700126647949, -5.948599815368652, -5.519000053405762, -4.913899898529053, -5.728400230407715, -5.946400165557861, -6.103300094604492, -3.8320999145507812, -5.479400157928467, -5.202600002288818, -4.8831000328063965, -5.024499893188477, -4.89109992980957, -5.336699962615967, -4.230899810791016, -5.158699989318848, -3.664299964904785, -4.8649001121521, -4.650700092315674, -4.407899856567383, -4.3069000244140625, -5.069499969482422, -5.44920015335083, -5.145100116729736, -5.144999980926514, -5.084000110626221, -5.3358001708984375, -5.367599964141846, -5.367499828338623, -3.7741000652313232, -4.2729997634887695, -4.384799957275391, -4.717700004577637, -4.894999980926514, -5.013000011444092, -5.066800117492676, -5.120699882507324, -5.322800159454346, -5.390500068664551, -5.624599933624268, -5.807199954986572, -5.807799816131592, -5.820199966430664, -5.908999919891357, -6.001100063323975, -6.031700134277344, -6.052599906921387, -6.069499969482422, -6.121099948883057, -6.162499904632568, -6.194399833679199, -6.20550012588501, -6.259300231933594, -6.3171000480651855, -6.331500053405762, -6.345699787139893, -6.349800109863281, -6.376299858093262, -6.42710018157959, -5.524799823760986, -5.686600208282471, -4.648499965667725, -5.697400093078613, -4.7708001136779785, -5.504300117492676, -4.500800132751465, -5.4670000076293945, -5.645199775695801, -5.621099948883057, -5.650700092315674, -4.7795000076293945, -4.572700023651123, -5.577099800109863, -5.712299823760986, -5.030700206756592, -5.012599945068359, -5.263299942016602, -5.0690999031066895, -5.470200061798096, -5.3597002029418945, -5.341300010681152, -5.399799823760986, -5.490200042724609, -5.5005998611450195, -5.6020002365112305]}, \"token.table\": {\"Topic\": [6, 4, 1, 3, 5, 7, 4, 2, 3, 5, 2, 3, 4, 6, 8, 6, 6, 2, 3, 1, 8, 1, 4, 5, 6, 7, 1, 2, 4, 3, 4, 7, 4, 3, 4, 7, 7, 5, 7, 8, 4, 3, 4, 6, 7, 5, 7, 8, 3, 2, 3, 3, 1, 4, 3, 5, 7, 4, 1, 2, 4, 5, 8, 3, 1, 3, 4, 5, 6, 2, 4, 6, 1, 4, 5, 6, 7, 1, 2, 3, 4, 6, 7, 8, 6, 3, 3, 4, 5, 6, 8, 6, 1, 4, 1, 2, 3, 4, 6, 7, 8, 2, 6, 7, 2, 4, 6, 7, 3, 1, 2, 3, 4, 5, 6, 7, 5, 1, 2, 3, 5, 8, 6, 1, 4, 5, 7, 1, 4, 1, 2, 3, 4, 6, 7, 7, 2, 3, 4, 5, 6, 7, 8, 7, 7, 7, 5, 6, 7, 8, 2, 5, 5, 7, 6, 3, 3, 4, 1, 1, 2, 3, 4, 5, 6, 7, 8, 6, 5, 6, 7, 2, 2, 1, 1, 1, 2, 3, 5, 1, 7, 1, 3, 7, 5, 8, 5, 8, 2, 2, 5, 3, 5, 7, 8, 4, 4, 7, 2, 8, 2, 3, 4, 6, 7, 8, 3, 2, 3, 4, 1, 4, 5, 1, 3, 4, 5, 2, 3, 4, 3, 1, 2, 4, 4, 7, 1, 1, 4, 4, 6, 7, 8, 2, 4, 6, 1, 2, 3, 5, 4, 6, 7, 7, 2, 1, 2, 3, 5, 6, 7, 2, 4, 1, 2, 5, 1, 4, 6, 5, 4, 5, 6, 2, 1, 3, 4, 2, 1, 3, 2, 1, 1, 2, 4, 6, 1, 3, 3, 4, 2, 6, 7, 8, 6, 7, 4, 5, 6, 7, 3, 4, 5, 6, 5, 6, 1, 2, 3, 4, 5, 6, 8, 2, 8, 4, 6, 3, 4, 5, 2, 1, 3, 4, 5, 1, 3, 6, 7, 8, 2, 3, 6, 1, 2, 3, 6, 7, 1, 2, 3, 4, 5, 6, 7, 2, 3, 4, 6, 7, 8, 7, 4, 6, 7, 8, 2, 3, 4, 5, 6, 5, 7, 1, 2, 3, 4, 5, 6, 8, 5, 2, 3, 8, 1, 2, 3, 4, 5, 6, 7, 8, 2, 4, 4, 7, 6, 4, 6, 7, 5, 4, 4, 6, 7, 8, 4, 5, 6, 5, 8, 5, 6, 7, 8, 1, 2, 3, 4, 5, 1, 3, 1, 1, 2, 3, 4, 5, 6, 7, 1, 8, 4, 2, 3, 1, 2, 3, 5, 6, 7, 8, 1, 1, 2, 5, 2, 7, 2, 3, 5, 5, 5, 3, 3, 2, 3, 1, 1, 3, 8, 6, 7, 6, 6, 7, 7, 6, 1, 3, 4, 7, 1, 5, 8, 6, 7, 8, 7, 1, 2, 3, 4, 5, 6, 7, 6, 1, 3, 4, 2, 2, 6, 7, 8, 1, 3, 5, 7, 2, 3, 4, 7, 3, 1, 4, 5, 6, 7, 2, 3, 4, 5, 6, 3, 4, 6, 8, 1, 2, 3, 4, 5, 6, 7, 8, 6, 7, 4, 5, 6, 4, 7, 3, 6, 4, 5, 6, 7, 5, 8, 2, 6, 7, 1, 2, 3, 4, 5, 7, 1, 4, 1, 3, 6, 8, 1, 3, 8, 1, 3, 4, 7, 8, 1, 3, 2, 8, 3, 5, 6, 7, 5, 3, 2, 5, 7, 1, 2, 3, 4, 5, 1, 2, 3, 4, 5, 7, 8, 2, 3, 1, 7, 8, 6, 4, 5, 1, 3, 3, 3, 5, 6, 8, 2, 5, 7, 6, 2, 3, 4, 7, 8, 3, 4, 5, 5, 5, 1, 2, 3, 4, 5, 8, 4, 4, 8, 5, 8, 1, 2, 7, 8, 1, 2, 3, 5, 5, 2, 5, 6, 7, 8, 1, 4, 1, 2, 3, 4, 5, 7, 7, 6, 1, 1, 3, 3, 4, 1, 3, 1, 2, 3, 4, 5, 6, 7, 8, 4, 5, 1, 3, 7, 8, 2, 6, 7, 1, 3, 8, 1, 3, 4, 5, 7, 2, 3, 6, 7, 1, 7, 1, 1, 2, 3, 4, 7, 7, 3, 1, 2, 3, 4, 3, 1, 3, 1, 2, 4, 2, 5, 1, 7, 1, 5, 5, 8, 3, 2, 3, 5, 5, 7, 2, 1, 2, 3, 4, 5, 1, 8, 1, 3, 4, 7, 1, 2, 1, 3, 4, 5, 7, 4, 8, 5, 7, 1, 5, 7, 1, 3, 5, 7, 2, 1, 2, 2, 2, 8, 5, 6, 2, 5, 3, 4, 5, 7, 7, 1, 6, 8, 1, 3, 5, 7, 5, 6, 7, 2, 7, 1, 2, 3, 4, 5, 6, 7, 3, 3, 3, 7, 6, 8, 1, 3, 4, 5, 6, 7, 8, 7, 6, 7, 8, 1, 1, 1, 8, 1, 3, 4, 5, 6, 7, 6, 7, 2, 8, 8, 1, 4, 8, 1, 2, 5, 8, 4, 3, 2, 3, 4, 5, 6, 7, 4, 6, 1, 4, 7, 5, 1, 6, 7, 1, 4, 5, 6, 7, 1, 2, 2, 4, 6, 7, 1, 2, 3, 5, 7, 2, 3, 1, 3, 5, 7, 1, 8, 4, 2, 3, 1, 8, 1, 2, 3, 4, 5, 6, 7, 8, 2, 4, 2, 3, 4, 6, 7, 3, 4, 6, 7, 8, 5, 1, 3, 5, 4, 6, 4, 5, 6, 4, 3, 1, 2, 3, 4, 5, 6, 6, 1, 4, 5, 6, 7, 1, 3, 4, 5, 8, 6, 8, 6, 1, 2, 3, 4, 5, 6, 7, 8, 1, 3, 4, 5, 6, 7, 2, 8, 1, 3, 4, 3, 4, 6, 2, 7, 1, 3, 4, 7, 1, 5, 6, 7, 8, 3, 5, 8, 1, 6, 1, 3, 4, 2, 3, 4, 5, 5, 5, 8, 5, 8, 4, 1, 3, 4, 5, 6, 7, 8, 1, 7, 4, 8, 7, 3, 4, 5, 6, 7, 6, 7, 1, 4, 6, 7, 1, 2, 3, 4, 5, 6, 7, 6, 7, 6, 6, 8, 8], \"Freq\": [0.9964642173136633, 0.9982205768820551, 0.2664194456991356, 0.18523583778223163, 0.46995018104010616, 0.07832503017335103, 0.9929396513241192, 0.7404765489619942, 0.2081468812914168, 0.05143859710075243, 0.6720042467874022, 0.04680029575840836, 0.16680105411330162, 0.0036000227506467974, 0.11040069768650179, 0.9925849441574144, 0.9995475266948901, 0.9977501822913891, 0.9924983681783158, 0.2746199010651199, 0.7235637393280986, 0.03427991843917771, 0.18661257375173662, 0.05294117581435137, 0.6092292013731967, 0.11693711822595236, 0.2791098260404311, 0.026543585761770107, 0.6933506341407828, 0.9975629813239785, 0.9922354730711755, 0.9934622560321577, 0.9947095840453839, 0.7978333351970242, 0.1221173472240343, 0.07869784598882211, 0.989182586185587, 0.21823102533736266, 0.14029137343116171, 0.6391051456308477, 0.9917447954221181, 0.09683913910459126, 0.6307175233855552, 0.14820598680354835, 0.12378568215978186, 0.18955939667657576, 0.758237586706303, 0.05071015707271453, 0.9941142331670418, 0.0922122417120281, 0.9048326217992758, 0.9960816923077805, 0.8877942746489893, 0.11097428433112366, 0.25730117540508396, 0.287696643928212, 0.45451828512491477, 0.9879897611428153, 0.9959370302571485, 0.1731056281356942, 0.16491127887483292, 0.661693702814547, 0.9972112185631709, 0.9924832591980507, 0.05960331182205754, 0.08383762542003698, 0.4866512163053709, 0.21614387803603283, 0.15392064041959913, 0.009964920774947083, 0.8968428697452374, 0.09217551716826052, 0.6705688164966017, 0.05225211557116377, 0.19062345865776414, 0.06773422388854564, 0.019352635396727325, 0.26833549936814405, 0.148290670703448, 0.07555762745366161, 0.20478235478095203, 0.033188864395533604, 0.05578553802653521, 0.21466839949451522, 0.9980040014252621, 0.9988268082551576, 0.24840340747908515, 0.1377076459372327, 0.3638659721495341, 0.2494626970632177, 0.9916215178037345, 0.9981382009057767, 0.5729799968280379, 0.4265141041477348, 0.04846197325791953, 0.22028169662690697, 0.15958185133415928, 0.05825227088578207, 0.421472312879482, 0.026923318476621962, 0.06559499410667896, 0.9970696852757358, 0.9256697878308435, 0.07433408902277987, 0.9982695183653032, 0.064300319238155, 0.88183294955184, 0.05281811937419875, 0.997005298855678, 0.39883280681509087, 0.13399659824394433, 0.016135716018904293, 0.11540544717868505, 0.06384131120523003, 0.08313401514087645, 0.1887177221341415, 0.99802991807321, 0.631044119225798, 0.06585364162133454, 0.15568312363878603, 0.14737149896813215, 0.9895194261645455, 0.9971432812592362, 0.7856839891670002, 0.06135666041162172, 0.11554176311279415, 0.03665462829785194, 0.9967054041235659, 0.9937915877711464, 0.6766367750659408, 0.09437845261971582, 0.1165548103391026, 0.05673021742168711, 0.023723545467250973, 0.031975213455860005, 0.994893978821114, 0.028215216015535227, 0.032087892723549866, 0.07413409698199451, 0.12779833136448307, 0.6069037640988656, 0.009405072005178408, 0.12115945700788656, 0.9976340614463558, 0.9988389952222532, 0.9984251909471057, 0.1470675176323275, 0.3594983764345783, 0.1260578722562807, 0.3653343890390358, 0.010310257842625936, 0.9884959706617616, 0.30824950307478716, 0.6913595997534513, 0.9915143572039754, 0.9928266624999696, 0.9969361635668522, 0.9966096353414043, 0.9988510388380708, 0.03671665566116787, 0.009427249426516075, 0.019102584364256256, 0.2565204186057269, 0.027041320723427686, 0.4644160770115287, 0.07070437069887056, 0.11610401925288218, 0.9960260010797811, 0.11689383394940392, 0.32489609730054914, 0.5569647382295128, 0.9974649880373635, 0.9970542629885552, 0.998705692913308, 0.9990298308654493, 0.7439921944391722, 0.08825972565610897, 0.10379840975049436, 0.06339783110509237, 0.9967520751841953, 0.9968757351593133, 0.9372061554791337, 0.033610151782699965, 0.028439359200746125, 0.9921386955458131, 0.9927207797158139, 0.9952118739694651, 0.9958940161846241, 0.9948312701701678, 0.9993881327892219, 0.9968897291229825, 0.02170859936278227, 0.21905950266080293, 0.20327143039696127, 0.5565295473004183, 0.9917401382981573, 0.9916114134920317, 0.9939434022568638, 0.9968480562657259, 0.9945604366051821, 0.017547097227076668, 0.02432665751935629, 0.036290587446908565, 0.5966013057206067, 0.0761703538720828, 0.24924854015733902, 0.9952673267199313, 0.9944376134636637, 0.04656528690335092, 0.9507079409434147, 0.9989984903572152, 0.9942070057859993, 0.9929027238611552, 0.9961300209771471, 0.12080459304983204, 0.5704661338464291, 0.3081635683817475, 0.995618710846453, 0.8723221965361999, 0.1261422531142447, 0.99375026200234, 0.7858158953830827, 0.21377359370622903, 0.9964189484104083, 0.9236899030793124, 0.06981377174436663, 0.9991264989519805, 0.8783805561200567, 0.11988101977658937, 0.4487316827732216, 0.5218583273733022, 0.029250657840032224, 0.988804214548912, 0.09426985077493007, 0.04085026866913636, 0.8641402987701923, 0.7431859369348843, 0.12845189033442447, 0.05161013450936697, 0.07626830988606452, 0.9917963079457051, 0.9501576263994574, 0.045790728983106384, 0.9930211231765173, 0.9972629834739216, 0.23107855321994059, 0.6410290235619833, 0.12752112751767092, 0.8260842364424731, 0.17199230159370102, 0.9941108331654501, 0.998670318658599, 0.9879798349034834, 0.4714076541812897, 0.3623982581344478, 0.1652536057093082, 0.05604266205070157, 0.8496067566886358, 0.09190996576315058, 0.9975783369960546, 0.11540950141418825, 0.7771324578922785, 0.10662834369789131, 0.9975001085667652, 0.7725329467799801, 0.1910875887050792, 0.03609967041027944, 0.9982716844911769, 0.5490012617956556, 0.45027975617805516, 0.9956727917288921, 0.9972232863278203, 0.9978411108255671, 0.048598685877119546, 0.6244472657041209, 0.3255194997429705, 0.4021644937820767, 0.5968631772797487, 0.11180669296371062, 0.8867955510409377, 0.2876859889148209, 0.044162322859731276, 0.32049228589633555, 0.3469896796121743, 0.8178991518949573, 0.18210726518474363, 0.11883759932382905, 0.6264151421984887, 0.23062551055217673, 0.02316326088515312, 0.6922604219925839, 0.3071072816172416, 0.9956611706250541, 0.9925357650020524, 0.8946058201059678, 0.1025336183502542, 0.25961314497977755, 0.1294844718137352, 0.14752210967833512, 0.2634783530936204, 0.08471247782838895, 0.07408315551532113, 0.04090678587150341, 0.17311607278444427, 0.8231179309750934, 0.9828009646686414, 0.9909809353451909, 0.3749203525134011, 0.01977428019585449, 0.6043020027853132, 0.9986825055574301, 0.5783384409228189, 0.2729009098869279, 0.06344641124047802, 0.08500192275166607, 0.026365371485945973, 0.11571468596609621, 0.8070733160420128, 0.04540702867024028, 0.005858971441321327, 0.9980598097291506, 0.9952366950045465, 0.9960632327898337, 0.5027041946075437, 0.2421469340250986, 0.22322520950782584, 0.02454710207646195, 0.007415270418931213, 0.3703965503662614, 0.0388592550758942, 0.14340915563722859, 0.02004644111058034, 0.16314718996149233, 0.17301620712362417, 0.0912884087497197, 0.06896801875644692, 0.07083201926337793, 0.14290670553137652, 0.4318267841056812, 0.04597867917096462, 0.23921339838947808, 0.9920230525885184, 0.1499141406735265, 0.3579365942806854, 0.4919306492189702, 0.9983930887573995, 0.21477452220582494, 0.019899809653461244, 0.19433687985902692, 0.5360399176923344, 0.034959125066891375, 0.9724483556379164, 0.027197305989278237, 0.09172560912687505, 0.5826962105805531, 0.00265102916551662, 0.13308166410893432, 0.11134322495169804, 0.05478793608734348, 0.023682527211948474, 0.9970795647739653, 0.2740451202088525, 0.051383460039159855, 0.6722669355123414, 0.12822890054396083, 0.06045773257585985, 0.06484579381120452, 0.026815929771550742, 0.12286571458965068, 0.35835833421981445, 0.06484579381120452, 0.1735721999758557, 0.57651934557283, 0.4223551534813612, 0.9681068918850783, 0.029255977502021597, 0.9974370334417876, 0.11128019611318862, 0.579779173026697, 0.3085921404819516, 0.9931785314910635, 0.983793028531912, 0.5692328386618281, 0.321374997473283, 0.0966225482599413, 0.012602941077383648, 0.2078722573853464, 0.16984684444900255, 0.6210817446269497, 0.9978044121784406, 0.9937135460854571, 0.9989997903524717, 0.39265778093169934, 0.03104735942250646, 0.5762024645765169, 0.10827750798308329, 0.06780484723212497, 0.6160254337678331, 0.14401959799691663, 0.0641255144365833, 0.9996868957782602, 0.9948749032208755, 0.9956680364101933, 0.21460600406102806, 0.11870281506242361, 0.13173117281317742, 0.10277926670039118, 0.28083348929402663, 0.10639825496448946, 0.04559925212763834, 0.12895801231751342, 0.8704665831432155, 0.9903765651862747, 0.8847990774199086, 0.1124564774658397, 0.30449469727665224, 0.33006749411824604, 0.14600282847933227, 0.10258854546918458, 0.021112425299455378, 0.036277688542726144, 0.059174262459036904, 0.9969897342738627, 0.08506554352726232, 0.9134419078760788, 0.9952061197585726, 0.9970367349498198, 0.9974263033820584, 0.20207256141572927, 0.7962859350837649, 0.9961379225656182, 0.9959521561160957, 0.996816674044485, 0.9921990954708938, 0.9971403285161702, 0.7418242974317864, 0.25741729106943856, 0.9974481480728592, 0.9988639302718835, 0.9964398750048195, 0.9901876518617908, 0.8163770510901845, 0.18216677999533043, 0.997160620076163, 0.9982485561178347, 0.9936819356443719, 0.993835356653996, 0.9936093861325557, 0.03217079885539091, 0.2403347914490968, 0.19586339303135056, 0.5327105810466201, 0.019706502378016567, 0.9795290887896471, 0.9882338413619954, 0.04417739305384351, 0.9013265680375633, 0.053874869577857934, 0.9974863818781344, 0.060922864827675706, 0.0005953374413127919, 0.11152654733926302, 0.6937665649431735, 0.03968916275418613, 0.08791149550052227, 0.005556482785586058, 0.9925053814300724, 0.17240435664827514, 0.21011780966508534, 0.6172691697853422, 0.9990150405601774, 0.3416151796931719, 0.5353580642894761, 0.018710372032664895, 0.1044159471500331, 0.27006292201813265, 0.17861184892670814, 0.2702887271368769, 0.28090156771785707, 0.0026251608703405905, 0.17938599280660703, 0.7787977248677086, 0.038502359431662, 0.9958537357077072, 0.06158412979223348, 0.3329247317339539, 0.29078822187611, 0.31440318893929725, 0.9993360965192334, 0.04237735561723159, 0.08884375432033641, 0.3903177491060804, 0.4141085452420701, 0.06393776461547222, 0.051395483004902244, 0.7229631276022916, 0.12791764658997892, 0.09708035678703758, 0.002519405181842763, 0.2979196627529067, 0.11148367929654225, 0.236194235797759, 0.08440007359173256, 0.03842092902310213, 0.00881791813644967, 0.22044795341124174, 0.9892274941187966, 0.010623009211168334, 0.3472555999851341, 0.5357657828342068, 0.1162243232603306, 0.99296608289322, 0.9972708857999522, 0.9938911912187232, 0.9957006198424497, 0.45909104231303877, 0.3358292848495546, 0.038143385107600736, 0.16688682665840482, 0.9978889896477894, 0.9966163033823715, 0.3876325838758074, 0.09374809773083385, 0.5182479110513512, 0.4030626963991893, 0.08770224143148483, 0.2371111497384156, 0.10293197197946724, 0.13943080898239057, 0.029671716412448465, 0.13924404299712617, 0.8597767099346362, 0.6949988120995654, 0.30453059982453984, 0.996911426829053, 0.9933353384700966, 0.21188685549080705, 0.7861732983038221, 0.9978731061456968, 0.3193448479674466, 0.13352887569061367, 0.5470467201977562, 0.8715532559745557, 0.12704857958812765, 0.9583841763871684, 0.04030587657703045, 0.9552424748716256, 0.043687430688939786, 0.9608360925267299, 0.03829626305728191, 0.6565531490263009, 0.34199559553758063, 0.9972881041037653, 0.9960737335102406, 0.7784579031613872, 0.05536625728367086, 0.16609877185101257, 0.45571444121143617, 0.08167590799716168, 0.2602491432091379, 0.06478384520683961, 0.13736402708613554, 0.08431159224407811, 0.19207828909741104, 0.27131850737192054, 0.0690974703353723, 0.1007935576451761, 0.0684635485891762, 0.21299770672188156, 0.05229682632877664, 0.9458904240335253, 0.5281674727818927, 0.017587262361103605, 0.4539712096959868, 0.9988761540945504, 0.9901514435153547, 0.9937644880563913, 0.8948155291480266, 0.10497235880494402, 0.9962761496945546, 0.09608189171960713, 0.05617095208223186, 0.7575687616353639, 0.08943006844671125, 0.2197144525380826, 0.17105286237864148, 0.6075325801724163, 0.9892828904226045, 0.22165288270669176, 0.01654125990348446, 0.05706734666702139, 0.11413469333404277, 0.589695915559221, 0.5368558345363168, 0.40574708317140656, 0.05658377690485602, 0.992492813609294, 0.9937363121876064, 0.20998067194409567, 0.18398306494149336, 0.16798453755527654, 0.014498665443758987, 0.3514676485159506, 0.07149341925715638, 0.9834950751617146, 0.9981342153020069, 0.9915659551392658, 0.35602306897436026, 0.6432968556640165, 0.8209599576094191, 0.1309098310782587, 0.008135639219552801, 0.03919898896693623, 0.7544087222566427, 0.15272676578293445, 0.09225106658029598, 0.9992485334591419, 0.9978751031160304, 0.17715618984424106, 0.43044973094176553, 0.18760641452606427, 0.20353056642217585, 0.0012440743668837154, 0.9989142447448627, 0.9844598501207227, 0.06197222129008999, 0.3017187708064965, 0.08006630049887539, 0.14339557772962427, 0.3039805307075947, 0.10856447525271239, 0.9958161649000937, 0.99630503205238, 0.9988065554919514, 0.12320674637232329, 0.8752812606867133, 0.9982107466909572, 0.9842307504214812, 0.2560507371909674, 0.7429255379580285, 0.3811982479358261, 0.12330036470066516, 0.0003227758238237308, 0.06003630323121393, 0.023239859315308618, 0.09102278231829208, 0.16106513608804165, 0.15977403279274674, 0.8382329486267679, 0.16072913335319092, 0.312354198807176, 0.6003057258325414, 0.00976106871272425, 0.07646170491633995, 0.9325932526650348, 0.0654950986604452, 0.993552960496193, 0.6993700641973692, 0.29995675219357665, 0.9976290449798172, 0.1878778762654027, 0.030908940933985607, 0.12272667723788402, 0.5372701203525145, 0.12090850424176722, 0.13275885421239744, 0.8662186626333656, 0.08164551251714143, 0.9144297401919841, 0.9664259582996994, 0.03246885630651164, 0.9962111694310349, 0.39193143728380964, 0.28328935477313016, 0.19801556925531386, 0.06846501048786213, 0.05821575742081691, 0.9992705126094658, 0.9992179640552991, 0.9966960564544799, 0.8992456047235858, 0.03575529243433741, 0.06435952638180734, 0.993473799109502, 0.1934516683678171, 0.8045419852680245, 0.49079683340199354, 0.44989709728516075, 0.059281639989566634, 0.8713027617208987, 0.12734424978997752, 0.058680218690607626, 0.9346920548575358, 0.9994779628652749, 0.9948271813997166, 0.9975706050792876, 0.9937500644016858, 0.9962893637850581, 0.7806400664774188, 0.08153824490908552, 0.13755147402054427, 0.8754537685526457, 0.1232781837349644, 0.9963725053465535, 0.11272682778167767, 0.18166720179691856, 0.5422067253631108, 0.05589760055289802, 0.10713706772638787, 0.6791666147123621, 0.32028287360475444, 0.12819206804532263, 0.6595389008128918, 0.18021203768690283, 0.03158355299667369, 0.7893816081273733, 0.21001284337848192, 0.3025658610049254, 0.5373724569767551, 0.06775926503309572, 0.06388730703120454, 0.028486548156770854, 0.9917082700173147, 0.9944562237935382, 0.05416610223316846, 0.9405205024122887, 0.08936792960574176, 0.8327466167807754, 0.07718139375041334, 0.9341316322458707, 0.06517197434273517, 0.13432158204617797, 0.8634958845825726, 0.9955333395148913, 0.9971622066377707, 0.9973826618960778, 0.9974477192244762, 0.8722777738126265, 0.12549644703165674, 0.9256233102704663, 0.07270757119949282, 0.8287394244832642, 0.17075270557736882, 0.08195036343888837, 0.12899594245010207, 0.7181279996163329, 0.07072012844911478, 0.9971920821389529, 0.07286659862107384, 0.24202120256285237, 0.6844255513336578, 0.14517953921603316, 0.508992551180021, 0.23505258730214892, 0.11061298225983478, 0.8407793642212311, 0.0753240592643718, 0.08346720080646604, 0.9958516581582217, 0.9947322251940067, 0.045599644540325, 0.03761632398282003, 0.007848010039581157, 0.23760526947421573, 0.03802225553659147, 0.49225966420683187, 0.1409935596766132, 0.9935610747595502, 0.998198339731101, 0.9939006356468189, 0.9937259336168336, 0.33286376073992946, 0.6632618639928964, 0.0451093333579615, 0.048184969723277064, 0.4270008487179765, 0.09329430308123857, 0.23989963649461346, 0.07791612125466078, 0.06920181821960003, 0.996032157629015, 0.6313523903463292, 0.19897166241217648, 0.16931723195651557, 0.9990007222349174, 0.9972646273352578, 0.9972803945497675, 0.9956265346844143, 0.07788909675948301, 0.04376625436961426, 0.04658509787138603, 0.0428760932637916, 0.7102002022621813, 0.0786308976810019, 0.9986837546738022, 0.992834793961111, 0.9972248923402016, 0.9945475375848352, 0.9981895072928235, 0.9203628324415876, 0.07927877863605753, 0.9908403886514912, 0.23417133998198247, 0.5921463802003409, 0.06046227220846269, 0.11228707695857357, 0.9926495579007508, 0.997063034279791, 0.7986297562099776, 0.20076051882626506, 0.9989501638289058, 0.9967199018572663, 0.8887768138992809, 0.11032618892658769, 0.7241718312021006, 0.27512712944465345, 0.16659561343047827, 0.8304538911913234, 0.9948189159268619, 0.9978886261654927, 0.9984174194793045, 0.8956158565416915, 0.10303545252249548, 0.16228915325771265, 0.48033569818691424, 0.06682494545905815, 0.19645529078565216, 0.09345443500289335, 0.9986686662428984, 0.9967479876664717, 0.06873473206547479, 0.5610672315112012, 0.16863986588157187, 0.2014087497732517, 0.23463345657511062, 0.34238758871994274, 0.10425562136090899, 0.31836448133700396, 0.9911697350371695, 0.9976317227820742, 0.9966895053383072, 0.5217070488762301, 0.1584566215064204, 0.18824481145018612, 0.13156450558496524, 0.9986631224793154, 0.9967789091759384, 0.9838862941377458, 0.2746082087403788, 0.7243780321093942, 0.19337728987642427, 0.8057387078184345, 0.2091440541974135, 0.07948206613106608, 0.04908109152793942, 0.08607504857511764, 0.08204600374819723, 0.1651908379037364, 0.15090604260829135, 0.1780105259893922, 0.06687513997826725, 0.9309019484974801, 0.999356374889561, 0.15503615707014537, 0.34911845740240144, 0.0723502066327345, 0.42261708001343334, 0.04984809334557771, 0.5981771201469325, 0.24844922715097462, 0.04668313503792198, 0.05696924953780309, 0.9963532072273881, 0.7837062907052692, 0.10278115287937956, 0.11260582190461438, 0.9981438439990704, 0.9993746889471448, 0.2970557945224957, 0.08643148823677134, 0.6159292462698075, 0.9965888266587629, 0.9978170562916953, 0.16053033680959863, 0.07147701128018626, 0.10877785596465504, 0.03261382755134182, 0.04101139991486097, 0.5852912644992301, 0.9973056269932739, 0.45942336442551135, 0.38206696085803427, 0.039783293263273914, 0.09533255830125267, 0.023280593835545475, 0.3009785871620503, 0.06738749176346939, 0.5379673712209742, 0.0937195788811276, 0.996054596557989, 0.9997521074746469, 0.9992262811838396, 0.9929325687344782, 0.3610635757638512, 0.23332986441146483, 0.0046488872415946505, 0.038962102596221834, 0.04958813057700961, 0.03187808394236332, 0.11046641588360623, 0.17023782327553744, 0.14071872699502203, 0.06308080865294091, 0.22875458082934616, 0.43602009497472344, 0.029114219378280418, 0.10189976782398147, 0.9986495282173344, 0.9941498069096644, 0.1258227418952778, 0.3126358968466636, 0.5613999437999229, 0.260378019533584, 0.6644297861921024, 0.07502417511984624, 0.995834452222255, 0.9951175792570041, 0.581237565389555, 0.1068519137641654, 0.27542001909901254, 0.03592435031726251, 0.996748025837488, 0.9956021534893714, 0.9827256293733492, 0.017159090560272997, 0.996593674497969, 0.46125969728393057, 0.34798083101676947, 0.19027887993895692, 0.996358032199884, 0.998439424600365, 0.14011325882729797, 0.7586395527293831, 0.10047595534325973, 0.08140167472082331, 0.11220230839897267, 0.2544719020551864, 0.5514780125230553, 0.9947917004982881, 0.9941581175092603, 0.9952586664891485, 0.7037854330248503, 0.29453089438500785, 0.9861352528489085, 0.15482032963261647, 0.10480145390515577, 0.4041207578615476, 0.18856322198844314, 0.1306048421772585, 0.0003969752041861961, 0.017069933780006433, 0.12001602312129032, 0.8780119586241766, 0.8852794151057529, 0.11256130020244969, 0.9957552623955362, 0.01564714096074457, 0.2900739208876494, 0.6270892646575325, 0.03370153437698831, 0.03370153437698831, 0.993351653585767, 0.9972743375365489, 0.3619143849985159, 0.4432185781319237, 0.1088274024820712, 0.08541685659930008, 0.09634401173328189, 0.06508573237092821, 0.22951284572906264, 0.3746711567405407, 0.1220357481954904, 0.021837975992877227, 0.08992107761772977, 0.22168837722490253, 0.7759093202871589, 0.9997212311757672, 0.9912885553902041, 0.9991365006047783, 0.9985662020589149], \"Term\": [\"abraham\", \"achiev\", \"act\", \"act\", \"act\", \"act\", \"adopt\", \"advantag\", \"advantag\", \"advantag\", \"age\", \"age\", \"age\", \"age\", \"age\", \"ah\", \"allah\", \"america\", \"analysi\", \"ancient\", \"ancient\", \"and\", \"and\", \"and\", \"and\", \"and\", \"anim\", \"anim\", \"anim\", \"annual\", \"anteced\", \"apostl\", \"appetit\", \"argument\", \"argument\", \"argument\", \"aristocrat\", \"armi\", \"armi\", \"armi\", \"artifici\", \"ask\", \"ask\", \"ask\", \"ask\", \"assembl\", \"assembl\", \"assembl\", \"assent\", \"attempt\", \"attempt\", \"attila\", \"attribut\", \"attribut\", \"author\", \"author\", \"author\", \"awak\", \"b\", \"bad\", \"bad\", \"bad\", \"bank\", \"basi\", \"be\", \"be\", \"be\", \"be\", \"be\", \"beauti\", \"beauti\", \"beauti\", \"becaus\", \"becaus\", \"becaus\", \"becaus\", \"becaus\", \"begin\", \"begin\", \"begin\", \"begin\", \"begin\", \"begin\", \"begin\", \"behold\", \"belief\", \"believ\", \"believ\", \"believ\", \"believ\", \"bill\", \"bless\", \"bodi\", \"bodi\", \"bring\", \"bring\", \"bring\", \"bring\", \"bring\", \"bring\", \"bring\", \"britain\", \"brother\", \"brother\", \"burk\", \"burn\", \"burn\", \"burn\", \"calcul\", \"call\", \"call\", \"call\", \"call\", \"call\", \"call\", \"call\", \"capit\", \"case\", \"case\", \"case\", \"case\", \"catch\", \"cattl\", \"caus\", \"caus\", \"caus\", \"caus\", \"causal\", \"causat\", \"certain\", \"certain\", \"certain\", \"certain\", \"certain\", \"certain\", \"chap\", \"child\", \"child\", \"child\", \"child\", \"child\", \"child\", \"child\", \"christ\", \"christian\", \"church\", \"citi\", \"citi\", \"citi\", \"citi\", \"citizen\", \"citizen\", \"civil\", \"civil\", \"cloud\", \"code\", \"cognit\", \"cold\", \"combin\", \"come\", \"come\", \"come\", \"come\", \"come\", \"come\", \"come\", \"come\", \"cometh\", \"command\", \"command\", \"command\", \"commerc\", \"commod\", \"complex\", \"concept\", \"condit\", \"condit\", \"condit\", \"condit\", \"confin\", \"congreg\", \"contain\", \"contain\", \"contain\", \"contempt\", \"contin\", \"contract\", \"corn\", \"cost\", \"countri\", \"courag\", \"court\", \"court\", \"court\", \"court\", \"creation\", \"creator\", \"crimin\", \"cultiv\", \"danc\", \"day\", \"day\", \"day\", \"day\", \"day\", \"day\", \"de\", \"debt\", \"deceiv\", \"deceiv\", \"definit\", \"delight\", \"democraci\", \"demonstr\", \"desir\", \"desir\", \"desir\", \"despot\", \"determin\", \"determin\", \"develop\", \"differ\", \"differ\", \"discours\", \"diseas\", \"diseas\", \"distinct\", \"distinguish\", \"distinguish\", \"earth\", \"earth\", \"earth\", \"east\", \"eat\", \"eat\", \"eat\", \"effect\", \"effect\", \"effect\", \"effect\", \"ego\", \"egypt\", \"egypt\", \"elder\", \"elect\", \"employ\", \"employ\", \"employ\", \"enemi\", \"enemi\", \"enforc\", \"england\", \"entiti\", \"equal\", \"equal\", \"equal\", \"etern\", \"etern\", \"etern\", \"europ\", \"evil\", \"evil\", \"evil\", \"exchang\", \"exist\", \"exist\", \"exist\", \"expens\", \"experi\", \"experi\", \"export\", \"extens\", \"extern\", \"eye\", \"eye\", \"eye\", \"fact\", \"fact\", \"fals\", \"fals\", \"famili\", \"famili\", \"famili\", \"famili\", \"father\", \"father\", \"fear\", \"fear\", \"fear\", \"fear\", \"feel\", \"feel\", \"fellow\", \"femal\", \"fight\", \"fight\", \"find\", \"find\", \"find\", \"find\", \"find\", \"find\", \"find\", \"fine\", \"fine\", \"finit\", \"flee\", \"forc\", \"forc\", \"forc\", \"foreign\", \"form\", \"form\", \"form\", \"form\", \"forth\", \"forth\", \"forth\", \"forth\", \"forth\", \"franc\", \"fundament\", \"garden\", \"gener\", \"gener\", \"gener\", \"gener\", \"gener\", \"give\", \"give\", \"give\", \"give\", \"give\", \"give\", \"give\", \"go\", \"go\", \"go\", \"go\", \"go\", \"go\", \"goat\", \"god\", \"god\", \"god\", \"gold\", \"good\", \"good\", \"good\", \"good\", \"good\", \"govern\", \"govern\", \"great\", \"great\", \"great\", \"great\", \"great\", \"great\", \"great\", \"guardian\", \"half\", \"half\", \"half\", \"hand\", \"hand\", \"hand\", \"hand\", \"hand\", \"hand\", \"hand\", \"hand\", \"happi\", \"happi\", \"hard\", \"hard\", \"hast\", \"hath\", \"hath\", \"hath\", \"hatr\", \"healthi\", \"hear\", \"hear\", \"hear\", \"hear\", \"heart\", \"heart\", \"heart\", \"hereditari\", \"homer\", \"honour\", \"hous\", \"hous\", \"hous\", \"human\", \"human\", \"human\", \"human\", \"human\", \"idea\", \"ideal\", \"ident\", \"if\", \"if\", \"if\", \"if\", \"if\", \"if\", \"if\", \"imit\", \"imit\", \"immort\", \"improv\", \"improv\", \"in\", \"in\", \"in\", \"in\", \"in\", \"in\", \"in\", \"includ\", \"increas\", \"increas\", \"induct\", \"industri\", \"inequ\", \"influenc\", \"influenc\", \"inhabit\", \"injuri\", \"injustic\", \"integr\", \"intellectu\", \"interest\", \"interest\", \"intern\", \"intuit\", \"investig\", \"iron\", \"israel\", \"israel\", \"jacob\", \"jesu\", \"jew\", \"john\", \"joseph\", \"judg\", \"judg\", \"judg\", \"judg\", \"justic\", \"justic\", \"justli\", \"king\", \"king\", \"king\", \"kingdom\", \"know\", \"know\", \"know\", \"know\", \"know\", \"know\", \"know\", \"knoweth\", \"knowledg\", \"knowledg\", \"knowledg\", \"labour\", \"land\", \"land\", \"land\", \"land\", \"law\", \"law\", \"law\", \"law\", \"learn\", \"learn\", \"learn\", \"learn\", \"lectur\", \"let\", \"let\", \"let\", \"let\", \"liberti\", \"life\", \"life\", \"life\", \"life\", \"life\", \"light\", \"light\", \"light\", \"light\", \"long\", \"long\", \"long\", \"long\", \"long\", \"long\", \"long\", \"long\", \"lord\", \"lord\", \"love\", \"love\", \"love\", \"lover\", \"magistr\", \"major\", \"male\", \"man\", \"man\", \"man\", \"man\", \"manufactur\", \"market\", \"master\", \"master\", \"master\", \"mean\", \"mean\", \"mean\", \"mean\", \"mean\", \"mean\", \"memori\", \"memori\", \"mere\", \"mere\", \"messeng\", \"metal\", \"method\", \"method\", \"million\", \"mind\", \"mind\", \"mind\", \"minist\", \"minist\", \"mode\", \"mode\", \"money\", \"money\", \"moral\", \"moral\", \"mose\", \"mose\", \"most\", \"mystic\", \"nation\", \"nation\", \"nation\", \"natur\", \"natur\", \"natur\", \"natur\", \"natur\", \"new\", \"new\", \"new\", \"new\", \"new\", \"new\", \"new\", \"nietzsch\", \"nietzsch\", \"number\", \"number\", \"number\", \"o\", \"oath\", \"obedi\", \"object\", \"object\", \"occurr\", \"offer\", \"offer\", \"offer\", \"offer\", \"offic\", \"offic\", \"offic\", \"oil\", \"old\", \"old\", \"old\", \"old\", \"old\", \"opinion\", \"opinion\", \"opinion\", \"opportun\", \"oppress\", \"order\", \"order\", \"order\", \"order\", \"order\", \"order\", \"outward\", \"pain\", \"paper\", \"parliament\", \"parliament\", \"part\", \"part\", \"part\", \"part\", \"particular\", \"particular\", \"particular\", \"pay\", \"penalti\", \"peopl\", \"peopl\", \"peopl\", \"peopl\", \"peopl\", \"percept\", \"perplex\", \"person\", \"person\", \"person\", \"person\", \"person\", \"person\", \"peter\", \"pharaoh\", \"phenomenon\", \"philosoph\", \"philosoph\", \"philosophi\", \"phrase\", \"physic\", \"physic\", \"place\", \"place\", \"place\", \"place\", \"place\", \"place\", \"place\", \"place\", \"pleasur\", \"pleasur\", \"point\", \"point\", \"point\", \"point\", \"poor\", \"poor\", \"pope\", \"possibl\", \"possibl\", \"pound\", \"power\", \"power\", \"power\", \"power\", \"power\", \"practic\", \"practic\", \"preach\", \"preach\", \"preced\", \"preced\", \"predic\", \"present\", \"present\", \"present\", \"present\", \"present\", \"price\", \"principl\", \"priori\", \"privat\", \"privat\", \"privat\", \"problem\", \"process\", \"process\", \"produc\", \"produc\", \"produc\", \"profit\", \"profit\", \"prohibit\", \"prohibit\", \"proposit\", \"prosper\", \"protect\", \"provis\", \"psycholog\", \"public\", \"public\", \"public\", \"punish\", \"punish\", \"purchas\", \"purpos\", \"purpos\", \"purpos\", \"purpos\", \"purpos\", \"quantiti\", \"quantiti\", \"question\", \"question\", \"question\", \"question\", \"real\", \"real\", \"reason\", \"reason\", \"reason\", \"reason\", \"reason\", \"recollect\", \"record\", \"reign\", \"reign\", \"reject\", \"reject\", \"reject\", \"relat\", \"relat\", \"religion\", \"religion\", \"rent\", \"represent\", \"republ\", \"revenu\", \"revolut\", \"revolut\", \"reward\", \"reward\", \"rich\", \"rich\", \"right\", \"right\", \"right\", \"right\", \"rome\", \"round\", \"round\", \"round\", \"rule\", \"rule\", \"rule\", \"rule\", \"ruler\", \"ruler\", \"ruler\", \"savag\", \"saviour\", \"say\", \"say\", \"say\", \"say\", \"say\", \"say\", \"say\", \"school\", \"scienc\", \"scientif\", \"scriptur\", \"sea\", \"sea\", \"see\", \"see\", \"see\", \"see\", \"see\", \"see\", \"see\", \"senat\", \"send\", \"send\", \"send\", \"sensat\", \"sensibl\", \"seri\", \"shadow\", \"shall\", \"shall\", \"shall\", \"shall\", \"shall\", \"shall\", \"shalt\", \"sheep\", \"shill\", \"ship\", \"silver\", \"simpl\", \"simpl\", \"skin\", \"small\", \"small\", \"small\", \"small\", \"smell\", \"social\", \"societi\", \"societi\", \"socrat\", \"soldier\", \"son\", \"son\", \"soul\", \"soul\", \"sound\", \"sound\", \"soveraign\", \"sovereign\", \"space\", \"spake\", \"spake\", \"speak\", \"speak\", \"speak\", \"speak\", \"speak\", \"speci\", \"spend\", \"spirit\", \"spirit\", \"spirit\", \"spirit\", \"state\", \"state\", \"state\", \"state\", \"statut\", \"stock\", \"studi\", \"subject\", \"subject\", \"subject\", \"subject\", \"substanc\", \"sum\", \"susten\", \"system\", \"system\", \"tabl\", \"tabl\", \"take\", \"take\", \"take\", \"take\", \"take\", \"take\", \"take\", \"take\", \"tast\", \"tast\", \"tax\", \"teach\", \"teach\", \"teach\", \"teach\", \"tell\", \"tell\", \"tell\", \"tell\", \"tell\", \"tendenc\", \"term\", \"term\", \"term\", \"theaetetu\", \"thee\", \"then\", \"then\", \"then\", \"theodoru\", \"theori\", \"thi\", \"thi\", \"thi\", \"thi\", \"thi\", \"thi\", \"thine\", \"thing\", \"thing\", \"thing\", \"thing\", \"thing\", \"think\", \"think\", \"think\", \"think\", \"thirti\", \"thou\", \"thousand\", \"thyself\", \"time\", \"time\", \"time\", \"time\", \"time\", \"time\", \"time\", \"time\", \"to\", \"to\", \"to\", \"to\", \"to\", \"to\", \"trade\", \"tribe\", \"true\", \"true\", \"true\", \"truth\", \"truth\", \"truth\", \"tyrant\", \"unclean\", \"understand\", \"understand\", \"understand\", \"understand\", \"uniti\", \"unjust\", \"unto\", \"unto\", \"upward\", \"valu\", \"valu\", \"valu\", \"varieti\", \"verili\", \"view\", \"view\", \"view\", \"virtu\", \"virtu\", \"virtu\", \"virtu\", \"vote\", \"wage\", \"wall\", \"war\", \"war\", \"warm\", \"way\", \"way\", \"way\", \"way\", \"way\", \"way\", \"way\", \"wherefor\", \"wherefor\", \"white\", \"white\", \"whosoev\", \"will\", \"will\", \"will\", \"will\", \"will\", \"wilt\", \"witch\", \"word\", \"word\", \"word\", \"word\", \"world\", \"world\", \"world\", \"world\", \"world\", \"world\", \"world\", \"worship\", \"worship\", \"ye\", \"yea\", \"year\", \"zarathustra\"]}, \"R\": 30, \"lambda.step\": 0.01, \"plot.opts\": {\"xlab\": \"PC1\", \"ylab\": \"PC2\"}, \"topic.order\": [4, 3, 7, 1, 2, 5, 8, 6]};\n",
       "\n",
       "function LDAvis_load_lib(url, callback){\n",
       "  var s = document.createElement('script');\n",
       "  s.src = url;\n",
       "  s.async = true;\n",
       "  s.onreadystatechange = s.onload = callback;\n",
       "  s.onerror = function(){console.warn(\"failed to load library \" + url);};\n",
       "  document.getElementsByTagName(\"head\")[0].appendChild(s);\n",
       "}\n",
       "\n",
       "if(typeof(LDAvis) !== \"undefined\"){\n",
       "   // already loaded: just create the visualization\n",
       "   !function(LDAvis){\n",
       "       new LDAvis(\"#\" + \"ldavis_el19511127056540006747079648\", ldavis_el19511127056540006747079648_data);\n",
       "   }(LDAvis);\n",
       "}else if(typeof define === \"function\" && define.amd){\n",
       "   // require.js is available: use it to load d3/LDAvis\n",
       "   require.config({paths: {d3: \"https://cdnjs.cloudflare.com/ajax/libs/d3/3.5.5/d3.min\"}});\n",
       "   require([\"d3\"], function(d3){\n",
       "      window.d3 = d3;\n",
       "      LDAvis_load_lib(\"https://cdn.rawgit.com/bmabey/pyLDAvis/files/ldavis.v1.0.0.js\", function(){\n",
       "        new LDAvis(\"#\" + \"ldavis_el19511127056540006747079648\", ldavis_el19511127056540006747079648_data);\n",
       "      });\n",
       "    });\n",
       "}else{\n",
       "    // require.js not available: dynamically load d3 & LDAvis\n",
       "    LDAvis_load_lib(\"https://cdnjs.cloudflare.com/ajax/libs/d3/3.5.5/d3.min.js\", function(){\n",
       "         LDAvis_load_lib(\"https://cdn.rawgit.com/bmabey/pyLDAvis/files/ldavis.v1.0.0.js\", function(){\n",
       "                 new LDAvis(\"#\" + \"ldavis_el19511127056540006747079648\", ldavis_el19511127056540006747079648_data);\n",
       "            })\n",
       "         });\n",
       "}\n",
       "</script>"
      ],
      "text/plain": [
       "<IPython.core.display.HTML object>"
      ]
     },
     "execution_count": 636,
     "metadata": {},
     "output_type": "execute_result"
    }
   ],
   "source": [
    "lda_display2 = pyLDAvis.gensim.prepare(lda_multi, bow_corpus, g_dict, sort_topics=True)\n",
    "pyLDAvis.display(lda_display2)"
   ]
  },
  {
   "cell_type": "markdown",
   "metadata": {},
   "source": [
    "# Test of Topics for new text"
   ]
  },
  {
   "cell_type": "code",
   "execution_count": 642,
   "metadata": {},
   "outputs": [],
   "source": [
    "newpar = 'Only strong unified government can save from \"the war of all against all\"'"
   ]
  },
  {
   "cell_type": "code",
   "execution_count": 643,
   "metadata": {},
   "outputs": [],
   "source": [
    "newpar_vec = ['only','strong','unified','government','can','save','from','war','all','against','all']"
   ]
  },
  {
   "cell_type": "code",
   "execution_count": 644,
   "metadata": {},
   "outputs": [
    {
     "data": {
      "text/plain": [
       "[(433, 1),\n",
       " (669, 2),\n",
       " (786, 1),\n",
       " (1468, 1),\n",
       " (1477, 1),\n",
       " (1715, 1),\n",
       " (3427, 1),\n",
       " (5432, 1)]"
      ]
     },
     "execution_count": 644,
     "metadata": {},
     "output_type": "execute_result"
    }
   ],
   "source": [
    "newpar_corp = g_dict.doc2bow(newpar_vec)\n",
    "newpar_corp"
   ]
  },
  {
   "cell_type": "code",
   "execution_count": 645,
   "metadata": {},
   "outputs": [
    {
     "data": {
      "text/plain": [
       "[(0, 0.15774071),\n",
       " (1, 0.044295356),\n",
       " (2, 0.13752215),\n",
       " (3, 0.11871302),\n",
       " (4, 0.31861287),\n",
       " (5, 0.060938392),\n",
       " (6, 0.085572109),\n",
       " (7, 0.076605402)]"
      ]
     },
     "execution_count": 645,
     "metadata": {},
     "output_type": "execute_result"
    }
   ],
   "source": [
    "lda_model.get_document_topics(newpar_corp)"
   ]
  },
  {
   "cell_type": "code",
   "execution_count": 646,
   "metadata": {},
   "outputs": [
    {
     "data": {
      "text/plain": [
       "[(0, 0.16327205),\n",
       " (1, 0.62483293),\n",
       " (2, 0.14934538),\n",
       " (3, 0.012512724),\n",
       " (4, 0.012505741),\n",
       " (5, 0.012517393),\n",
       " (6, 0.012503612),\n",
       " (7, 0.012510177)]"
      ]
     },
     "execution_count": 646,
     "metadata": {},
     "output_type": "execute_result"
    }
   ],
   "source": [
    "lda_multi.get_document_topics(newpar_corp)"
   ]
  },
  {
   "cell_type": "markdown",
   "metadata": {},
   "source": [
    "# Save corpus LDA topics to DataFrame, to disk"
   ]
  },
  {
   "cell_type": "code",
   "execution_count": 647,
   "metadata": {},
   "outputs": [],
   "source": [
    "corpus_topic_df = pd.DataFrame(columns=[n for n in range(lda_model.num_topics)])\n",
    "\n",
    "for i, doc in enumerate(lda_model.get_document_topics(bow_corpus)):\n",
    "    for topic, proba in doc:\n",
    "        corpus_topic_df.loc[i, topic] = proba"
   ]
  },
  {
   "cell_type": "code",
   "execution_count": 648,
   "metadata": {},
   "outputs": [],
   "source": [
    "corpus_topic_df.fillna(0, inplace=True)"
   ]
  },
  {
   "cell_type": "code",
   "execution_count": 649,
   "metadata": {},
   "outputs": [
    {
     "data": {
      "text/plain": [
       "0    0\n",
       "1    0\n",
       "2    0\n",
       "3    0\n",
       "4    0\n",
       "5    0\n",
       "6    0\n",
       "7    0\n",
       "dtype: int64"
      ]
     },
     "execution_count": 649,
     "metadata": {},
     "output_type": "execute_result"
    }
   ],
   "source": [
    "corpus_topic_df.isnull().sum()"
   ]
  },
  {
   "cell_type": "code",
   "execution_count": 650,
   "metadata": {},
   "outputs": [
    {
     "data": {
      "text/html": [
       "<div>\n",
       "<table border=\"1\" class=\"dataframe\">\n",
       "  <thead>\n",
       "    <tr style=\"text-align: right;\">\n",
       "      <th></th>\n",
       "      <th>0</th>\n",
       "      <th>1</th>\n",
       "      <th>2</th>\n",
       "      <th>3</th>\n",
       "      <th>4</th>\n",
       "      <th>5</th>\n",
       "      <th>6</th>\n",
       "      <th>7</th>\n",
       "    </tr>\n",
       "  </thead>\n",
       "  <tbody>\n",
       "    <tr>\n",
       "      <th>0</th>\n",
       "      <td>0.186861</td>\n",
       "      <td>0.041349</td>\n",
       "      <td>0.023008</td>\n",
       "      <td>0.055623</td>\n",
       "      <td>0.196905</td>\n",
       "      <td>0.464256</td>\n",
       "      <td>0.000000</td>\n",
       "      <td>0.028641</td>\n",
       "    </tr>\n",
       "    <tr>\n",
       "      <th>1</th>\n",
       "      <td>0.076598</td>\n",
       "      <td>0.131217</td>\n",
       "      <td>0.043864</td>\n",
       "      <td>0.061473</td>\n",
       "      <td>0.379999</td>\n",
       "      <td>0.292917</td>\n",
       "      <td>0.000000</td>\n",
       "      <td>0.000000</td>\n",
       "    </tr>\n",
       "    <tr>\n",
       "      <th>2</th>\n",
       "      <td>0.163516</td>\n",
       "      <td>0.054710</td>\n",
       "      <td>0.057267</td>\n",
       "      <td>0.048800</td>\n",
       "      <td>0.278653</td>\n",
       "      <td>0.367343</td>\n",
       "      <td>0.016500</td>\n",
       "      <td>0.013212</td>\n",
       "    </tr>\n",
       "    <tr>\n",
       "      <th>3</th>\n",
       "      <td>0.060407</td>\n",
       "      <td>0.111848</td>\n",
       "      <td>0.052424</td>\n",
       "      <td>0.045420</td>\n",
       "      <td>0.497444</td>\n",
       "      <td>0.195880</td>\n",
       "      <td>0.014140</td>\n",
       "      <td>0.022437</td>\n",
       "    </tr>\n",
       "    <tr>\n",
       "      <th>4</th>\n",
       "      <td>0.080818</td>\n",
       "      <td>0.113798</td>\n",
       "      <td>0.029826</td>\n",
       "      <td>0.032807</td>\n",
       "      <td>0.209167</td>\n",
       "      <td>0.469323</td>\n",
       "      <td>0.032304</td>\n",
       "      <td>0.031957</td>\n",
       "    </tr>\n",
       "  </tbody>\n",
       "</table>\n",
       "</div>"
      ],
      "text/plain": [
       "          0         1         2         3         4         5         6  \\\n",
       "0  0.186861  0.041349  0.023008  0.055623  0.196905  0.464256  0.000000   \n",
       "1  0.076598  0.131217  0.043864  0.061473  0.379999  0.292917  0.000000   \n",
       "2  0.163516  0.054710  0.057267  0.048800  0.278653  0.367343  0.016500   \n",
       "3  0.060407  0.111848  0.052424  0.045420  0.497444  0.195880  0.014140   \n",
       "4  0.080818  0.113798  0.029826  0.032807  0.209167  0.469323  0.032304   \n",
       "\n",
       "          7  \n",
       "0  0.028641  \n",
       "1  0.000000  \n",
       "2  0.013212  \n",
       "3  0.022437  \n",
       "4  0.031957  "
      ]
     },
     "execution_count": 650,
     "metadata": {},
     "output_type": "execute_result"
    }
   ],
   "source": [
    "corpus_topic_df.head()"
   ]
  },
  {
   "cell_type": "code",
   "execution_count": 651,
   "metadata": {},
   "outputs": [],
   "source": [
    "corpus_topic_df.to_csv('./models/corpus_topic_df.csv', index=False)"
   ]
  },
  {
   "cell_type": "markdown",
   "metadata": {},
   "source": [
    "## Save LDA Model to disk"
   ]
  },
  {
   "cell_type": "code",
   "execution_count": 652,
   "metadata": {},
   "outputs": [],
   "source": [
    "g_dict.save('./models/g_dict')"
   ]
  },
  {
   "cell_type": "code",
   "execution_count": 653,
   "metadata": {},
   "outputs": [],
   "source": [
    "lda_model.save('./models/lda_model')"
   ]
  },
  {
   "cell_type": "code",
   "execution_count": null,
   "metadata": {},
   "outputs": [],
   "source": [
    "# lda_model =  models.LdaModel.load('./models/lda_model')"
   ]
  },
  {
   "cell_type": "markdown",
   "metadata": {},
   "source": [
    "## Automatic Topic Labeling - Gensim Word2Vec"
   ]
  },
  {
   "cell_type": "markdown",
   "metadata": {},
   "source": [
    "Download Gensim common `text8` corpus to build Word2Vec model"
   ]
  },
  {
   "cell_type": "code",
   "execution_count": 3,
   "metadata": {},
   "outputs": [
    {
     "name": "stdout",
     "output_type": "stream",
     "text": [
      "[==================================================] 100.0% 31.6/31.6MB downloaded\n"
     ]
    }
   ],
   "source": [
    "api_corpus = api.load('text8')"
   ]
  },
  {
   "cell_type": "code",
   "execution_count": 4,
   "metadata": {},
   "outputs": [],
   "source": [
    "wv_model = Word2Vec(api_corpus, \n",
    "                    size=100, \n",
    "                    window=10, \n",
    "                    min_count=2, \n",
    "                    sg=1,\n",
    "                    workers=4\n",
    ")"
   ]
  },
  {
   "cell_type": "code",
   "execution_count": 570,
   "metadata": {},
   "outputs": [
    {
     "data": {
      "text/plain": [
       "[('animals', 0.8601729869842529),\n",
       " ('insect', 0.7537721395492554),\n",
       " ('predatory', 0.7357544898986816),\n",
       " ('husbandry', 0.7356052994728088),\n",
       " ('human', 0.7284411787986755),\n",
       " ('carrion', 0.7254469394683838),\n",
       " ('livers', 0.7162550687789917),\n",
       " ('instinct', 0.7133628129959106),\n",
       " ('excrement', 0.7114371657371521),\n",
       " ('carnivore', 0.7063280344009399)]"
      ]
     },
     "execution_count": 570,
     "metadata": {},
     "output_type": "execute_result"
    }
   ],
   "source": [
    "wv_model.most_similar('animal')"
   ]
  },
  {
   "cell_type": "code",
   "execution_count": null,
   "metadata": {},
   "outputs": [],
   "source": []
  }
 ],
 "metadata": {
  "kernelspec": {
   "display_name": "Environment (conda_tensorflow_p36)",
   "language": "python",
   "name": "conda_tensorflow_p36"
  },
  "language_info": {
   "codemirror_mode": {
    "name": "ipython",
    "version": 3
   },
   "file_extension": ".py",
   "mimetype": "text/x-python",
   "name": "python",
   "nbconvert_exporter": "python",
   "pygments_lexer": "ipython3",
   "version": "3.6.5"
  }
 },
 "nbformat": 4,
 "nbformat_minor": 2
}
