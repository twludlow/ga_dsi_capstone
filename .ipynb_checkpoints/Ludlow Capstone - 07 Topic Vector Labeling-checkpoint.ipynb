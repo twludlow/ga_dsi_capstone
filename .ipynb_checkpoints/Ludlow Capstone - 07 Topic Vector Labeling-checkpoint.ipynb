{
 "cells": [
  {
   "cell_type": "markdown",
   "metadata": {},
   "source": [
    "# Capstone: Text Factorizing with NLP\n",
    "## Thomas Ludlow"
   ]
  },
  {
   "cell_type": "markdown",
   "metadata": {},
   "source": [
    "# 07 - Topic Vector Labeling"
   ]
  },
  {
   "cell_type": "markdown",
   "metadata": {},
   "source": [
    "This notebook contains a method of automatically labeling LDA topic results using Word2Vec values, with each value manually averaged to determine central theme and apply to LDA topics."
   ]
  },
  {
   "cell_type": "markdown",
   "metadata": {},
   "source": [
    "**Libraries**"
   ]
  },
  {
   "cell_type": "code",
   "execution_count": 1,
   "metadata": {},
   "outputs": [
    {
     "name": "stderr",
     "output_type": "stream",
     "text": [
      "/home/ubuntu/anaconda3/envs/tensorflow_p36/lib/python3.6/site-packages/scipy/sparse/sparsetools.py:21: DeprecationWarning: `scipy.sparse.sparsetools` is deprecated!\n",
      "scipy.sparse.sparsetools is a private module for scipy.sparse, and should not be used.\n",
      "  _deprecated()\n"
     ]
    }
   ],
   "source": [
    "# Python Data Science\n",
    "import re\n",
    "import time\n",
    "import numpy as np\n",
    "import pandas as pd\n",
    "from tqdm import tqdm\n",
    "\n",
    "# Natural Language Processing\n",
    "import spacy\n",
    "import pyLDAvis.gensim\n",
    "from nltk.stem import PorterStemmer\n",
    "\n",
    "import gensim\n",
    "import gensim.downloader as api\n",
    "from gensim.corpora import Dictionary\n",
    "from gensim.models import TfidfModel, ldamodel, ldamulticore, CoherenceModel\n",
    "from gensim.models.word2vec import Word2Vec\n",
    "\n",
    "# Plotting\n",
    "import matplotlib.pyplot as plt\n",
    "%matplotlib inline\n",
    "\n",
    "# Override deprecation warnings\n",
    "import warnings\n",
    "warnings.filterwarnings(\"ignore\",category=DeprecationWarning)"
   ]
  },
  {
   "cell_type": "markdown",
   "metadata": {},
   "source": [
    "## Gensim Word2Vec"
   ]
  },
  {
   "cell_type": "markdown",
   "metadata": {},
   "source": [
    "**`text8` Dataset**"
   ]
  },
  {
   "cell_type": "code",
   "execution_count": 2,
   "metadata": {},
   "outputs": [],
   "source": [
    "text8_corpus = api.load('text8')"
   ]
  },
  {
   "cell_type": "markdown",
   "metadata": {},
   "source": [
    "**Wikipedia English Dataset**"
   ]
  },
  {
   "cell_type": "code",
   "execution_count": null,
   "metadata": {},
   "outputs": [],
   "source": [
    "wiki_corpus = api.load('wiki-en')"
   ]
  },
  {
   "cell_type": "code",
   "execution_count": 3,
   "metadata": {},
   "outputs": [],
   "source": [
    "wv_vecsize = 100"
   ]
  },
  {
   "cell_type": "code",
   "execution_count": 4,
   "metadata": {},
   "outputs": [],
   "source": [
    "wv_model = Word2Vec(api_corpus, \n",
    "                    size=wv_vecsize, \n",
    "                    window=10, \n",
    "                    min_count=2, \n",
    "                    sg=1,\n",
    "                    workers=4\n",
    ")"
   ]
  },
  {
   "cell_type": "code",
   "execution_count": 5,
   "metadata": {},
   "outputs": [],
   "source": [
    "cat = wv_model['cat']"
   ]
  },
  {
   "cell_type": "code",
   "execution_count": 6,
   "metadata": {},
   "outputs": [
    {
     "data": {
      "text/plain": [
       "array([ 0.26472232, -0.0142126 , -0.00818526,  0.13113968,  0.18849553,\n",
       "        0.20811017,  0.01688647, -0.45183334,  0.15992552,  0.29908857,\n",
       "       -0.13427413,  0.00185853,  0.24724905,  0.00573835, -0.1929899 ,\n",
       "        0.00212355,  0.12863968,  0.01991918,  0.22128783, -0.46156868,\n",
       "       -0.19631663, -0.04326332,  0.5155393 , -0.18770577, -0.24224909,\n",
       "       -0.24819106, -0.21459174, -0.23786674,  0.4772656 ,  0.00635874,\n",
       "        0.13242227, -0.10513268,  0.2804414 , -0.72400445,  0.28935522,\n",
       "       -0.06758695,  0.06273188,  0.11229169,  0.21561798,  0.38711905,\n",
       "       -0.14327276,  0.37157035, -0.21790624, -0.19659127,  0.24513212,\n",
       "       -0.27070078, -0.10880417,  0.50693566,  0.18778369,  0.28313178,\n",
       "       -0.04191535, -0.3631849 ,  0.512073  ,  0.08967022,  0.08440157,\n",
       "       -0.09960833,  0.19115895,  0.28187528,  0.19137958,  0.9573726 ,\n",
       "        0.6206389 ,  0.49687356,  0.4938762 ,  0.00150871, -0.04593959,\n",
       "       -0.06677195,  0.01408095,  0.3265416 , -0.8067601 ,  0.02981953,\n",
       "       -0.0776944 ,  0.156202  , -0.32231504, -0.702211  , -0.8093126 ,\n",
       "        0.279131  ,  0.50415933, -0.14413828,  0.13931091,  0.04484391,\n",
       "        0.56640136,  0.19950545, -0.16468497, -0.08427188,  0.28013372,\n",
       "        0.43529132, -0.5970803 ,  0.1346041 , -0.58629376,  0.11525737,\n",
       "       -0.19897188,  0.18348481, -0.23809403,  0.2727268 , -0.07562553,\n",
       "       -0.4911711 , -0.19033511,  0.32589954,  0.1169414 ,  0.0508056 ],\n",
       "      dtype=float32)"
      ]
     },
     "execution_count": 6,
     "metadata": {},
     "output_type": "execute_result"
    }
   ],
   "source": [
    "cat"
   ]
  },
  {
   "cell_type": "markdown",
   "metadata": {},
   "source": [
    "**Identify Most Similar to New Vector**"
   ]
  },
  {
   "cell_type": "code",
   "execution_count": 7,
   "metadata": {},
   "outputs": [
    {
     "data": {
      "text/plain": [
       "[('cat', 0.9999998807907104),\n",
       " ('kitten', 0.7112815380096436),\n",
       " ('meow', 0.6988402605056763),\n",
       " ('guppy', 0.6874876618385315),\n",
       " ('cats', 0.6847944259643555),\n",
       " ('sighthound', 0.6840217113494873),\n",
       " ('felis', 0.6832777857780457),\n",
       " ('dog', 0.6819274425506592),\n",
       " ('mammal', 0.6763498187065125),\n",
       " ('wolfhound', 0.6715655326843262)]"
      ]
     },
     "execution_count": 7,
     "metadata": {},
     "output_type": "execute_result"
    }
   ],
   "source": [
    "wv_model.wv.similar_by_vector(cat)"
   ]
  },
  {
   "cell_type": "markdown",
   "metadata": {},
   "source": [
    "**Identify Vector Elements for Term Specificity**"
   ]
  },
  {
   "cell_type": "code",
   "execution_count": 8,
   "metadata": {},
   "outputs": [],
   "source": [
    "tiger = wv_model['tiger']\n",
    "cat = wv_model['cat']\n",
    "mammal = wv_model['mammal']\n",
    "animal = wv_model['animal']\n",
    "organism = wv_model['organism']"
   ]
  },
  {
   "cell_type": "code",
   "execution_count": 9,
   "metadata": {},
   "outputs": [
    {
     "data": {
      "text/plain": [
       "0.08551708"
      ]
     },
     "execution_count": 9,
     "metadata": {},
     "output_type": "execute_result"
    }
   ],
   "source": [
    "tiger[0]"
   ]
  },
  {
   "cell_type": "code",
   "execution_count": 10,
   "metadata": {},
   "outputs": [
    {
     "data": {
      "text/plain": [
       "[0.08551708, 0.26472232, -0.019330576, -0.23395371, -0.6178287]"
      ]
     },
     "execution_count": 10,
     "metadata": {},
     "output_type": "execute_result"
    }
   ],
   "source": [
    "testlist = [tiger[0],cat[0],mammal[0],animal[0],organism[0]]\n",
    "testlist"
   ]
  },
  {
   "cell_type": "code",
   "execution_count": 12,
   "metadata": {
    "scrolled": false
   },
   "outputs": [
    {
     "name": "stdout",
     "output_type": "stream",
     "text": [
      "8 ascending\n",
      "[0.106050074, 0.15992552, 0.19117576, 0.6694827, 1.1557617]\n",
      "47 descending\n",
      "[0.68303746, 0.50693566, 0.48589846, 0.39318812, -0.018538954]\n",
      "67 descending\n",
      "[0.38492838, 0.3265416, 0.2855884, 0.20494707, 0.09016398]\n",
      "70 ascending\n",
      "[-0.2317701, -0.0776944, -0.05784192, 0.03954233, 0.27571255]\n",
      "89 ascending\n",
      "[0.032903757, 0.115257375, 0.1456704, 0.24947196, 0.377151]\n",
      "\n",
      "99\n",
      "0.69529223\n",
      "[0.52951413, 0.050805602, -0.16577813, -0.00017925011, 0.021101555]\n"
     ]
    }
   ],
   "source": [
    "for i in range(wv_vecsize):\n",
    "    x_vals = [1,2,3,4,5]\n",
    "    y_vals = [tiger[i],cat[i],mammal[i],animal[i],organism[i]]\n",
    "    i_min_dif = None\n",
    "    min_dif = 999999\n",
    "\n",
    "    # Check for elements with similarity\n",
    "    dif = (max(y_vals) - min(y_vals))\n",
    "    if dif < min_dif:\n",
    "        i_min_dif = i\n",
    "        min_dif = dif\n",
    "    \n",
    "    # Check for elements with unidirectionality\n",
    "    if (tiger[i]<cat[i]) & (cat[i]<mammal[i]) & (mammal[i]<animal[i]) & (animal[i]<organism[i]):\n",
    "        print(i, 'ascending')\n",
    "        print(y_vals)\n",
    "    elif (tiger[i]>cat[i]) & (cat[i]>mammal[i]) & (mammal[i]>animal[i]) & (animal[i]>organism[i]):\n",
    "        print(i, 'descending')\n",
    "        print(y_vals)\n",
    "        \n",
    "print('')\n",
    "print(i_min_dif)\n",
    "print(min_dif)\n",
    "print([tiger[i_min_dif],cat[i_min_dif],mammal[i_min_dif],animal[i_min_dif],organism[i_min_dif]])\n",
    "                      "
   ]
  },
  {
   "cell_type": "markdown",
   "metadata": {},
   "source": [
    "The vector elements pertaining to specificity for the word \"tiger\" are elements **59** and **64**."
   ]
  },
  {
   "cell_type": "markdown",
   "metadata": {},
   "source": [
    "## Topic Label Test"
   ]
  },
  {
   "cell_type": "markdown",
   "metadata": {},
   "source": [
    "**Test 0**"
   ]
  },
  {
   "cell_type": "markdown",
   "metadata": {},
   "source": [
    "(0,\n",
    "  '0.053*\"great\" + 0.037*\"good\" + 0.027*\"govern\" + 0.023*\"tax\" + 0.019*\"right\" + 0.017*\"pay\" + 0.013*\"valu\" + 0.013*\"peopl\" + 0.013*\"high\" + 0.012*\"revenu\"'),\n",
    " "
   ]
  },
  {
   "cell_type": "code",
   "execution_count": 50,
   "metadata": {},
   "outputs": [],
   "source": [
    "test_0 = ['great','good','govern','tax','right','pay','value','people','high','revenue']"
   ]
  },
  {
   "cell_type": "code",
   "execution_count": 51,
   "metadata": {},
   "outputs": [],
   "source": [
    "t0_vec_list = [wv_model[term] for term in test_0]"
   ]
  },
  {
   "cell_type": "code",
   "execution_count": 66,
   "metadata": {},
   "outputs": [
    {
     "data": {
      "text/plain": [
       "-0.17579739"
      ]
     },
     "execution_count": 66,
     "metadata": {},
     "output_type": "execute_result"
    }
   ],
   "source": [
    "t0_vec_list[0][0]"
   ]
  },
  {
   "cell_type": "code",
   "execution_count": 67,
   "metadata": {},
   "outputs": [],
   "source": [
    "t0_mean_vec = [np.mean([t0_vec_list[i][element] for i in range(len(t0_vec_list))]) for element in range(wv_vecsize)]"
   ]
  },
  {
   "cell_type": "code",
   "execution_count": 68,
   "metadata": {},
   "outputs": [
    {
     "data": {
      "text/plain": [
       "100"
      ]
     },
     "execution_count": 68,
     "metadata": {},
     "output_type": "execute_result"
    }
   ],
   "source": [
    "len(t0_mean_vec)"
   ]
  },
  {
   "cell_type": "code",
   "execution_count": 78,
   "metadata": {},
   "outputs": [
    {
     "data": {
      "text/plain": [
       "[-0.4231813, -0.23181407, 0.17925094, 0.2683042, -0.25428733]"
      ]
     },
     "execution_count": 78,
     "metadata": {},
     "output_type": "execute_result"
    }
   ],
   "source": [
    "t0_mean_vec[:5]"
   ]
  },
  {
   "cell_type": "markdown",
   "metadata": {},
   "source": [
    "**Convert to Numpy Float32 Array**"
   ]
  },
  {
   "cell_type": "code",
   "execution_count": 76,
   "metadata": {},
   "outputs": [],
   "source": [
    "t0_vec_in = np.array(t0_mean_vec, dtype='float32')"
   ]
  },
  {
   "cell_type": "code",
   "execution_count": 77,
   "metadata": {},
   "outputs": [
    {
     "data": {
      "text/plain": [
       "[('pigovian', 0.8742243051528931),\n",
       " ('payers', 0.8705583810806274),\n",
       " ('stipends', 0.8670148253440857),\n",
       " ('perquisites', 0.8661175966262817),\n",
       " ('equalise', 0.8609489798545837),\n",
       " ('amortisation', 0.8589038848876953),\n",
       " ('externalities', 0.8583351373672485),\n",
       " ('irrevocable', 0.8572245836257935),\n",
       " ('issuer', 0.8557246923446655),\n",
       " ('mortgages', 0.8549227118492126)]"
      ]
     },
     "execution_count": 77,
     "metadata": {},
     "output_type": "execute_result"
    }
   ],
   "source": [
    "wv_model.wv.similar_by_vector(t0_vec_in)"
   ]
  },
  {
   "cell_type": "code",
   "execution_count": 83,
   "metadata": {},
   "outputs": [
    {
     "data": {
      "text/plain": [
       "0.12283288"
      ]
     },
     "execution_count": 83,
     "metadata": {},
     "output_type": "execute_result"
    }
   ],
   "source": [
    "t0_vec_in[64]"
   ]
  },
  {
   "cell_type": "code",
   "execution_count": 84,
   "metadata": {},
   "outputs": [],
   "source": [
    "t0_vec_in[64] *= -1"
   ]
  },
  {
   "cell_type": "code",
   "execution_count": 85,
   "metadata": {},
   "outputs": [
    {
     "data": {
      "text/plain": [
       "-0.12283288"
      ]
     },
     "execution_count": 85,
     "metadata": {},
     "output_type": "execute_result"
    }
   ],
   "source": [
    "t0_vec_in[64]"
   ]
  },
  {
   "cell_type": "code",
   "execution_count": 86,
   "metadata": {},
   "outputs": [
    {
     "data": {
      "text/plain": [
       "[('payers', 0.8726302981376648),\n",
       " ('pigovian', 0.8708720207214355),\n",
       " ('perquisites', 0.8632028102874756),\n",
       " ('stipends', 0.8630079030990601),\n",
       " ('equalise', 0.8586211800575256),\n",
       " ('externalities', 0.8577253222465515),\n",
       " ('irrevocable', 0.8554208278656006),\n",
       " ('moneylending', 0.8549354076385498),\n",
       " ('amortisation', 0.852045476436615),\n",
       " ('remuneration', 0.851937472820282)]"
      ]
     },
     "execution_count": 86,
     "metadata": {},
     "output_type": "execute_result"
    }
   ],
   "source": [
    "wv_model.wv.similar_by_vector(t0_vec_in)"
   ]
  },
  {
   "cell_type": "code",
   "execution_count": 87,
   "metadata": {},
   "outputs": [
    {
     "data": {
      "text/plain": [
       "0.020428197"
      ]
     },
     "execution_count": 87,
     "metadata": {},
     "output_type": "execute_result"
    }
   ],
   "source": [
    "t0_vec_in[59]"
   ]
  },
  {
   "cell_type": "code",
   "execution_count": 88,
   "metadata": {},
   "outputs": [],
   "source": [
    "t0_vec_in[59] *= -1"
   ]
  },
  {
   "cell_type": "code",
   "execution_count": 90,
   "metadata": {},
   "outputs": [],
   "source": [
    "t0_titles = wv_model.wv.similar_by_vector(t0_vec_in)"
   ]
  },
  {
   "cell_type": "code",
   "execution_count": 92,
   "metadata": {},
   "outputs": [
    {
     "data": {
      "text/plain": [
       "'Payers'"
      ]
     },
     "execution_count": 92,
     "metadata": {},
     "output_type": "execute_result"
    }
   ],
   "source": [
    "t0_titles[0][0].title()"
   ]
  },
  {
   "cell_type": "markdown",
   "metadata": {},
   "source": [
    "**Test 1**"
   ]
  },
  {
   "cell_type": "markdown",
   "metadata": {},
   "source": [
    " (1,\n",
    "  '0.034*\"price\" + 0.029*\"labour\" + 0.027*\"land\" + 0.026*\"year\" + 0.025*\"money\" + 0.022*\"capit\" + 0.017*\"work\" + 0.016*\"silver\" + 0.016*\"time\" + 0.015*\"gold\"'),\n",
    " \n"
   ]
  },
  {
   "cell_type": "code",
   "execution_count": 95,
   "metadata": {},
   "outputs": [],
   "source": [
    "test_1 = ['price','labour','land','year','money','capital','work','silver','time','gold']"
   ]
  },
  {
   "cell_type": "code",
   "execution_count": 96,
   "metadata": {},
   "outputs": [],
   "source": [
    "t1_vec_list = [wv_model[term] for term in test_1]"
   ]
  },
  {
   "cell_type": "code",
   "execution_count": 97,
   "metadata": {},
   "outputs": [
    {
     "data": {
      "text/plain": [
       "-0.59992534"
      ]
     },
     "execution_count": 97,
     "metadata": {},
     "output_type": "execute_result"
    }
   ],
   "source": [
    "t1_vec_list[0][0]"
   ]
  },
  {
   "cell_type": "code",
   "execution_count": 98,
   "metadata": {},
   "outputs": [],
   "source": [
    "t1_mean_vec = [np.mean([t1_vec_list[i][element] for i in range(len(t1_vec_list))]) for element in range(wv_vecsize)]\n"
   ]
  },
  {
   "cell_type": "code",
   "execution_count": 99,
   "metadata": {},
   "outputs": [
    {
     "data": {
      "text/plain": [
       "100"
      ]
     },
     "execution_count": 99,
     "metadata": {},
     "output_type": "execute_result"
    }
   ],
   "source": [
    "len(t1_mean_vec)"
   ]
  },
  {
   "cell_type": "code",
   "execution_count": 100,
   "metadata": {},
   "outputs": [
    {
     "data": {
      "text/plain": [
       "[-0.2977167, -0.27249134, 0.1448909, 0.17232029, -0.30534294]"
      ]
     },
     "execution_count": 100,
     "metadata": {},
     "output_type": "execute_result"
    }
   ],
   "source": [
    "t1_mean_vec[:5]"
   ]
  },
  {
   "cell_type": "code",
   "execution_count": 101,
   "metadata": {},
   "outputs": [],
   "source": [
    "t1_vec_in = np.array(t1_mean_vec, dtype='float32')"
   ]
  },
  {
   "cell_type": "code",
   "execution_count": 102,
   "metadata": {},
   "outputs": [
    {
     "data": {
      "text/plain": [
       "[('overspending', 0.849362850189209),\n",
       " ('krugerrands', 0.8462162017822266),\n",
       " ('depreciated', 0.8456106185913086),\n",
       " ('depreciations', 0.8368104100227356),\n",
       " ('shekels', 0.8284364938735962),\n",
       " ('greenbacks', 0.8281338214874268),\n",
       " ('revaluation', 0.8269621133804321),\n",
       " ('dollarization', 0.8243699669837952),\n",
       " ('colones', 0.822127103805542),\n",
       " ('bullion', 0.8220473527908325)]"
      ]
     },
     "execution_count": 102,
     "metadata": {},
     "output_type": "execute_result"
    }
   ],
   "source": [
    "wv_model.wv.similar_by_vector(t1_vec_in)"
   ]
  },
  {
   "cell_type": "code",
   "execution_count": 103,
   "metadata": {},
   "outputs": [
    {
     "data": {
      "text/plain": [
       "0.14847198"
      ]
     },
     "execution_count": 103,
     "metadata": {},
     "output_type": "execute_result"
    }
   ],
   "source": [
    "t1_vec_in[64]"
   ]
  },
  {
   "cell_type": "code",
   "execution_count": 104,
   "metadata": {},
   "outputs": [],
   "source": [
    "t1_vec_in[64] *= -1"
   ]
  },
  {
   "cell_type": "code",
   "execution_count": 105,
   "metadata": {},
   "outputs": [
    {
     "data": {
      "text/plain": [
       "-0.14847198"
      ]
     },
     "execution_count": 105,
     "metadata": {},
     "output_type": "execute_result"
    }
   ],
   "source": [
    "t1_vec_in[64]"
   ]
  },
  {
   "cell_type": "code",
   "execution_count": 106,
   "metadata": {},
   "outputs": [
    {
     "data": {
      "text/plain": [
       "[('overspending', 0.841806948184967),\n",
       " ('krugerrands', 0.8384612798690796),\n",
       " ('depreciated', 0.8359653949737549),\n",
       " ('shekels', 0.8287818431854248),\n",
       " ('depreciations', 0.8264131546020508),\n",
       " ('reinvested', 0.8207769989967346),\n",
       " ('surplus', 0.8203780651092529),\n",
       " ('saleable', 0.8196335434913635),\n",
       " ('dollarization', 0.8184707164764404),\n",
       " ('bullion', 0.8171533346176147)]"
      ]
     },
     "execution_count": 106,
     "metadata": {},
     "output_type": "execute_result"
    }
   ],
   "source": [
    "wv_model.wv.similar_by_vector(t1_vec_in)"
   ]
  },
  {
   "cell_type": "code",
   "execution_count": 107,
   "metadata": {},
   "outputs": [
    {
     "data": {
      "text/plain": [
       "-0.063191585"
      ]
     },
     "execution_count": 107,
     "metadata": {},
     "output_type": "execute_result"
    }
   ],
   "source": [
    "t1_vec_in[59]"
   ]
  },
  {
   "cell_type": "code",
   "execution_count": 108,
   "metadata": {},
   "outputs": [],
   "source": [
    "t1_vec_in[59] *= 2"
   ]
  },
  {
   "cell_type": "code",
   "execution_count": 109,
   "metadata": {},
   "outputs": [],
   "source": [
    "t1_titles = wv_model.wv.similar_by_vector(t1_vec_in)"
   ]
  },
  {
   "cell_type": "code",
   "execution_count": 110,
   "metadata": {},
   "outputs": [
    {
     "data": {
      "text/plain": [
       "'Overspending'"
      ]
     },
     "execution_count": 110,
     "metadata": {},
     "output_type": "execute_result"
    }
   ],
   "source": [
    "t1_titles[0][0].title()"
   ]
  },
  {
   "cell_type": "markdown",
   "metadata": {},
   "source": [
    "**Test 2**"
   ]
  },
  {
   "cell_type": "markdown",
   "metadata": {},
   "source": [
    " (2,\n",
    "  '0.028*\"natur\" + 0.018*\"state\" + 0.017*\"differ\" + 0.013*\"in\" + 0.012*\"mean\" + 0.010*\"certain\" + 0.009*\"mind\" + 0.009*\"note\" + 0.009*\"knowledg\" + 0.009*\"particular\"')"
   ]
  },
  {
   "cell_type": "code",
   "execution_count": 111,
   "metadata": {},
   "outputs": [],
   "source": [
    "test_2 = ['nature','state','differ','in','mean','certain','mind','note','knowledge','particular']"
   ]
  },
  {
   "cell_type": "code",
   "execution_count": 112,
   "metadata": {},
   "outputs": [],
   "source": [
    "t2_vec_list = [wv_model[term] for term in test_2]"
   ]
  },
  {
   "cell_type": "code",
   "execution_count": 113,
   "metadata": {},
   "outputs": [
    {
     "data": {
      "text/plain": [
       "0.031927023"
      ]
     },
     "execution_count": 113,
     "metadata": {},
     "output_type": "execute_result"
    }
   ],
   "source": [
    "t2_vec_list[0][0]"
   ]
  },
  {
   "cell_type": "code",
   "execution_count": 114,
   "metadata": {},
   "outputs": [],
   "source": [
    "t2_mean_vec = [np.mean([t2_vec_list[i][element] for i in range(len(t2_vec_list))]) for element in range(wv_vecsize)]\n"
   ]
  },
  {
   "cell_type": "code",
   "execution_count": 115,
   "metadata": {},
   "outputs": [
    {
     "data": {
      "text/plain": [
       "100"
      ]
     },
     "execution_count": 115,
     "metadata": {},
     "output_type": "execute_result"
    }
   ],
   "source": [
    "len(t2_mean_vec)"
   ]
  },
  {
   "cell_type": "code",
   "execution_count": 116,
   "metadata": {},
   "outputs": [
    {
     "data": {
      "text/plain": [
       "[-0.27046198, -0.15278067, 0.050503295, 0.11848924, -0.2573365]"
      ]
     },
     "execution_count": 116,
     "metadata": {},
     "output_type": "execute_result"
    }
   ],
   "source": [
    "t2_mean_vec[:5]"
   ]
  },
  {
   "cell_type": "code",
   "execution_count": 117,
   "metadata": {},
   "outputs": [],
   "source": [
    "t2_vec_in = np.array(t2_mean_vec, dtype='float32')"
   ]
  },
  {
   "cell_type": "code",
   "execution_count": 118,
   "metadata": {},
   "outputs": [
    {
     "data": {
      "text/plain": [
       "[('desirability', 0.8907757997512817),\n",
       " ('arbitrariness', 0.8871997594833374),\n",
       " ('universalizing', 0.8836926221847534),\n",
       " ('unmeasurable', 0.8811575174331665),\n",
       " ('contiguity', 0.8760883808135986),\n",
       " ('endoxa', 0.8739012479782104),\n",
       " ('contributive', 0.8738775849342346),\n",
       " ('absolutes', 0.8707197904586792),\n",
       " ('construal', 0.8687305450439453),\n",
       " ('dichotomies', 0.8683440685272217)]"
      ]
     },
     "execution_count": 118,
     "metadata": {},
     "output_type": "execute_result"
    }
   ],
   "source": [
    "wv_model.wv.similar_by_vector(t2_vec_in)"
   ]
  },
  {
   "cell_type": "code",
   "execution_count": 119,
   "metadata": {},
   "outputs": [
    {
     "data": {
      "text/plain": [
       "-0.122068"
      ]
     },
     "execution_count": 119,
     "metadata": {},
     "output_type": "execute_result"
    }
   ],
   "source": [
    "t2_vec_in[64]"
   ]
  },
  {
   "cell_type": "code",
   "execution_count": 120,
   "metadata": {},
   "outputs": [],
   "source": [
    "t2_vec_in[64] *= 2"
   ]
  },
  {
   "cell_type": "code",
   "execution_count": 121,
   "metadata": {},
   "outputs": [
    {
     "data": {
      "text/plain": [
       "-0.244136"
      ]
     },
     "execution_count": 121,
     "metadata": {},
     "output_type": "execute_result"
    }
   ],
   "source": [
    "t2_vec_in[64]"
   ]
  },
  {
   "cell_type": "code",
   "execution_count": 122,
   "metadata": {},
   "outputs": [
    {
     "data": {
      "text/plain": [
       "[('desirability', 0.8851734399795532),\n",
       " ('arbitrariness', 0.8836332559585571),\n",
       " ('universalizing', 0.8809947967529297),\n",
       " ('unmeasurable', 0.8789762854576111),\n",
       " ('contiguity', 0.8750284910202026),\n",
       " ('endoxa', 0.8702093362808228),\n",
       " ('contributive', 0.8671209216117859),\n",
       " ('envisage', 0.866086483001709),\n",
       " ('absolutes', 0.8656156063079834),\n",
       " ('construal', 0.8654384613037109)]"
      ]
     },
     "execution_count": 122,
     "metadata": {},
     "output_type": "execute_result"
    }
   ],
   "source": [
    "wv_model.wv.similar_by_vector(t2_vec_in)"
   ]
  },
  {
   "cell_type": "code",
   "execution_count": 123,
   "metadata": {},
   "outputs": [
    {
     "data": {
      "text/plain": [
       "0.31779212"
      ]
     },
     "execution_count": 123,
     "metadata": {},
     "output_type": "execute_result"
    }
   ],
   "source": [
    "t2_vec_in[59]"
   ]
  },
  {
   "cell_type": "code",
   "execution_count": 124,
   "metadata": {},
   "outputs": [],
   "source": [
    "t2_vec_in[59] *= -1"
   ]
  },
  {
   "cell_type": "code",
   "execution_count": 125,
   "metadata": {},
   "outputs": [],
   "source": [
    "t2_titles = wv_model.wv.similar_by_vector(t2_vec_in)"
   ]
  },
  {
   "cell_type": "code",
   "execution_count": 126,
   "metadata": {},
   "outputs": [
    {
     "data": {
      "text/plain": [
       "'Arbitrariness'"
      ]
     },
     "execution_count": 126,
     "metadata": {},
     "output_type": "execute_result"
    }
   ],
   "source": [
    "t2_titles[0][0].title()"
   ]
  },
  {
   "cell_type": "code",
   "execution_count": null,
   "metadata": {},
   "outputs": [],
   "source": []
  }
 ],
 "metadata": {
  "kernelspec": {
   "display_name": "Environment (conda_tensorflow_p36)",
   "language": "python",
   "name": "conda_tensorflow_p36"
  },
  "language_info": {
   "codemirror_mode": {
    "name": "ipython",
    "version": 3
   },
   "file_extension": ".py",
   "mimetype": "text/x-python",
   "name": "python",
   "nbconvert_exporter": "python",
   "pygments_lexer": "ipython3",
   "version": "3.6.5"
  }
 },
 "nbformat": 4,
 "nbformat_minor": 2
}
