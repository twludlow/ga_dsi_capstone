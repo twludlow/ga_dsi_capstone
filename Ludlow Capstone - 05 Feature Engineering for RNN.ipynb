{
 "cells": [
  {
   "cell_type": "markdown",
   "metadata": {},
   "source": [
    "# Capstone: Text Factorizing with NLP\n",
    "## Thomas Ludlow"
   ]
  },
  {
   "cell_type": "markdown",
   "metadata": {},
   "source": [
    "# 05 - Feature Engineering for RNN"
   ]
  },
  {
   "cell_type": "markdown",
   "metadata": {},
   "source": [
    "This notebook will use the LDA model observation values to build the supervised Keras Recurrent Neural Net (RNN) model for measuring similarity between text passages.  These may be combined with other features, including:\n",
    "- Spacy Word Vectors\n",
    "- n-grams/n-graphs"
   ]
  },
  {
   "cell_type": "markdown",
   "metadata": {},
   "source": [
    "**Libraries**"
   ]
  },
  {
   "cell_type": "code",
   "execution_count": 296,
   "metadata": {},
   "outputs": [],
   "source": [
    "# Python Data Science\n",
    "import re\n",
    "import time\n",
    "import numpy as np\n",
    "import pandas as pd\n",
    "\n",
    "# Natural Language Processing\n",
    "import spacy\n",
    "import gensim\n",
    "import pyLDAvis.gensim\n",
    "from gensim.corpora import Dictionary\n",
    "from gensim.models import TfidfModel, ldamodel, ldamulticore, CoherenceModel\n",
    "\n",
    "# Modeling Prep\n",
    "from sklearn.model_selection import train_test_split, cross_val_score\n",
    "from sklearn.preprocessing import StandardScaler\n",
    "\n",
    "# Neural Net\n",
    "import keras\n",
    "import tensorflow as tf\n",
    "from keras.models import Sequential\n",
    "from keras.layers import Dense, Activation, Dropout\n",
    "from keras.callbacks import EarlyStopping\n",
    "\n",
    "# Plotting\n",
    "import matplotlib.pyplot as plt\n",
    "%matplotlib inline\n",
    "\n",
    "# Override deprecation warnings\n",
    "import warnings\n",
    "warnings.filterwarnings(\"ignore\",category=DeprecationWarning)"
   ]
  },
  {
   "cell_type": "markdown",
   "metadata": {},
   "source": [
    "**Load Corpus Topic Values, Text Metadata**"
   ]
  },
  {
   "cell_type": "code",
   "execution_count": 297,
   "metadata": {},
   "outputs": [
    {
     "data": {
      "text/html": [
       "<div>\n",
       "<table border=\"1\" class=\"dataframe\">\n",
       "  <thead>\n",
       "    <tr style=\"text-align: right;\">\n",
       "      <th></th>\n",
       "      <th>author</th>\n",
       "      <th>work</th>\n",
       "      <th>paragraph</th>\n",
       "    </tr>\n",
       "  </thead>\n",
       "  <tbody>\n",
       "    <tr>\n",
       "      <th>0</th>\n",
       "      <td>Ani</td>\n",
       "      <td>Book of the Dead: The Papyrus of Ani</td>\n",
       "      <td>\"Homage to thee, Osiris, Lord of eternity, Kin...</td>\n",
       "    </tr>\n",
       "    <tr>\n",
       "      <th>1</th>\n",
       "      <td>Ani</td>\n",
       "      <td>Book of the Dead: The Papyrus of Ani</td>\n",
       "      <td>\"Thou art the Great Chief, the first among thy...</td>\n",
       "    </tr>\n",
       "    <tr>\n",
       "      <th>2</th>\n",
       "      <td>Ani</td>\n",
       "      <td>Book of the Dead: The Papyrus of Ani</td>\n",
       "      <td>\"Thou rollest up into the horizon, thou hast s...</td>\n",
       "    </tr>\n",
       "    <tr>\n",
       "      <th>3</th>\n",
       "      <td>Ani</td>\n",
       "      <td>Book of the Dead: The Papyrus of Ani</td>\n",
       "      <td>His sister [Isis] hath protected him, and hath...</td>\n",
       "    </tr>\n",
       "    <tr>\n",
       "      <th>4</th>\n",
       "      <td>Ani</td>\n",
       "      <td>Book of the Dead: The Papyrus of Ani</td>\n",
       "      <td>A HYMN OF PRAISE TO RA WHEN HE RISETH IN THE E...</td>\n",
       "    </tr>\n",
       "  </tbody>\n",
       "</table>\n",
       "</div>"
      ],
      "text/plain": [
       "  author                                  work  \\\n",
       "0    Ani  Book of the Dead: The Papyrus of Ani   \n",
       "1    Ani  Book of the Dead: The Papyrus of Ani   \n",
       "2    Ani  Book of the Dead: The Papyrus of Ani   \n",
       "3    Ani  Book of the Dead: The Papyrus of Ani   \n",
       "4    Ani  Book of the Dead: The Papyrus of Ani   \n",
       "\n",
       "                                           paragraph  \n",
       "0  \"Homage to thee, Osiris, Lord of eternity, Kin...  \n",
       "1  \"Thou art the Great Chief, the first among thy...  \n",
       "2  \"Thou rollest up into the horizon, thou hast s...  \n",
       "3  His sister [Isis] hath protected him, and hath...  \n",
       "4  A HYMN OF PRAISE TO RA WHEN HE RISETH IN THE E...  "
      ]
     },
     "execution_count": 297,
     "metadata": {},
     "output_type": "execute_result"
    }
   ],
   "source": [
    "book_df = pd.read_csv('./data/book_df.csv')\n",
    "book_df.head()"
   ]
  },
  {
   "cell_type": "code",
   "execution_count": 298,
   "metadata": {},
   "outputs": [
    {
     "data": {
      "text/plain": [
       "(28805, 3)"
      ]
     },
     "execution_count": 298,
     "metadata": {},
     "output_type": "execute_result"
    }
   ],
   "source": [
    "book_df.shape"
   ]
  },
  {
   "cell_type": "code",
   "execution_count": 299,
   "metadata": {},
   "outputs": [
    {
     "data": {
      "text/plain": [
       "Moses                              3274\n",
       "Muhammad                           2854\n",
       "Nietzsche, Friedrich               2421\n",
       "Mill, John Stuart                  2046\n",
       "Plato                              1911\n",
       "Matthew, Mark, Luke, John          1767\n",
       "Smith, Adam                        1389\n",
       "Hobbes, Thomas                     1257\n",
       "Kant, Immanuel                     1143\n",
       "Spinoza, Baruch                    1138\n",
       "Locke, John                         932\n",
       "Rousseau, Jean-Jacques              833\n",
       "Paine, Thomas                       819\n",
       "Buddha, Siddhartha Guatama          769\n",
       "Rand, Ayn                           679\n",
       "Russell, Bertrand                   581\n",
       "Confucius                           579\n",
       "Sun Tzu                             558\n",
       "Keynes, John Maynard                545\n",
       "Gibran, Khalil                      461\n",
       "James, William                      397\n",
       "Hume, David                         355\n",
       "Ani                                 343\n",
       "Descartes, Rene                     329\n",
       "Machiavelli, Nicolo                 260\n",
       "Hayek, Friedrich                    215\n",
       "Aristotle                           204\n",
       "Lao Tzu                             193\n",
       "Marx, Karl and Friedrich Engels     175\n",
       "Thoreau, Henry David                138\n",
       "Khyyam, Omar                        100\n",
       "Vyasa, Veda                          75\n",
       "Dewey, John                          65\n",
       "Name: author, dtype: int64"
      ]
     },
     "execution_count": 299,
     "metadata": {},
     "output_type": "execute_result"
    }
   ],
   "source": [
    "book_df.author.value_counts()"
   ]
  },
  {
   "cell_type": "code",
   "execution_count": 300,
   "metadata": {},
   "outputs": [
    {
     "data": {
      "text/html": [
       "<div>\n",
       "<table border=\"1\" class=\"dataframe\">\n",
       "  <thead>\n",
       "    <tr style=\"text-align: right;\">\n",
       "      <th></th>\n",
       "      <th>0</th>\n",
       "      <th>1</th>\n",
       "      <th>2</th>\n",
       "      <th>3</th>\n",
       "      <th>4</th>\n",
       "      <th>5</th>\n",
       "      <th>6</th>\n",
       "      <th>7</th>\n",
       "    </tr>\n",
       "  </thead>\n",
       "  <tbody>\n",
       "    <tr>\n",
       "      <th>0</th>\n",
       "      <td>0.186861</td>\n",
       "      <td>0.041349</td>\n",
       "      <td>0.023008</td>\n",
       "      <td>0.055623</td>\n",
       "      <td>0.196905</td>\n",
       "      <td>0.464256</td>\n",
       "      <td>0.000000</td>\n",
       "      <td>0.028641</td>\n",
       "    </tr>\n",
       "    <tr>\n",
       "      <th>1</th>\n",
       "      <td>0.076598</td>\n",
       "      <td>0.131217</td>\n",
       "      <td>0.043864</td>\n",
       "      <td>0.061473</td>\n",
       "      <td>0.379999</td>\n",
       "      <td>0.292917</td>\n",
       "      <td>0.000000</td>\n",
       "      <td>0.000000</td>\n",
       "    </tr>\n",
       "    <tr>\n",
       "      <th>2</th>\n",
       "      <td>0.163516</td>\n",
       "      <td>0.054710</td>\n",
       "      <td>0.057267</td>\n",
       "      <td>0.048800</td>\n",
       "      <td>0.278653</td>\n",
       "      <td>0.367343</td>\n",
       "      <td>0.016500</td>\n",
       "      <td>0.013212</td>\n",
       "    </tr>\n",
       "    <tr>\n",
       "      <th>3</th>\n",
       "      <td>0.060407</td>\n",
       "      <td>0.111848</td>\n",
       "      <td>0.052424</td>\n",
       "      <td>0.045420</td>\n",
       "      <td>0.497444</td>\n",
       "      <td>0.195880</td>\n",
       "      <td>0.014140</td>\n",
       "      <td>0.022437</td>\n",
       "    </tr>\n",
       "    <tr>\n",
       "      <th>4</th>\n",
       "      <td>0.080818</td>\n",
       "      <td>0.113798</td>\n",
       "      <td>0.029826</td>\n",
       "      <td>0.032807</td>\n",
       "      <td>0.209167</td>\n",
       "      <td>0.469323</td>\n",
       "      <td>0.032304</td>\n",
       "      <td>0.031957</td>\n",
       "    </tr>\n",
       "  </tbody>\n",
       "</table>\n",
       "</div>"
      ],
      "text/plain": [
       "          0         1         2         3         4         5         6  \\\n",
       "0  0.186861  0.041349  0.023008  0.055623  0.196905  0.464256  0.000000   \n",
       "1  0.076598  0.131217  0.043864  0.061473  0.379999  0.292917  0.000000   \n",
       "2  0.163516  0.054710  0.057267  0.048800  0.278653  0.367343  0.016500   \n",
       "3  0.060407  0.111848  0.052424  0.045420  0.497444  0.195880  0.014140   \n",
       "4  0.080818  0.113798  0.029826  0.032807  0.209167  0.469323  0.032304   \n",
       "\n",
       "          7  \n",
       "0  0.028641  \n",
       "1  0.000000  \n",
       "2  0.013212  \n",
       "3  0.022437  \n",
       "4  0.031957  "
      ]
     },
     "execution_count": 300,
     "metadata": {},
     "output_type": "execute_result"
    }
   ],
   "source": [
    "c_values = pd.read_csv('./models/corpus_topic_df.csv')\n",
    "c_values.head()"
   ]
  },
  {
   "cell_type": "code",
   "execution_count": 301,
   "metadata": {},
   "outputs": [
    {
     "data": {
      "text/plain": [
       "(28805, 8)"
      ]
     },
     "execution_count": 301,
     "metadata": {},
     "output_type": "execute_result"
    }
   ],
   "source": [
    "c_values.shape"
   ]
  },
  {
   "cell_type": "markdown",
   "metadata": {},
   "source": [
    "**Load LDA Model**"
   ]
  },
  {
   "cell_type": "code",
   "execution_count": 302,
   "metadata": {},
   "outputs": [],
   "source": [
    "g_dict = Dictionary.load('./models/g_dict')"
   ]
  },
  {
   "cell_type": "code",
   "execution_count": 303,
   "metadata": {},
   "outputs": [],
   "source": [
    "lda_model = gensim.models.LdaModel.load('./models/lda_model')"
   ]
  },
  {
   "cell_type": "code",
   "execution_count": 304,
   "metadata": {},
   "outputs": [],
   "source": [
    "topics = lda_model.get_topics()"
   ]
  },
  {
   "cell_type": "code",
   "execution_count": 305,
   "metadata": {},
   "outputs": [
    {
     "data": {
      "text/plain": [
       "14452"
      ]
     },
     "execution_count": 305,
     "metadata": {},
     "output_type": "execute_result"
    }
   ],
   "source": [
    "len(topics[3])"
   ]
  },
  {
   "cell_type": "code",
   "execution_count": 306,
   "metadata": {},
   "outputs": [
    {
     "data": {
      "text/plain": [
       "[(0,\n",
       "  '0.053*\"great\" + 0.037*\"good\" + 0.027*\"govern\" + 0.023*\"tax\" + 0.019*\"right\" + 0.017*\"pay\" + 0.013*\"valu\" + 0.013*\"peopl\" + 0.013*\"high\" + 0.012*\"revenu\"'),\n",
       " (1,\n",
       "  '0.034*\"price\" + 0.029*\"labour\" + 0.027*\"land\" + 0.026*\"year\" + 0.025*\"money\" + 0.022*\"capit\" + 0.017*\"work\" + 0.016*\"silver\" + 0.016*\"time\" + 0.015*\"gold\"'),\n",
       " (2,\n",
       "  '0.028*\"natur\" + 0.018*\"state\" + 0.017*\"differ\" + 0.013*\"in\" + 0.012*\"mean\" + 0.010*\"certain\" + 0.009*\"mind\" + 0.009*\"note\" + 0.009*\"knowledg\" + 0.009*\"particular\"'),\n",
       " (3,\n",
       "  '0.036*\"bodi\" + 0.033*\"idea\" + 0.030*\"exist\" + 0.026*\"produc\" + 0.022*\"object\" + 0.019*\"emot\" + 0.019*\"conceiv\" + 0.018*\"gener\" + 0.018*\"kind\" + 0.015*\"thing\"'),\n",
       " (4,\n",
       "  '0.052*\"man\" + 0.025*\"thing\" + 0.017*\"know\" + 0.015*\"far\" + 0.014*\"mind\" + 0.013*\"if\" + 0.012*\"great\" + 0.012*\"law\" + 0.012*\"life\" + 0.011*\"way\"'),\n",
       " (5,\n",
       "  '0.049*\"god\" + 0.045*\"say\" + 0.027*\"thi\" + 0.018*\"come\" + 0.018*\"and\" + 0.017*\"bring\" + 0.017*\"armi\" + 0.013*\"read\" + 0.013*\"market\" + 0.013*\"rent\"'),\n",
       " (6,\n",
       "  '0.056*\"countri\" + 0.029*\"trade\" + 0.018*\"expens\" + 0.018*\"interest\" + 0.018*\"societi\" + 0.017*\"manufactur\" + 0.016*\"new\" + 0.016*\"polit\" + 0.015*\"public\" + 0.015*\"forc\"'),\n",
       " (7,\n",
       "  '0.060*\"present\" + 0.052*\"case\" + 0.038*\"proport\" + 0.036*\"number\" + 0.032*\"small\" + 0.023*\"condit\" + 0.019*\"that\" + 0.017*\"encourag\" + 0.017*\"old\" + 0.015*\"princip\"')]"
      ]
     },
     "execution_count": 306,
     "metadata": {},
     "output_type": "execute_result"
    }
   ],
   "source": [
    "lda_model.show_topics()"
   ]
  },
  {
   "cell_type": "markdown",
   "metadata": {},
   "source": [
    "# Set Topic Values with Labels for X and y"
   ]
  },
  {
   "cell_type": "code",
   "execution_count": 307,
   "metadata": {},
   "outputs": [
    {
     "data": {
      "text/html": [
       "<div>\n",
       "<table border=\"1\" class=\"dataframe\">\n",
       "  <thead>\n",
       "    <tr style=\"text-align: right;\">\n",
       "      <th></th>\n",
       "      <th>0</th>\n",
       "      <th>1</th>\n",
       "      <th>2</th>\n",
       "      <th>3</th>\n",
       "      <th>4</th>\n",
       "      <th>5</th>\n",
       "      <th>6</th>\n",
       "      <th>7</th>\n",
       "    </tr>\n",
       "  </thead>\n",
       "  <tbody>\n",
       "    <tr>\n",
       "      <th>0</th>\n",
       "      <td>0.186861</td>\n",
       "      <td>0.041349</td>\n",
       "      <td>0.023008</td>\n",
       "      <td>0.055623</td>\n",
       "      <td>0.196905</td>\n",
       "      <td>0.464256</td>\n",
       "      <td>0.000000</td>\n",
       "      <td>0.028641</td>\n",
       "    </tr>\n",
       "    <tr>\n",
       "      <th>1</th>\n",
       "      <td>0.076598</td>\n",
       "      <td>0.131217</td>\n",
       "      <td>0.043864</td>\n",
       "      <td>0.061473</td>\n",
       "      <td>0.379999</td>\n",
       "      <td>0.292917</td>\n",
       "      <td>0.000000</td>\n",
       "      <td>0.000000</td>\n",
       "    </tr>\n",
       "    <tr>\n",
       "      <th>2</th>\n",
       "      <td>0.163516</td>\n",
       "      <td>0.054710</td>\n",
       "      <td>0.057267</td>\n",
       "      <td>0.048800</td>\n",
       "      <td>0.278653</td>\n",
       "      <td>0.367343</td>\n",
       "      <td>0.016500</td>\n",
       "      <td>0.013212</td>\n",
       "    </tr>\n",
       "    <tr>\n",
       "      <th>3</th>\n",
       "      <td>0.060407</td>\n",
       "      <td>0.111848</td>\n",
       "      <td>0.052424</td>\n",
       "      <td>0.045420</td>\n",
       "      <td>0.497444</td>\n",
       "      <td>0.195880</td>\n",
       "      <td>0.014140</td>\n",
       "      <td>0.022437</td>\n",
       "    </tr>\n",
       "    <tr>\n",
       "      <th>4</th>\n",
       "      <td>0.080818</td>\n",
       "      <td>0.113798</td>\n",
       "      <td>0.029826</td>\n",
       "      <td>0.032807</td>\n",
       "      <td>0.209167</td>\n",
       "      <td>0.469323</td>\n",
       "      <td>0.032304</td>\n",
       "      <td>0.031957</td>\n",
       "    </tr>\n",
       "  </tbody>\n",
       "</table>\n",
       "</div>"
      ],
      "text/plain": [
       "          0         1         2         3         4         5         6  \\\n",
       "0  0.186861  0.041349  0.023008  0.055623  0.196905  0.464256  0.000000   \n",
       "1  0.076598  0.131217  0.043864  0.061473  0.379999  0.292917  0.000000   \n",
       "2  0.163516  0.054710  0.057267  0.048800  0.278653  0.367343  0.016500   \n",
       "3  0.060407  0.111848  0.052424  0.045420  0.497444  0.195880  0.014140   \n",
       "4  0.080818  0.113798  0.029826  0.032807  0.209167  0.469323  0.032304   \n",
       "\n",
       "          7  \n",
       "0  0.028641  \n",
       "1  0.000000  \n",
       "2  0.013212  \n",
       "3  0.022437  \n",
       "4  0.031957  "
      ]
     },
     "execution_count": 307,
     "metadata": {},
     "output_type": "execute_result"
    }
   ],
   "source": [
    "c_values.head()"
   ]
  },
  {
   "cell_type": "code",
   "execution_count": 308,
   "metadata": {},
   "outputs": [
    {
     "data": {
      "text/plain": [
       "array([[ 0.18686105,  0.04134886,  0.02300789, ...,  0.46425605,\n",
       "         0.        ,  0.02864126],\n",
       "       [ 0.07659816,  0.13121691,  0.04386422, ...,  0.29291689,\n",
       "         0.        ,  0.        ],\n",
       "       [ 0.16351564,  0.05471003,  0.05726657, ...,  0.36734259,\n",
       "         0.01649992,  0.01321248],\n",
       "       ..., \n",
       "       [ 0.13513303,  0.02916335,  0.16097409, ...,  0.15160778,\n",
       "         0.03047479,  0.05807627],\n",
       "       [ 0.20160763,  0.05626975,  0.21267731, ...,  0.13800284,\n",
       "         0.1097751 ,  0.03477832],\n",
       "       [ 0.08393387,  0.03406325,  0.23115249, ...,  0.04116109,\n",
       "         0.15295817,  0.03084495]])"
      ]
     },
     "execution_count": 308,
     "metadata": {},
     "output_type": "execute_result"
    }
   ],
   "source": [
    "X = c_values.values\n",
    "X"
   ]
  },
  {
   "cell_type": "code",
   "execution_count": 309,
   "metadata": {},
   "outputs": [
    {
     "data": {
      "text/plain": [
       "(28805, 8)"
      ]
     },
     "execution_count": 309,
     "metadata": {},
     "output_type": "execute_result"
    }
   ],
   "source": [
    "X.shape"
   ]
  },
  {
   "cell_type": "code",
   "execution_count": 310,
   "metadata": {},
   "outputs": [],
   "source": [
    "y_cat = pd.get_dummies(book_df['author'].str.lower()).values"
   ]
  },
  {
   "cell_type": "code",
   "execution_count": 311,
   "metadata": {},
   "outputs": [
    {
     "data": {
      "text/plain": [
       "Index(['Ani', 'Aristotle', 'Buddha, Siddhartha Guatama', 'Confucius',\n",
       "       'Descartes, Rene', 'Dewey, John', 'Gibran, Khalil', 'Hayek, Friedrich',\n",
       "       'Hobbes, Thomas', 'Hume, David', 'James, William', 'Kant, Immanuel',\n",
       "       'Keynes, John Maynard', 'Khyyam, Omar', 'Lao Tzu', 'Locke, John',\n",
       "       'Machiavelli, Nicolo', 'Marx, Karl and Friedrich Engels',\n",
       "       'Matthew, Mark, Luke, John', 'Mill, John Stuart', 'Moses', 'Muhammad',\n",
       "       'Nietzsche, Friedrich', 'Paine, Thomas', 'Plato', 'Rand, Ayn',\n",
       "       'Rousseau, Jean-Jacques', 'Russell, Bertrand', 'Smith, Adam',\n",
       "       'Spinoza, Baruch', 'Sun Tzu', 'Thoreau, Henry David', 'Vyasa, Veda'],\n",
       "      dtype='object')"
      ]
     },
     "execution_count": 311,
     "metadata": {},
     "output_type": "execute_result"
    }
   ],
   "source": [
    "author_columns = pd.get_dummies(book_df['author']).columns\n",
    "author_columns"
   ]
  },
  {
   "cell_type": "code",
   "execution_count": 312,
   "metadata": {},
   "outputs": [
    {
     "data": {
      "text/plain": [
       "array([[1, 0, 0, ..., 0, 0, 0],\n",
       "       [1, 0, 0, ..., 0, 0, 0],\n",
       "       [1, 0, 0, ..., 0, 0, 0],\n",
       "       ..., \n",
       "       [0, 0, 0, ..., 0, 1, 0],\n",
       "       [0, 0, 0, ..., 0, 1, 0],\n",
       "       [0, 0, 0, ..., 0, 1, 0]], dtype=uint8)"
      ]
     },
     "execution_count": 312,
     "metadata": {},
     "output_type": "execute_result"
    }
   ],
   "source": [
    "y_cat"
   ]
  },
  {
   "cell_type": "code",
   "execution_count": 313,
   "metadata": {},
   "outputs": [
    {
     "data": {
      "text/plain": [
       "(28805, 33)"
      ]
     },
     "execution_count": 313,
     "metadata": {},
     "output_type": "execute_result"
    }
   ],
   "source": [
    "y_cat.shape"
   ]
  },
  {
   "cell_type": "markdown",
   "metadata": {},
   "source": [
    "**Train Test Split**"
   ]
  },
  {
   "cell_type": "code",
   "execution_count": 251,
   "metadata": {},
   "outputs": [],
   "source": [
    "X_train, X_test, y_train, y_test = train_test_split(X, y_cat, test_size=.2, random_state=207, stratify=y_cat)"
   ]
  },
  {
   "cell_type": "code",
   "execution_count": 252,
   "metadata": {},
   "outputs": [
    {
     "data": {
      "text/plain": [
       "(7379, 10)"
      ]
     },
     "execution_count": 252,
     "metadata": {},
     "output_type": "execute_result"
    }
   ],
   "source": [
    "X_train.shape"
   ]
  },
  {
   "cell_type": "code",
   "execution_count": 253,
   "metadata": {},
   "outputs": [
    {
     "data": {
      "text/plain": [
       "(1845, 10)"
      ]
     },
     "execution_count": 253,
     "metadata": {},
     "output_type": "execute_result"
    }
   ],
   "source": [
    "X_test.shape"
   ]
  },
  {
   "cell_type": "code",
   "execution_count": 254,
   "metadata": {},
   "outputs": [
    {
     "data": {
      "text/plain": [
       "(7379, 19)"
      ]
     },
     "execution_count": 254,
     "metadata": {},
     "output_type": "execute_result"
    }
   ],
   "source": [
    "y_train.shape"
   ]
  },
  {
   "cell_type": "code",
   "execution_count": 255,
   "metadata": {},
   "outputs": [
    {
     "data": {
      "text/plain": [
       "(1845, 19)"
      ]
     },
     "execution_count": 255,
     "metadata": {},
     "output_type": "execute_result"
    }
   ],
   "source": [
    "y_test.shape"
   ]
  },
  {
   "cell_type": "code",
   "execution_count": 319,
   "metadata": {},
   "outputs": [],
   "source": [
    "ss = StandardScaler()\n",
    "\n",
    "# Full\n",
    "X_sc = ss.fit_transform(X)\n",
    "\n",
    "# Train Test Split\n",
    "X_train_sc = ss.fit_transform(X_train)\n",
    "X_test_sc = ss.transform(X_test)"
   ]
  },
  {
   "cell_type": "markdown",
   "metadata": {},
   "source": [
    "# Keras Feed-Forward Recurrent Neural Net (FFRNN)"
   ]
  },
  {
   "cell_type": "markdown",
   "metadata": {},
   "source": [
    "**Shared Parameters**"
   ]
  },
  {
   "cell_type": "code",
   "execution_count": 326,
   "metadata": {},
   "outputs": [],
   "source": [
    "dropout_pct = .25\n",
    "dense_1_nodes = 128\n",
    "dense_2_nodes = 64\n",
    "epochs = 5"
   ]
  },
  {
   "cell_type": "markdown",
   "metadata": {},
   "source": [
    "**Full Corpus**"
   ]
  },
  {
   "cell_type": "code",
   "execution_count": 327,
   "metadata": {},
   "outputs": [],
   "source": [
    "model_full = Sequential()\n",
    "model_full.add(Dense(X_sc.shape[0], input_dim=X_sc.shape[1], activation='relu'))\n",
    "model_full.add(Dropout(dropout_pct))\n",
    "model_full.add(Dense(dense_1_nodes, activation='relu'))\n",
    "model_full.add(Dropout(dropout_pct))\n",
    "model_full.add(Dense(dense_2_nodes, activation='relu'))\n",
    "model_full.add(Dense(y_cat.shape[1], activation=None))\n",
    "model_full.add(Activation(tf.nn.softmax))"
   ]
  },
  {
   "cell_type": "code",
   "execution_count": 328,
   "metadata": {},
   "outputs": [],
   "source": [
    "model_full.compile(loss='categorical_crossentropy', optimizer='adam', metrics=['accuracy'])"
   ]
  },
  {
   "cell_type": "code",
   "execution_count": 329,
   "metadata": {},
   "outputs": [],
   "source": [
    "early_stop_full = EarlyStopping(monitor='loss', min_delta=0, patience=20, verbose=1, mode='auto')"
   ]
  },
  {
   "cell_type": "code",
   "execution_count": 330,
   "metadata": {
    "scrolled": false
   },
   "outputs": [
    {
     "name": "stdout",
     "output_type": "stream",
     "text": [
      "Epoch 1/5\n",
      "28805/28805 [==============================] - 46s 2ms/step - loss: 2.2534 - acc: 0.3261\n",
      "Epoch 2/5\n",
      "28805/28805 [==============================] - 45s 2ms/step - loss: 2.0841 - acc: 0.3581\n",
      "Epoch 3/5\n",
      "28805/28805 [==============================] - 45s 2ms/step - loss: 2.0267 - acc: 0.3725\n",
      "Epoch 4/5\n",
      "28805/28805 [==============================] - 44s 2ms/step - loss: 2.0023 - acc: 0.3741\n",
      "Epoch 5/5\n",
      "28805/28805 [==============================] - 44s 2ms/step - loss: 1.9758 - acc: 0.3852\n"
     ]
    }
   ],
   "source": [
    "history_full = model_full.fit(X_sc, y_cat, \n",
    "                              epochs=epochs, \n",
    "                              batch_size=None, \n",
    "                              callbacks=[early_stop_full])"
   ]
  },
  {
   "cell_type": "code",
   "execution_count": 332,
   "metadata": {},
   "outputs": [
    {
     "data": {
      "text/plain": [
       "<matplotlib.legend.Legend at 0x1a34813a20>"
      ]
     },
     "execution_count": 332,
     "metadata": {},
     "output_type": "execute_result"
    },
    {
     "data": {
      "image/png": "[encoded data removed]",
      "text/plain": [
       "<Figure size 432x288 with 1 Axes>"
      ]
     },
     "metadata": {
      "needs_background": "light"
     },
     "output_type": "display_data"
    }
   ],
   "source": [
    "loss_vals = history_full.history['loss']\n",
    "acc_vals = history_full.history['acc']\n",
    "plt.plot(loss_vals, label='Loss')\n",
    "plt.plot(acc_vals, label='Accuracy')\n",
    "plt.legend()"
   ]
  },
  {
   "cell_type": "markdown",
   "metadata": {},
   "source": [
    "**With Train Test Split**"
   ]
  },
  {
   "cell_type": "code",
   "execution_count": 263,
   "metadata": {},
   "outputs": [],
   "source": [
    "model = Sequential()\n",
    "model.add(Dense(X_train_sc.shape[0], input_dim=X_train_sc.shape[1], activation='relu'))\n",
    "model.add(Dropout(dropout_pct))\n",
    "model.add(Dense(dense_1_nodes, activation='relu'))\n",
    "model.add(Dropout(dropout_pct))\n",
    "model.add(Dense(dense_2_nodes, activation='relu'))\n",
    "model.add(Dense(y_test.shape[1], activation=None))\n",
    "model.add(Activation(tf.nn.softmax))"
   ]
  },
  {
   "cell_type": "code",
   "execution_count": 264,
   "metadata": {},
   "outputs": [],
   "source": [
    "model.compile(loss='categorical_crossentropy', optimizer='adam', metrics=['accuracy'])"
   ]
  },
  {
   "cell_type": "code",
   "execution_count": 265,
   "metadata": {},
   "outputs": [],
   "source": [
    "early_stop = EarlyStopping(monitor='val_loss', min_delta=0, patience=10, verbose=1, mode='auto')"
   ]
  },
  {
   "cell_type": "code",
   "execution_count": 266,
   "metadata": {
    "scrolled": true
   },
   "outputs": [
    {
     "name": "stdout",
     "output_type": "stream",
     "text": [
      "Train on 7379 samples, validate on 1845 samples\n",
      "Epoch 1/100\n",
      "7379/7379 [==============================] - 2s 321us/step - loss: 2.0234 - acc: 0.3757 - val_loss: 1.7449 - val_acc: 0.4602\n",
      "Epoch 2/100\n",
      "7379/7379 [==============================] - 2s 254us/step - loss: 1.7586 - acc: 0.4373 - val_loss: 1.6407 - val_acc: 0.4634\n",
      "Epoch 3/100\n",
      "7379/7379 [==============================] - 2s 255us/step - loss: 1.7067 - acc: 0.4480 - val_loss: 1.6080 - val_acc: 0.4802\n",
      "Epoch 4/100\n",
      "7379/7379 [==============================] - 2s 255us/step - loss: 1.6627 - acc: 0.4541 - val_loss: 1.6171 - val_acc: 0.4786\n",
      "Epoch 5/100\n",
      "7379/7379 [==============================] - 2s 258us/step - loss: 1.6356 - acc: 0.4662 - val_loss: 1.5569 - val_acc: 0.4889\n",
      "Epoch 6/100\n",
      "7379/7379 [==============================] - 2s 264us/step - loss: 1.6124 - acc: 0.4781 - val_loss: 1.5425 - val_acc: 0.4894\n",
      "Epoch 7/100\n",
      "7379/7379 [==============================] - 2s 261us/step - loss: 1.5931 - acc: 0.4787 - val_loss: 1.5437 - val_acc: 0.4970\n",
      "Epoch 8/100\n",
      "7379/7379 [==============================] - 2s 254us/step - loss: 1.5685 - acc: 0.4879 - val_loss: 1.5442 - val_acc: 0.5030\n",
      "Epoch 9/100\n",
      "7379/7379 [==============================] - 2s 255us/step - loss: 1.5611 - acc: 0.4922 - val_loss: 1.5475 - val_acc: 0.4976\n",
      "Epoch 10/100\n",
      "7379/7379 [==============================] - 2s 253us/step - loss: 1.5546 - acc: 0.4956 - val_loss: 1.5552 - val_acc: 0.4916\n",
      "Epoch 11/100\n",
      "7379/7379 [==============================] - 2s 256us/step - loss: 1.5399 - acc: 0.4944 - val_loss: 1.5394 - val_acc: 0.5089\n",
      "Epoch 12/100\n",
      "7379/7379 [==============================] - 2s 254us/step - loss: 1.5299 - acc: 0.5028 - val_loss: 1.5281 - val_acc: 0.5024\n",
      "Epoch 13/100\n",
      "7379/7379 [==============================] - 2s 255us/step - loss: 1.5288 - acc: 0.4984 - val_loss: 1.5271 - val_acc: 0.5057\n",
      "Epoch 14/100\n",
      "7379/7379 [==============================] - 2s 255us/step - loss: 1.5169 - acc: 0.4961 - val_loss: 1.5388 - val_acc: 0.5138\n",
      "Epoch 15/100\n",
      "7379/7379 [==============================] - 2s 254us/step - loss: 1.4934 - acc: 0.5077 - val_loss: 1.5334 - val_acc: 0.5111\n",
      "Epoch 16/100\n",
      "7379/7379 [==============================] - 2s 255us/step - loss: 1.4910 - acc: 0.5139 - val_loss: 1.5247 - val_acc: 0.5089\n",
      "Epoch 17/100\n",
      "7379/7379 [==============================] - 2s 256us/step - loss: 1.4892 - acc: 0.5064 - val_loss: 1.5193 - val_acc: 0.5008\n",
      "Epoch 18/100\n",
      "7379/7379 [==============================] - 2s 254us/step - loss: 1.4749 - acc: 0.5133 - val_loss: 1.5176 - val_acc: 0.5019\n",
      "Epoch 19/100\n",
      "7379/7379 [==============================] - 2s 256us/step - loss: 1.4701 - acc: 0.5109 - val_loss: 1.5312 - val_acc: 0.5014\n",
      "Epoch 20/100\n",
      "7379/7379 [==============================] - 2s 255us/step - loss: 1.4523 - acc: 0.5184 - val_loss: 1.5283 - val_acc: 0.5051\n",
      "Epoch 21/100\n",
      "7379/7379 [==============================] - 2s 255us/step - loss: 1.4481 - acc: 0.5222 - val_loss: 1.5229 - val_acc: 0.5095\n",
      "Epoch 22/100\n",
      "7379/7379 [==============================] - 2s 257us/step - loss: 1.4463 - acc: 0.5165 - val_loss: 1.5441 - val_acc: 0.4986\n",
      "Epoch 23/100\n",
      "7379/7379 [==============================] - 2s 254us/step - loss: 1.4373 - acc: 0.5199 - val_loss: 1.5382 - val_acc: 0.4959\n",
      "Epoch 24/100\n",
      "7379/7379 [==============================] - 2s 255us/step - loss: 1.4326 - acc: 0.5184 - val_loss: 1.5466 - val_acc: 0.5035\n",
      "Epoch 25/100\n",
      "7379/7379 [==============================] - 2s 256us/step - loss: 1.4221 - acc: 0.5227 - val_loss: 1.5453 - val_acc: 0.4954\n",
      "Epoch 26/100\n",
      "7379/7379 [==============================] - 2s 255us/step - loss: 1.4092 - acc: 0.5270 - val_loss: 1.5322 - val_acc: 0.5127\n",
      "Epoch 27/100\n",
      "7379/7379 [==============================] - 2s 257us/step - loss: 1.4102 - acc: 0.5254 - val_loss: 1.5292 - val_acc: 0.5111\n",
      "Epoch 28/100\n",
      "7379/7379 [==============================] - 2s 255us/step - loss: 1.4026 - acc: 0.5235 - val_loss: 1.5444 - val_acc: 0.5046\n",
      "Epoch 00028: early stopping\n"
     ]
    }
   ],
   "source": [
    "history = model.fit(X_train_sc, y_train, validation_data=(X_test_sc, y_test), epochs=epochs, batch_size=None, callbacks=[early_stop])"
   ]
  },
  {
   "cell_type": "code",
   "execution_count": 267,
   "metadata": {},
   "outputs": [
    {
     "data": {
      "text/plain": [
       "<matplotlib.legend.Legend at 0x1a29824908>"
      ]
     },
     "execution_count": 267,
     "metadata": {},
     "output_type": "execute_result"
    },
    {
     "data": {
      "image/png": "[encoded data removed]",
      "text/plain": [
       "<Figure size 432x288 with 1 Axes>"
      ]
     },
     "metadata": {
      "needs_background": "light"
     },
     "output_type": "display_data"
    }
   ],
   "source": [
    "train_loss = history.history['loss']\n",
    "test_loss = history.history['val_loss']\n",
    "plt.plot(train_loss, label='Training loss')\n",
    "plt.plot(test_loss, label='Testing loss')\n",
    "plt.legend()"
   ]
  },
  {
   "cell_type": "code",
   "execution_count": 333,
   "metadata": {},
   "outputs": [],
   "source": [
    "pred_full = model_full.predict_proba(X_sc)"
   ]
  },
  {
   "cell_type": "code",
   "execution_count": 268,
   "metadata": {},
   "outputs": [],
   "source": [
    "pred_tt = model.predict_proba(X_sc)"
   ]
  },
  {
   "cell_type": "code",
   "execution_count": 287,
   "metadata": {},
   "outputs": [
    {
     "data": {
      "text/plain": [
       "array([[  7.49956727e-01,   3.26737459e-09,   6.77966047e-03, ...,\n",
       "          6.96241099e-04,   1.87124684e-01,   4.13147728e-12],\n",
       "       [  4.76748854e-01,   4.97733676e-09,   6.69576898e-02, ...,\n",
       "          2.29265042e-05,   3.58861327e-01,   1.58293881e-11],\n",
       "       [  2.76144654e-01,   3.92453967e-06,   1.23365480e-03, ...,\n",
       "          4.76089353e-03,   2.56318241e-01,   1.40280434e-07],\n",
       "       ..., \n",
       "       [  2.61841980e-12,   1.81468113e-05,   5.07418774e-10, ...,\n",
       "          3.10438431e-08,   3.66721742e-09,   9.25547004e-01],\n",
       "       [  1.01107025e-06,   6.05173921e-03,   1.56163473e-08, ...,\n",
       "          3.31622445e-08,   1.86844238e-06,   8.55630398e-01],\n",
       "       [  5.54132248e-06,   3.13914730e-04,   5.87569912e-06, ...,\n",
       "          8.60754426e-06,   4.99215384e-05,   8.13971639e-01]], dtype=float32)"
      ]
     },
     "execution_count": 287,
     "metadata": {},
     "output_type": "execute_result"
    }
   ],
   "source": [
    "pred_full"
   ]
  },
  {
   "cell_type": "code",
   "execution_count": 270,
   "metadata": {},
   "outputs": [
    {
     "data": {
      "text/plain": [
       "array([[  5.07287025e-01,   3.88917385e-07,   3.67058441e-02, ...,\n",
       "          4.03406518e-03,   2.70533711e-01,   5.69332860e-06],\n",
       "       [  1.36374414e-01,   1.77412556e-08,   5.15071601e-02, ...,\n",
       "          2.63525546e-03,   7.47745633e-01,   8.43287609e-08],\n",
       "       [  2.04059899e-01,   7.03979640e-06,   1.13202892e-02, ...,\n",
       "          9.18970723e-03,   2.82276452e-01,   3.14628793e-04],\n",
       "       ..., \n",
       "       [  9.02390049e-04,   4.54310095e-04,   9.76243988e-04, ...,\n",
       "          2.11941898e-02,   2.23878096e-03,   4.18472625e-02],\n",
       "       [  1.05221348e-03,   9.29400045e-03,   3.05527123e-04, ...,\n",
       "          3.35936755e-04,   8.35909601e-03,   1.39422849e-01],\n",
       "       [  4.36278118e-04,   1.81460902e-02,   1.87679718e-04, ...,\n",
       "          2.09522652e-04,   2.70190500e-02,   2.60629002e-02]], dtype=float32)"
      ]
     },
     "execution_count": 270,
     "metadata": {},
     "output_type": "execute_result"
    }
   ],
   "source": [
    "pred_tt"
   ]
  },
  {
   "cell_type": "markdown",
   "metadata": {},
   "source": [
    "# Function `display_results`"
   ]
  },
  {
   "cell_type": "code",
   "execution_count": 271,
   "metadata": {},
   "outputs": [],
   "source": [
    "def display_results(preds, doc_number, n_sims=y_pred.shape[1], thresh=0.01):\n",
    "    print('Doc #:', doc_number)\n",
    "    print('Author:', book_df.loc[doc_number]['author'], '\\n')\n",
    "    print('Text:', book_df.loc[doc_number]['paragraph'])\n",
    "    print('\\nPhilosophical Factors:\\n')\n",
    "    \n",
    "    result_list = [(author_columns[i],preds[doc_number][i]) for i in range(y_cat.shape[1])]\n",
    "    result_list.sort(key=lambda tup: tup[1], reverse=True)\n",
    "    \n",
    "    for j in range(n_sims):\n",
    "        n_sp = 35 - len(result_list[j][0])\n",
    "        if result_list[j][1] >= thresh:\n",
    "            print('\\t{}{}{}'.format(result_list[j][0],str(' '*n_sp),str(round(result_list[j][1], 3))))\n"
   ]
  },
  {
   "cell_type": "code",
   "execution_count": 334,
   "metadata": {},
   "outputs": [
    {
     "name": "stdout",
     "output_type": "stream",
     "text": [
      "Doc #: 7300\n",
      "Author: Locke, John \n",
      "\n",
      "Text: 4. Distinct and confused, what. As a clear idea is that whereof the mind has such a full and evident perception, as it does receive from an outward object operating duly on a well-disposed organ, so a distinct idea is that wherein the mind perceives a difference from all other; and a confused idea is such an one as is not sufficiently distinguishable from another, from which it ought to be different. 5. Objection. If no idea be confused, but such as is not sufficiently distinguishable from another from which it should be different, it will be hard, may any one say, to find anywhere a confused idea. For, let any idea be as it will, it can be no other but such as the mind perceives it to be; and that very perception sufficiently distinguishes it from all other ideas, which cannot be other, i.e. different, without being perceived to be so. No idea, therefore, can be undistinguishable from another from which it ought to be different, unless you would have it different from itself: for from all other it is evidently different.\n",
      "\n",
      "Philosophical Factors:\n",
      "\n",
      "\tKant, Immanuel                     0.447\n",
      "\tMill, John Stuart                  0.189\n",
      "\tLocke, John                        0.146\n",
      "\tSpinoza, Baruch                    0.078\n",
      "\tRussell, Bertrand                  0.078\n",
      "\tDescartes, Rene                    0.036\n",
      "\tJames, William                     0.02\n"
     ]
    }
   ],
   "source": [
    "display_results(pred_full, 7300)"
   ]
  },
  {
   "cell_type": "code",
   "execution_count": 273,
   "metadata": {},
   "outputs": [
    {
     "name": "stdout",
     "output_type": "stream",
     "text": [
      "Doc #: 7300\n",
      "Author: Rousseau, Jean-Jacques \n",
      "\n",
      "Text: In proceeding thus, we shall not be obliged to make man a philosopher before he is a man. His duties toward others are not dictated to him only by the later lessons of wisdom and, so long as he does not resist the internal impulse of compassion, he will never hurt any other man, nor even any sentient being; except on those lawful occasions on which his own preservation is concerned and he is obliged to give himself the preference. By this method also we put an end to the time-honoured disputes concerning the participation of animals in natural law: for it is clear that, being destitute of intelligence and liberty, they cannot recognise that law; as they partake, however, in some measure of our nature, in consequence of the sensibility with which they are endowed, they ought to partake of natural rights so that mankind is subjected to a kind of obligation even toward the brutes. It appears, in fact, that if I am bound to do no injury to my fellow-creatures, this is less because they are rational than because they are sentient beings: and this quality, being common both to men and beasts, ought to entitle the latter at least to the privilege of not being wantonly ill-treated by the former. \n",
      "\n",
      "Philosophical Factors:\n",
      "\n",
      "\tRousseau, Jean-Jacques             0.531\n",
      "\tMill, John Stuart                  0.184\n",
      "\tPlato                              0.11\n",
      "\tHume, David                        0.095\n",
      "\tSpinoza, Baruch                    0.024\n",
      "\tMachiavelli, Nicolo                0.018\n",
      "\tHobbes, Thomas                     0.015\n"
     ]
    }
   ],
   "source": [
    "display_results(pred_tt, 7300)"
   ]
  },
  {
   "cell_type": "markdown",
   "metadata": {},
   "source": [
    "# Test on new input"
   ]
  },
  {
   "cell_type": "code",
   "execution_count": 289,
   "metadata": {},
   "outputs": [],
   "source": [
    "newpar = 'Only strong unified government can save from \"the war of all against all\"'"
   ]
  },
  {
   "cell_type": "code",
   "execution_count": 290,
   "metadata": {},
   "outputs": [],
   "source": [
    "newpar_vec = ['only','strong','unified','government','can','save','from','war','all','against','all']"
   ]
  },
  {
   "cell_type": "code",
   "execution_count": 291,
   "metadata": {},
   "outputs": [
    {
     "data": {
      "text/plain": [
       "[(177, 2),\n",
       " (256, 1),\n",
       " (1031, 1),\n",
       " (1121, 1),\n",
       " (1518, 1),\n",
       " (1826, 1),\n",
       " (2490, 1),\n",
       " (4784, 1)]"
      ]
     },
     "execution_count": 291,
     "metadata": {},
     "output_type": "execute_result"
    }
   ],
   "source": [
    "newpar_corp = g_dict.doc2bow(newpar_vec)\n",
    "newpar_corp"
   ]
  },
  {
   "cell_type": "code",
   "execution_count": 335,
   "metadata": {},
   "outputs": [
    {
     "data": {
      "text/plain": [
       "[(0, 0.16095294),\n",
       " (1, 0.038920309),\n",
       " (2, 0.14494805),\n",
       " (3, 0.074023783),\n",
       " (4, 0.28146976),\n",
       " (5, 0.16298768),\n",
       " (6, 0.10268444),\n",
       " (7, 0.034012996)]"
      ]
     },
     "execution_count": 335,
     "metadata": {},
     "output_type": "execute_result"
    }
   ],
   "source": [
    "lda_model.get_document_topics(newpar_corp)"
   ]
  },
  {
   "cell_type": "code",
   "execution_count": null,
   "metadata": {},
   "outputs": [],
   "source": []
  }
 ],
 "metadata": {
  "kernelspec": {
   "display_name": "python3_ds_nn [conda env:root]",
   "language": "python",
   "name": "conda-root-python3_ds_nn"
  },
  "language_info": {
   "codemirror_mode": {
    "name": "ipython",
    "version": 3
   },
   "file_extension": ".py",
   "mimetype": "text/x-python",
   "name": "python",
   "nbconvert_exporter": "python",
   "pygments_lexer": "ipython3",
   "version": "3.6.8"
  }
 },
 "nbformat": 4,
 "nbformat_minor": 2
}
