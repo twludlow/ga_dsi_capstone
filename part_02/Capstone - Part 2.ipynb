{
 "cells": [
  {
   "cell_type": "markdown",
   "metadata": {},
   "source": [
    "# Capstone Project: Part 2 - Problem Statement, EDA, Datasets"
   ]
  },
  {
   "cell_type": "markdown",
   "metadata": {},
   "source": [
    "## Thomas Ludlow, DSI-NY-6 1/16/19"
   ]
  },
  {
   "cell_type": "markdown",
   "metadata": {},
   "source": [
    "For Part 1 of our Capstone Project preparation, we shared 3 project ideas in a lightning talk format.  My initial ideas included:\n",
    " - Music feature extraction\n",
    " - Spotify music feature manipulation\n",
    " - NYC taxi/ride-sharing optimization\n",
    " \n",
    "After discussion with DSI instructors and reflection on potential topics, I have decided to pursue a project not included among my intial ideas:\n",
    "\n",
    "**Using Natural Language Processing (NLP) to identify similarities in text passages to historical texts and literature**\n",
    "\n",
    "I find this area of machine learning fascinating, and I believe that this project will be both scaleable and adaptable to pursue within the ~5 week period remaining in the course."
   ]
  },
  {
   "cell_type": "markdown",
   "metadata": {},
   "source": [
    "### Problem Statement"
   ]
  },
  {
   "cell_type": "markdown",
   "metadata": {},
   "source": [
    "**I will use Natural Language Processing (NLP) tools such as Python's NLTK to \"factorize\" a passage of text by identifying and quantifying similarities between the passage and historical texts and literature.  Starting with sentences then expanding to paragraphs and longer, I will identify grammatical patterns and word similarities and measure the amount of stylistic and content alignment with historical/philosophical text and classic literature, available online at the Gutenberg Project.**"
   ]
  },
  {
   "cell_type": "markdown",
   "metadata": {},
   "source": [
    "### Methods and Models"
   ]
  },
  {
   "cell_type": "markdown",
   "metadata": {},
   "source": [
    "Initial data processing approaches will include:\n",
    " - Tokenizing\n",
    " - Stemming\n",
    " - Lemmatizing\n",
    " - Part of Speech Tagging\n",
    " - Dependency Parsing\n",
    " - n-grams of 2-10\n",
    " \n",
    "Models and tools will include:\n",
    " - Bayesian Prediction\n",
    " - Natural Language Tool Kit (NLTK) library\n",
    " - WordNet NLP library\n",
    " - Word2Vector, with/without Wikipedia Training\n",
    " - TensorFlow\n",
    " - Vector Space Models\n",
    " \n",
    "The approach for this project will begin with a single training corpus from the Gutenberg Project Top 100 classics list, and will build a Neural Net model.  Once a method of identifying stylistic and word similarity is established and calibrated, additional works will be added and similarity results can be compared between differing training texts.\n",
    "\n",
    "Success will be measured judged against an increasing size comparison between sets of identical content, highly similar content, somewhat similar content, and totally dissimilar content.  When a second model is added, these test sets will be run, as well as comparing degrees of difference between the two models.  These results will indicate the quality level of the factorizing model.\n"
   ]
  },
  {
   "cell_type": "markdown",
   "metadata": {},
   "source": [
    "### Data and Sources"
   ]
  },
  {
   "cell_type": "markdown",
   "metadata": {},
   "source": [
    "The Gutenberg Project\n",
    " - Philosophy texts: https://www.gutenberg.org/wiki/Philosophy_(Bookshelf)\n",
    " - Classic literature: https://www.gutenberg.org/browse/scores/top\n",
    " \n",
    "I will start with \"The Republic\" by Plato, and \"The Categories\" by Aristotle.\n",
    "\n",
    "Textfiles.com: http://www.textfiles.com/etext/FICTION/"
   ]
  },
  {
   "cell_type": "markdown",
   "metadata": {},
   "source": [
    "### Risks and Assumptions"
   ]
  },
  {
   "cell_type": "markdown",
   "metadata": {},
   "source": [
    "The main risk associated with this project is that the scale will be insufficient to achieve the goal of multiple models comparing similarity to multiple works.  Another risk is that results will be too small in general to connote meaningful relationships between texts.  \n",
    "\n",
    "I am assuming that Neural Net models will be able to identify the type of connections between works, and that it will be able to perform at scale.  "
   ]
  },
  {
   "cell_type": "markdown",
   "metadata": {},
   "source": [
    "### Training Corpus Samples, EDA"
   ]
  },
  {
   "cell_type": "code",
   "execution_count": 2,
   "metadata": {},
   "outputs": [],
   "source": [
    "import nltk\n",
    "import pandas as pd"
   ]
  },
  {
   "cell_type": "code",
   "execution_count": 11,
   "metadata": {},
   "outputs": [],
   "source": [
    "plato_file = open('../data/plato_republic.txt','r')\n",
    "aristotle_file = open('../data/aristotle_categories.txt','r')"
   ]
  },
  {
   "cell_type": "code",
   "execution_count": 12,
   "metadata": {},
   "outputs": [],
   "source": [
    "plato = plato_file.readlines()\n",
    "aristotle = aristotle_file.readlines()"
   ]
  },
  {
   "cell_type": "code",
   "execution_count": 13,
   "metadata": {},
   "outputs": [
    {
     "data": {
      "text/plain": [
       "24693"
      ]
     },
     "execution_count": 13,
     "metadata": {},
     "output_type": "execute_result"
    }
   ],
   "source": [
    "len(plato)"
   ]
  },
  {
   "cell_type": "code",
   "execution_count": 14,
   "metadata": {},
   "outputs": [
    {
     "data": {
      "text/plain": [
       "1861"
      ]
     },
     "execution_count": 14,
     "metadata": {},
     "output_type": "execute_result"
    }
   ],
   "source": [
    "len(aristotle)"
   ]
  },
  {
   "cell_type": "code",
   "execution_count": 17,
   "metadata": {
    "scrolled": true
   },
   "outputs": [],
   "source": [
    "plato_lines = plato[8494:24328] # contents of work"
   ]
  },
  {
   "cell_type": "code",
   "execution_count": 28,
   "metadata": {},
   "outputs": [],
   "source": [
    "aristotle_lines = aristotle[37:1492] # contents of work"
   ]
  },
  {
   "cell_type": "code",
   "execution_count": 27,
   "metadata": {
    "scrolled": false
   },
   "outputs": [],
   "source": [
    "plato_par = plato_lines[116:141]"
   ]
  },
  {
   "cell_type": "code",
   "execution_count": 30,
   "metadata": {},
   "outputs": [
    {
     "data": {
      "text/plain": [
       "['I will tell you, Socrates, he said, what my own feeling is. Men of my\\n',\n",
       " 'age flock together; we are birds of a feather, as the old proverb says;\\n',\n",
       " 'and at our meetings the tale of my acquaintance commonly is--I cannot\\n',\n",
       " 'eat, I cannot drink; the pleasures of youth and love are fled away:\\n',\n",
       " 'there was a good time once, but now that is gone, and life is no longer\\n',\n",
       " 'life. Some complain of the slights which are put upon them by relations,\\n',\n",
       " 'and they will tell you sadly of how many evils their old age is the\\n',\n",
       " 'cause. But to me, Socrates, these complainers seem to blame that which\\n',\n",
       " 'is not really in fault. For if old age were the cause, I too being old,\\n',\n",
       " 'and every other old man, would have felt as they do. But this is not\\n',\n",
       " 'my own experience, nor that of others whom I have known. How well I\\n',\n",
       " 'remember the aged poet Sophocles, when in answer to the question, How\\n',\n",
       " 'does love suit with age, Sophocles,--are you still the man you were?\\n',\n",
       " 'Peace, he replied; most gladly have I escaped the thing of which you\\n',\n",
       " 'speak; I feel as if I had escaped from a mad and furious master. His\\n',\n",
       " 'words have often occurred to my mind since, and they seem as good to\\n',\n",
       " 'me now as at the time when he uttered them. For certainly old age has\\n',\n",
       " 'a great sense of calm and freedom; when the passions relax their hold,\\n',\n",
       " 'then, as Sophocles says, we are freed from the grasp not of one mad\\n',\n",
       " 'master only, but of many. The truth is, Socrates, that these regrets,\\n',\n",
       " 'and also the complaints about relations, are to be attributed to the\\n',\n",
       " \"same cause, which is not old age, but men's characters and tempers; for\\n\",\n",
       " 'he who is of a calm and happy nature will hardly feel the pressure of\\n',\n",
       " 'age, but to him who is of an opposite disposition youth and age are\\n',\n",
       " 'equally a burden.\\n']"
      ]
     },
     "execution_count": 30,
     "metadata": {},
     "output_type": "execute_result"
    }
   ],
   "source": [
    "plato_par"
   ]
  },
  {
   "cell_type": "code",
   "execution_count": 36,
   "metadata": {
    "scrolled": false
   },
   "outputs": [],
   "source": [
    "aristotle_par = aristotle_lines[208:222]"
   ]
  },
  {
   "cell_type": "code",
   "execution_count": 37,
   "metadata": {},
   "outputs": [
    {
     "data": {
      "text/plain": [
       "['It is a common characteristic of all substance that it is never present\\n',\n",
       " 'in a subject. For primary substance is neither present in a subject nor\\n',\n",
       " 'predicated of a subject; while, with regard to secondary substances, it\\n',\n",
       " 'is clear from the following arguments (apart from others) that they are\\n',\n",
       " \"not present in a subject. For 'man' is predicated of the individual\\n\",\n",
       " 'man, but is not present in any subject: for manhood is not present in\\n',\n",
       " \"the individual man. In the same way, 'animal' is also predicated of the\\n\",\n",
       " 'individual man, but is not present in him. Again, when a thing is\\n',\n",
       " 'present in a subject, though the name may quite well be applied to that\\n',\n",
       " 'in which it is present, the definition cannot be applied. Yet of\\n',\n",
       " 'secondary substances, not only the name, but also the definition,\\n',\n",
       " 'applies to the subject: we should use both the definition of the\\n',\n",
       " 'species and that of the genus with reference to the individual man.\\n',\n",
       " 'Thus substance cannot be present in a subject.\\n']"
      ]
     },
     "execution_count": 37,
     "metadata": {},
     "output_type": "execute_result"
    }
   ],
   "source": [
    "aristotle_par"
   ]
  },
  {
   "cell_type": "code",
   "execution_count": null,
   "metadata": {},
   "outputs": [],
   "source": []
  }
 ],
 "metadata": {
  "kernelspec": {
   "display_name": "Python 3",
   "language": "python",
   "name": "python3"
  },
  "language_info": {
   "codemirror_mode": {
    "name": "ipython",
    "version": 3
   },
   "file_extension": ".py",
   "mimetype": "text/x-python",
   "name": "python",
   "nbconvert_exporter": "python",
   "pygments_lexer": "ipython3",
   "version": "3.6.6"
  }
 },
 "nbformat": 4,
 "nbformat_minor": 2
}
